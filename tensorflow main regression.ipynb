{
 "cells": [
  {
   "cell_type": "code",
   "execution_count": 1,
   "id": "a5dcadf0",
   "metadata": {},
   "outputs": [
    {
     "name": "stderr",
     "output_type": "stream",
     "text": [
      "d:\\Users\\Public\\lib\\site-packages\\scipy\\__init__.py:146: UserWarning: A NumPy version >=1.16.5 and <1.23.0 is required for this version of SciPy (detected version 1.26.1\n",
      "  warnings.warn(f\"A NumPy version >={np_minversion} and <{np_maxversion}\"\n"
     ]
    }
   ],
   "source": [
    "import tensorflow as tf"
   ]
  },
  {
   "cell_type": "markdown",
   "id": "32c68771",
   "metadata": {},
   "source": [
    "## neural network regression with tensorflow"
   ]
  },
  {
   "cell_type": "markdown",
   "id": "f9ca72c2",
   "metadata": {},
   "source": [
    " #### introduction to regression with neural networks in tensorflow"
   ]
  },
  {
   "cell_type": "markdown",
   "id": "75e9a32f",
   "metadata": {},
   "source": [
    "## creating data to view and fit"
   ]
  },
  {
   "cell_type": "code",
   "execution_count": 41,
   "id": "13cc4173",
   "metadata": {},
   "outputs": [],
   "source": [
    "import numpy as np\n",
    "import matplotlib.pyplot as plt"
   ]
  },
  {
   "cell_type": "code",
   "execution_count": 42,
   "id": "34fce4ff",
   "metadata": {},
   "outputs": [],
   "source": [
    "# create features \n",
    "\n",
    "x = np.array([-7.0,-4.0,-1.0,2.0,5.0,8.0,11.0,14.0])"
   ]
  },
  {
   "cell_type": "code",
   "execution_count": 43,
   "id": "ef2691e1",
   "metadata": {},
   "outputs": [],
   "source": [
    "# create labels \n",
    "\n",
    "y =np.array([3.0,6.0,9.0,12.0,15.0,18.,21.0,24.0])"
   ]
  },
  {
   "cell_type": "code",
   "execution_count": 44,
   "id": "b9e85889",
   "metadata": {},
   "outputs": [
    {
     "data": {
      "text/plain": [
       "<matplotlib.collections.PathCollection at 0x1c6a13441f0>"
      ]
     },
     "execution_count": 44,
     "metadata": {},
     "output_type": "execute_result"
    },
    {
     "data": {
      "image/png": "[encoded data removed]",
      "text/plain": [
       "<Figure size 432x288 with 1 Axes>"
      ]
     },
     "metadata": {
      "needs_background": "light"
     },
     "output_type": "display_data"
    }
   ],
   "source": [
    "# visualize\n",
    "\n",
    "plt.scatter(x,y)"
   ]
  },
  {
   "cell_type": "code",
   "execution_count": 45,
   "id": "4876049e",
   "metadata": {},
   "outputs": [
    {
     "data": {
      "text/plain": [
       "array([ True,  True,  True,  True,  True,  True,  True,  True])"
      ]
     },
     "execution_count": 45,
     "metadata": {},
     "output_type": "execute_result"
    }
   ],
   "source": [
    "y == x +10  # relationship between x and y or relationship between dependent and independent variable"
   ]
  },
  {
   "cell_type": "markdown",
   "id": "de726d46",
   "metadata": {},
   "source": [
    "## input and output shapes "
   ]
  },
  {
   "cell_type": "code",
   "execution_count": 46,
   "id": "44be8640",
   "metadata": {},
   "outputs": [
    {
     "data": {
      "text/plain": [
       "(<tf.Tensor: shape=(3,), dtype=string, numpy=array([b'bedroom ', b'bathroom', b'garage'], dtype=object)>,\n",
       " <tf.Tensor: shape=(1,), dtype=int32, numpy=array([939700])>)"
      ]
     },
     "execution_count": 46,
     "metadata": {},
     "output_type": "execute_result"
    }
   ],
   "source": [
    "# create a demo tensor for our housing price prediction problem\n",
    "\n",
    "house_info = tf.constant(['bedroom ','bathroom' , 'garage'])\n",
    "\n",
    "house_price = tf.constant([939700])\n",
    "\n",
    "house_info , house_price"
   ]
  },
  {
   "cell_type": "code",
   "execution_count": 47,
   "id": "49f9ca6c",
   "metadata": {},
   "outputs": [
    {
     "data": {
      "text/plain": [
       "((8,), (8,))"
      ]
     },
     "execution_count": 47,
     "metadata": {},
     "output_type": "execute_result"
    }
   ],
   "source": [
    "input_shape = x.shape\n",
    "\n",
    "output_shape = y.shape\n",
    "\n",
    "input_shape , output_shape"
   ]
  },
  {
   "cell_type": "code",
   "execution_count": 48,
   "id": "11515827",
   "metadata": {},
   "outputs": [
    {
     "data": {
      "text/plain": [
       "(-7.0, 3.0)"
      ]
     },
     "execution_count": 48,
     "metadata": {},
     "output_type": "execute_result"
    }
   ],
   "source": [
    "x[0] , y[0]\n",
    "\n",
    "# we are using one x value to predict the one y value "
   ]
  },
  {
   "cell_type": "markdown",
   "id": "c785dbe1",
   "metadata": {},
   "source": [
    "so here also we are using one house  as an input to predict the price of one house "
   ]
  },
  {
   "cell_type": "code",
   "execution_count": 49,
   "id": "f6efcd14",
   "metadata": {},
   "outputs": [
    {
     "data": {
      "text/plain": [
       "()"
      ]
     },
     "execution_count": 49,
     "metadata": {},
     "output_type": "execute_result"
    }
   ],
   "source": [
    "x[0].shape"
   ]
  },
  {
   "cell_type": "code",
   "execution_count": 50,
   "id": "fd3a36aa",
   "metadata": {},
   "outputs": [
    {
     "data": {
      "text/plain": [
       "0"
      ]
     },
     "execution_count": 50,
     "metadata": {},
     "output_type": "execute_result"
    }
   ],
   "source": [
    "x[0].ndim"
   ]
  },
  {
   "cell_type": "code",
   "execution_count": 51,
   "id": "b0679120",
   "metadata": {},
   "outputs": [],
   "source": [
    "# turn out numpy arrays into tensors \n",
    "\n",
    "x = tf.constant(x)\n",
    "y = tf.constant(y)"
   ]
  },
  {
   "cell_type": "code",
   "execution_count": 52,
   "id": "5f413c74",
   "metadata": {},
   "outputs": [
    {
     "data": {
      "text/plain": [
       "(<tf.Tensor: shape=(8,), dtype=float64, numpy=array([-7., -4., -1.,  2.,  5.,  8., 11., 14.])>,\n",
       " <tf.Tensor: shape=(8,), dtype=float64, numpy=array([ 3.,  6.,  9., 12., 15., 18., 21., 24.])>)"
      ]
     },
     "execution_count": 52,
     "metadata": {},
     "output_type": "execute_result"
    }
   ],
   "source": [
    "x,y"
   ]
  },
  {
   "cell_type": "code",
   "execution_count": 53,
   "id": "2538d8bf",
   "metadata": {},
   "outputs": [
    {
     "data": {
      "text/plain": [
       "TensorShape([])"
      ]
     },
     "execution_count": 53,
     "metadata": {},
     "output_type": "execute_result"
    }
   ],
   "source": [
    "x[0].shape # when there is no dimension we will get a scaler value "
   ]
  },
  {
   "cell_type": "code",
   "execution_count": 54,
   "id": "008f6f7f",
   "metadata": {},
   "outputs": [
    {
     "data": {
      "text/plain": [
       "TensorShape([])"
      ]
     },
     "execution_count": 54,
     "metadata": {},
     "output_type": "execute_result"
    }
   ],
   "source": [
    "y[0].shape"
   ]
  },
  {
   "cell_type": "code",
   "execution_count": 55,
   "id": "3b9b70f8",
   "metadata": {},
   "outputs": [
    {
     "data": {
      "text/plain": [
       "<matplotlib.collections.PathCollection at 0x1c6a12de1c0>"
      ]
     },
     "execution_count": 55,
     "metadata": {},
     "output_type": "execute_result"
    },
    {
     "data": {
      "image/png": "[encoded data removed]",
      "text/plain": [
       "<Figure size 432x288 with 1 Axes>"
      ]
     },
     "metadata": {
      "needs_background": "light"
     },
     "output_type": "display_data"
    }
   ],
   "source": [
    "plt.scatter(x,y)"
   ]
  },
  {
   "cell_type": "markdown",
   "id": "88ef7a49",
   "metadata": {},
   "source": [
    "## steps in modeling with tensorflow"
   ]
  },
  {
   "cell_type": "markdown",
   "id": "c379a6f7",
   "metadata": {},
   "source": [
    " 1. create a model  -- define the input and output layers as well as hidden layers of a deep learning model\n",
    "\n",
    " 2. compiling a model -- define  the loss function (in other words , the function which tells our model how wrong it is ) and the optimizer (tells our model how to improve the patterns its learning) and evaluation metrics (what we can use to interpret the performance of a model)\n",
    " \n",
    " 3. fitting a model -- letting the model try to find patterns between  x and y (features and labels )"
   ]
  },
  {
   "cell_type": "code",
   "execution_count": 56,
   "id": "12ce35b4",
   "metadata": {},
   "outputs": [],
   "source": [
    "# set random seed\n",
    "\n",
    "tf.random.set_seed(42)\n",
    "\n",
    "# create a model using the sequential API\n",
    "\n",
    "model = tf.keras.Sequential(\n",
    "[\n",
    "    tf.keras.layers.Dense(1),\n",
    "    tf.keras.layers.Dense(1)\n",
    "]\n",
    "\n",
    "\n",
    ")\n",
    "\n"
   ]
  },
  {
   "cell_type": "code",
   "execution_count": 57,
   "id": "bb03a947",
   "metadata": {},
   "outputs": [],
   "source": [
    "# compile the model \n",
    "\n",
    "model.compile(loss=tf.keras.losses.mae,optimizer = tf.keras.optimizers.SGD(),metrics =['mae'])"
   ]
  },
  {
   "cell_type": "code",
   "execution_count": 58,
   "id": "71bd12c3",
   "metadata": {
    "scrolled": true
   },
   "outputs": [
    {
     "name": "stdout",
     "output_type": "stream",
     "text": [
      "Epoch 1/5\n"
     ]
    },
    {
     "ename": "ValueError",
     "evalue": "in user code:\n\n    File \"d:\\Users\\Public\\lib\\site-packages\\keras\\src\\engine\\training.py\", line 1377, in train_function  *\n        return step_function(self, iterator)\n    File \"d:\\Users\\Public\\lib\\site-packages\\keras\\src\\engine\\training.py\", line 1360, in step_function  **\n        outputs = model.distribute_strategy.run(run_step, args=(data,))\n    File \"d:\\Users\\Public\\lib\\site-packages\\keras\\src\\engine\\training.py\", line 1349, in run_step  **\n        outputs = model.train_step(data)\n    File \"d:\\Users\\Public\\lib\\site-packages\\keras\\src\\engine\\training.py\", line 1126, in train_step\n        y_pred = self(x, training=True)\n    File \"d:\\Users\\Public\\lib\\site-packages\\keras\\src\\utils\\traceback_utils.py\", line 70, in error_handler\n        raise e.with_traceback(filtered_tb) from None\n    File \"d:\\Users\\Public\\lib\\site-packages\\keras\\src\\engine\\input_spec.py\", line 253, in assert_input_compatibility\n        raise ValueError(\n\n    ValueError: Exception encountered when calling layer 'sequential_3' (type Sequential).\n    \n    Input 0 of layer \"dense_4\" is incompatible with the layer: expected min_ndim=2, found ndim=1. Full shape received: (None,)\n    \n    Call arguments received by layer 'sequential_3' (type Sequential):\n      • inputs=tf.Tensor(shape=(None,), dtype=float64)\n      • training=True\n      • mask=None\n",
     "output_type": "error",
     "traceback": [
      "\u001b[1;31m---------------------------------------------------------------------------\u001b[0m",
      "\u001b[1;31mValueError\u001b[0m                                Traceback (most recent call last)",
      "\u001b[1;32m~\\AppData\\Local\\Temp/ipykernel_13772/1328393846.py\u001b[0m in \u001b[0;36m<module>\u001b[1;34m\u001b[0m\n\u001b[0;32m      1\u001b[0m \u001b[1;31m# fit the model\u001b[0m\u001b[1;33m\u001b[0m\u001b[1;33m\u001b[0m\u001b[0m\n\u001b[0;32m      2\u001b[0m \u001b[1;33m\u001b[0m\u001b[0m\n\u001b[1;32m----> 3\u001b[1;33m \u001b[0mmodel\u001b[0m\u001b[1;33m.\u001b[0m\u001b[0mfit\u001b[0m\u001b[1;33m(\u001b[0m\u001b[0mx\u001b[0m\u001b[1;33m,\u001b[0m\u001b[0my\u001b[0m\u001b[1;33m,\u001b[0m\u001b[0mepochs\u001b[0m\u001b[1;33m=\u001b[0m\u001b[1;36m5\u001b[0m\u001b[1;33m)\u001b[0m\u001b[1;33m\u001b[0m\u001b[1;33m\u001b[0m\u001b[0m\n\u001b[0m",
      "\u001b[1;32md:\\Users\\Public\\lib\\site-packages\\keras\\src\\utils\\traceback_utils.py\u001b[0m in \u001b[0;36merror_handler\u001b[1;34m(*args, **kwargs)\u001b[0m\n\u001b[0;32m     68\u001b[0m             \u001b[1;31m# To get the full stack trace, call:\u001b[0m\u001b[1;33m\u001b[0m\u001b[1;33m\u001b[0m\u001b[0m\n\u001b[0;32m     69\u001b[0m             \u001b[1;31m# `tf.debugging.disable_traceback_filtering()`\u001b[0m\u001b[1;33m\u001b[0m\u001b[1;33m\u001b[0m\u001b[0m\n\u001b[1;32m---> 70\u001b[1;33m             \u001b[1;32mraise\u001b[0m \u001b[0me\u001b[0m\u001b[1;33m.\u001b[0m\u001b[0mwith_traceback\u001b[0m\u001b[1;33m(\u001b[0m\u001b[0mfiltered_tb\u001b[0m\u001b[1;33m)\u001b[0m \u001b[1;32mfrom\u001b[0m \u001b[1;32mNone\u001b[0m\u001b[1;33m\u001b[0m\u001b[1;33m\u001b[0m\u001b[0m\n\u001b[0m\u001b[0;32m     71\u001b[0m         \u001b[1;32mfinally\u001b[0m\u001b[1;33m:\u001b[0m\u001b[1;33m\u001b[0m\u001b[1;33m\u001b[0m\u001b[0m\n\u001b[0;32m     72\u001b[0m             \u001b[1;32mdel\u001b[0m \u001b[0mfiltered_tb\u001b[0m\u001b[1;33m\u001b[0m\u001b[1;33m\u001b[0m\u001b[0m\n",
      "\u001b[1;32md:\\Users\\Public\\lib\\site-packages\\keras\\src\\engine\\training.py\u001b[0m in \u001b[0;36mtf__train_function\u001b[1;34m(iterator)\u001b[0m\n\u001b[0;32m     13\u001b[0m                 \u001b[1;32mtry\u001b[0m\u001b[1;33m:\u001b[0m\u001b[1;33m\u001b[0m\u001b[1;33m\u001b[0m\u001b[0m\n\u001b[0;32m     14\u001b[0m                     \u001b[0mdo_return\u001b[0m \u001b[1;33m=\u001b[0m \u001b[1;32mTrue\u001b[0m\u001b[1;33m\u001b[0m\u001b[1;33m\u001b[0m\u001b[0m\n\u001b[1;32m---> 15\u001b[1;33m                     \u001b[0mretval_\u001b[0m \u001b[1;33m=\u001b[0m \u001b[0mag__\u001b[0m\u001b[1;33m.\u001b[0m\u001b[0mconverted_call\u001b[0m\u001b[1;33m(\u001b[0m\u001b[0mag__\u001b[0m\u001b[1;33m.\u001b[0m\u001b[0mld\u001b[0m\u001b[1;33m(\u001b[0m\u001b[0mstep_function\u001b[0m\u001b[1;33m)\u001b[0m\u001b[1;33m,\u001b[0m \u001b[1;33m(\u001b[0m\u001b[0mag__\u001b[0m\u001b[1;33m.\u001b[0m\u001b[0mld\u001b[0m\u001b[1;33m(\u001b[0m\u001b[0mself\u001b[0m\u001b[1;33m)\u001b[0m\u001b[1;33m,\u001b[0m \u001b[0mag__\u001b[0m\u001b[1;33m.\u001b[0m\u001b[0mld\u001b[0m\u001b[1;33m(\u001b[0m\u001b[0miterator\u001b[0m\u001b[1;33m)\u001b[0m\u001b[1;33m)\u001b[0m\u001b[1;33m,\u001b[0m \u001b[1;32mNone\u001b[0m\u001b[1;33m,\u001b[0m \u001b[0mfscope\u001b[0m\u001b[1;33m)\u001b[0m\u001b[1;33m\u001b[0m\u001b[1;33m\u001b[0m\u001b[0m\n\u001b[0m\u001b[0;32m     16\u001b[0m                 \u001b[1;32mexcept\u001b[0m\u001b[1;33m:\u001b[0m\u001b[1;33m\u001b[0m\u001b[1;33m\u001b[0m\u001b[0m\n\u001b[0;32m     17\u001b[0m                     \u001b[0mdo_return\u001b[0m \u001b[1;33m=\u001b[0m \u001b[1;32mFalse\u001b[0m\u001b[1;33m\u001b[0m\u001b[1;33m\u001b[0m\u001b[0m\n",
      "\u001b[1;31mValueError\u001b[0m: in user code:\n\n    File \"d:\\Users\\Public\\lib\\site-packages\\keras\\src\\engine\\training.py\", line 1377, in train_function  *\n        return step_function(self, iterator)\n    File \"d:\\Users\\Public\\lib\\site-packages\\keras\\src\\engine\\training.py\", line 1360, in step_function  **\n        outputs = model.distribute_strategy.run(run_step, args=(data,))\n    File \"d:\\Users\\Public\\lib\\site-packages\\keras\\src\\engine\\training.py\", line 1349, in run_step  **\n        outputs = model.train_step(data)\n    File \"d:\\Users\\Public\\lib\\site-packages\\keras\\src\\engine\\training.py\", line 1126, in train_step\n        y_pred = self(x, training=True)\n    File \"d:\\Users\\Public\\lib\\site-packages\\keras\\src\\utils\\traceback_utils.py\", line 70, in error_handler\n        raise e.with_traceback(filtered_tb) from None\n    File \"d:\\Users\\Public\\lib\\site-packages\\keras\\src\\engine\\input_spec.py\", line 253, in assert_input_compatibility\n        raise ValueError(\n\n    ValueError: Exception encountered when calling layer 'sequential_3' (type Sequential).\n    \n    Input 0 of layer \"dense_4\" is incompatible with the layer: expected min_ndim=2, found ndim=1. Full shape received: (None,)\n    \n    Call arguments received by layer 'sequential_3' (type Sequential):\n      • inputs=tf.Tensor(shape=(None,), dtype=float64)\n      • training=True\n      • mask=None\n"
     ]
    }
   ],
   "source": [
    "# fit the model\n",
    "\n",
    "model.fit(x,y,epochs=5)  "
   ]
  },
  {
   "cell_type": "markdown",
   "id": "985d766b",
   "metadata": {},
   "source": [
    "here the error is because of less dimensions of the tensor and the we have created the tensors through arrays so the dtype is float64 and we need to convert it into float 32"
   ]
  },
  {
   "cell_type": "code",
   "execution_count": 59,
   "id": "8ff800a0",
   "metadata": {},
   "outputs": [],
   "source": [
    "x = tf.cast(x,dtype=tf.float32)\n",
    "y = tf.cast(y,dtype=tf.float32)"
   ]
  },
  {
   "cell_type": "code",
   "execution_count": 60,
   "id": "fb46dd43",
   "metadata": {},
   "outputs": [
    {
     "data": {
      "text/plain": [
       "<tf.Tensor: shape=(8,), dtype=float32, numpy=array([-7., -4., -1.,  2.,  5.,  8., 11., 14.], dtype=float32)>"
      ]
     },
     "execution_count": 60,
     "metadata": {},
     "output_type": "execute_result"
    }
   ],
   "source": [
    "x"
   ]
  },
  {
   "cell_type": "code",
   "execution_count": 61,
   "id": "c99868a1",
   "metadata": {},
   "outputs": [],
   "source": [
    "x = tf.expand_dims(x,axis=-1)"
   ]
  },
  {
   "cell_type": "code",
   "execution_count": 66,
   "id": "9cf23d5f",
   "metadata": {},
   "outputs": [
    {
     "name": "stdout",
     "output_type": "stream",
     "text": [
      "Epoch 1/5\n",
      "1/1 [==============================] - 1s 846ms/step - loss: 12.0145 - mae: 12.0145\n",
      "Epoch 2/5\n",
      "1/1 [==============================] - 0s 12ms/step - loss: 11.8235 - mae: 11.8235\n",
      "Epoch 3/5\n",
      "1/1 [==============================] - 0s 16ms/step - loss: 11.6242 - mae: 11.6242\n",
      "Epoch 4/5\n",
      "1/1 [==============================] - 0s 16ms/step - loss: 11.4155 - mae: 11.4155\n",
      "Epoch 5/5\n",
      "1/1 [==============================] - 0s 15ms/step - loss: 11.1965 - mae: 11.1965\n"
     ]
    },
    {
     "data": {
      "text/plain": [
       "<keras.src.callbacks.History at 0x1c6a13d33d0>"
      ]
     },
     "execution_count": 66,
     "metadata": {},
     "output_type": "execute_result"
    }
   ],
   "source": [
    "# now we can compile the model\n",
    "# fit the model\n",
    "\n",
    "tf.random.set_seed(42)\n",
    "\n",
    "# create a model using the sequential API\n",
    "\n",
    "model = tf.keras.Sequential(\n",
    "[\n",
    "    tf.keras.layers.Dense(1),\n",
    "    tf.keras.layers.Dense(1)\n",
    "]\n",
    "\n",
    "\n",
    ")\n",
    "model.compile(loss=tf.keras.losses.mae,optimizer = tf.keras.optimizers.SGD(),metrics =['mae'])\n",
    "\n",
    "model.fit(x,y,epochs=5)  # we need to make loss == 0 "
   ]
  },
  {
   "cell_type": "code",
   "execution_count": 63,
   "id": "19be8f05",
   "metadata": {},
   "outputs": [
    {
     "data": {
      "text/plain": [
       "(<tf.Tensor: shape=(8, 1), dtype=float32, numpy=\n",
       " array([[-7.],\n",
       "        [-4.],\n",
       "        [-1.],\n",
       "        [ 2.],\n",
       "        [ 5.],\n",
       "        [ 8.],\n",
       "        [11.],\n",
       "        [14.]], dtype=float32)>,\n",
       " <tf.Tensor: shape=(8,), dtype=float32, numpy=array([ 3.,  6.,  9., 12., 15., 18., 21., 24.], dtype=float32)>)"
      ]
     },
     "execution_count": 63,
     "metadata": {},
     "output_type": "execute_result"
    }
   ],
   "source": [
    "# check out x and y\n",
    "\n",
    "x,y"
   ]
  },
  {
   "cell_type": "code",
   "execution_count": 67,
   "id": "84a407cd",
   "metadata": {},
   "outputs": [
    {
     "name": "stdout",
     "output_type": "stream",
     "text": [
      "1/1 [==============================] - 0s 261ms/step\n"
     ]
    }
   ],
   "source": [
    "# try and make a prediction using our model\n",
    "\n",
    "y_pred=model.predict([17.0])"
   ]
  },
  {
   "cell_type": "code",
   "execution_count": 68,
   "id": "4f91a797",
   "metadata": {},
   "outputs": [
    {
     "data": {
      "text/plain": [
       "array([[12.064958]], dtype=float32)"
      ]
     },
     "execution_count": 68,
     "metadata": {},
     "output_type": "execute_result"
    }
   ],
   "source": [
    "y_pred"
   ]
  },
  {
   "cell_type": "code",
   "execution_count": 69,
   "id": "6e28c333",
   "metadata": {},
   "outputs": [
    {
     "data": {
      "text/plain": [
       "array([[27.064957]], dtype=float32)"
      ]
     },
     "execution_count": 69,
     "metadata": {},
     "output_type": "execute_result"
    }
   ],
   "source": [
    "y_pred + 15\n",
    "\n",
    "# this model is not predicting well so we need to improve the model "
   ]
  },
  {
   "cell_type": "markdown",
   "id": "fc5cda9f",
   "metadata": {},
   "source": [
    "## improving the model"
   ]
  },
  {
   "cell_type": "markdown",
   "id": "5dc0c44e",
   "metadata": {},
   "source": [
    "we can improve the model by altering the steps we took to create a model\n",
    "\n",
    "1.**creating a model ** --- here we might add more layers , increase the number of hidden units , within each of the hidden layers change the activation function\n",
    "\n",
    "2. ** compiling a model ** --- here we might change the optimization funtion and **learning rate ** of the optmization funtion \n",
    "\n",
    "3. ** fitting a model ** --- here we might fit a model for more **epochs ** (leave it training for longer ) or on more data(give the model more examples to learn from)"
   ]
  },
  {
   "cell_type": "code",
   "execution_count": 70,
   "id": "ed39ba1c",
   "metadata": {},
   "outputs": [
    {
     "name": "stdout",
     "output_type": "stream",
     "text": [
      "Epoch 1/200\n",
      "1/1 [==============================] - 1s 702ms/step - loss: 9.3474 - mae: 9.3474\n",
      "Epoch 2/200\n",
      "1/1 [==============================] - 0s 11ms/step - loss: 9.2149 - mae: 9.2149\n",
      "Epoch 3/200\n",
      "1/1 [==============================] - 0s 12ms/step - loss: 9.0824 - mae: 9.0824\n",
      "Epoch 4/200\n",
      "1/1 [==============================] - 0s 16ms/step - loss: 8.9499 - mae: 8.9499\n",
      "Epoch 5/200\n",
      "1/1 [==============================] - 0s 16ms/step - loss: 8.8174 - mae: 8.8174\n",
      "Epoch 6/200\n",
      "1/1 [==============================] - 0s 13ms/step - loss: 8.6849 - mae: 8.6849\n",
      "Epoch 7/200\n",
      "1/1 [==============================] - 0s 13ms/step - loss: 8.5524 - mae: 8.5524\n",
      "Epoch 8/200\n",
      "1/1 [==============================] - 0s 13ms/step - loss: 8.4199 - mae: 8.4199\n",
      "Epoch 9/200\n",
      "1/1 [==============================] - 0s 12ms/step - loss: 8.2874 - mae: 8.2874\n",
      "Epoch 10/200\n",
      "1/1 [==============================] - 0s 11ms/step - loss: 8.1549 - mae: 8.1549\n",
      "Epoch 11/200\n",
      "1/1 [==============================] - 0s 15ms/step - loss: 8.0224 - mae: 8.0224\n",
      "Epoch 12/200\n",
      "1/1 [==============================] - 0s 11ms/step - loss: 7.8899 - mae: 7.8899\n",
      "Epoch 13/200\n",
      "1/1 [==============================] - 0s 13ms/step - loss: 7.7574 - mae: 7.7574\n",
      "Epoch 14/200\n",
      "1/1 [==============================] - 0s 12ms/step - loss: 7.6249 - mae: 7.6249\n",
      "Epoch 15/200\n",
      "1/1 [==============================] - 0s 14ms/step - loss: 7.4924 - mae: 7.4924\n",
      "Epoch 16/200\n",
      "1/1 [==============================] - 0s 13ms/step - loss: 7.3875 - mae: 7.3875\n",
      "Epoch 17/200\n",
      "1/1 [==============================] - 0s 15ms/step - loss: 7.3819 - mae: 7.3819\n",
      "Epoch 18/200\n",
      "1/1 [==============================] - 0s 14ms/step - loss: 7.3763 - mae: 7.3763\n",
      "Epoch 19/200\n",
      "1/1 [==============================] - 0s 12ms/step - loss: 7.3706 - mae: 7.3706\n",
      "Epoch 20/200\n",
      "1/1 [==============================] - 0s 15ms/step - loss: 7.3650 - mae: 7.3650\n",
      "Epoch 21/200\n",
      "1/1 [==============================] - 0s 13ms/step - loss: 7.3594 - mae: 7.3594\n",
      "Epoch 22/200\n",
      "1/1 [==============================] - 0s 15ms/step - loss: 7.3538 - mae: 7.3538\n",
      "Epoch 23/200\n",
      "1/1 [==============================] - 0s 13ms/step - loss: 7.3481 - mae: 7.3481\n",
      "Epoch 24/200\n",
      "1/1 [==============================] - 0s 12ms/step - loss: 7.3425 - mae: 7.3425\n",
      "Epoch 25/200\n",
      "1/1 [==============================] - 0s 13ms/step - loss: 7.3369 - mae: 7.3369\n",
      "Epoch 26/200\n",
      "1/1 [==============================] - 0s 14ms/step - loss: 7.3313 - mae: 7.3313\n",
      "Epoch 27/200\n",
      "1/1 [==============================] - 0s 10ms/step - loss: 7.3256 - mae: 7.3256\n",
      "Epoch 28/200\n",
      "1/1 [==============================] - 0s 12ms/step - loss: 7.3200 - mae: 7.3200\n",
      "Epoch 29/200\n",
      "1/1 [==============================] - 0s 15ms/step - loss: 7.3144 - mae: 7.3144\n",
      "Epoch 30/200\n",
      "1/1 [==============================] - 0s 15ms/step - loss: 7.3088 - mae: 7.3088\n",
      "Epoch 31/200\n",
      "1/1 [==============================] - 0s 13ms/step - loss: 7.3031 - mae: 7.3031\n",
      "Epoch 32/200\n",
      "1/1 [==============================] - 0s 12ms/step - loss: 7.2975 - mae: 7.2975\n",
      "Epoch 33/200\n",
      "1/1 [==============================] - 0s 13ms/step - loss: 7.2919 - mae: 7.2919\n",
      "Epoch 34/200\n",
      "1/1 [==============================] - 0s 15ms/step - loss: 7.2862 - mae: 7.2862\n",
      "Epoch 35/200\n",
      "1/1 [==============================] - 0s 13ms/step - loss: 7.2806 - mae: 7.2806\n",
      "Epoch 36/200\n",
      "1/1 [==============================] - 0s 13ms/step - loss: 7.2750 - mae: 7.2750\n",
      "Epoch 37/200\n",
      "1/1 [==============================] - 0s 11ms/step - loss: 7.2694 - mae: 7.2694\n",
      "Epoch 38/200\n",
      "1/1 [==============================] - 0s 14ms/step - loss: 7.2638 - mae: 7.2638\n",
      "Epoch 39/200\n",
      "1/1 [==============================] - 0s 15ms/step - loss: 7.2581 - mae: 7.2581\n",
      "Epoch 40/200\n",
      "1/1 [==============================] - 0s 12ms/step - loss: 7.2525 - mae: 7.2525\n",
      "Epoch 41/200\n",
      "1/1 [==============================] - 0s 12ms/step - loss: 7.2469 - mae: 7.2469\n",
      "Epoch 42/200\n",
      "1/1 [==============================] - 0s 13ms/step - loss: 7.2412 - mae: 7.2412\n",
      "Epoch 43/200\n",
      "1/1 [==============================] - 0s 14ms/step - loss: 7.2356 - mae: 7.2356\n",
      "Epoch 44/200\n",
      "1/1 [==============================] - 0s 15ms/step - loss: 7.2300 - mae: 7.2300\n",
      "Epoch 45/200\n",
      "1/1 [==============================] - 0s 12ms/step - loss: 7.2244 - mae: 7.2244\n",
      "Epoch 46/200\n",
      "1/1 [==============================] - 0s 12ms/step - loss: 7.2188 - mae: 7.2188\n",
      "Epoch 47/200\n",
      "1/1 [==============================] - 0s 12ms/step - loss: 7.2131 - mae: 7.2131\n",
      "Epoch 48/200\n",
      "1/1 [==============================] - 0s 14ms/step - loss: 7.2075 - mae: 7.2075\n",
      "Epoch 49/200\n",
      "1/1 [==============================] - 0s 16ms/step - loss: 7.2019 - mae: 7.2019\n",
      "Epoch 50/200\n",
      "1/1 [==============================] - 0s 15ms/step - loss: 7.1962 - mae: 7.1962\n",
      "Epoch 51/200\n",
      "1/1 [==============================] - 0s 14ms/step - loss: 7.1906 - mae: 7.1906\n",
      "Epoch 52/200\n",
      "1/1 [==============================] - 0s 16ms/step - loss: 7.1850 - mae: 7.1850\n",
      "Epoch 53/200\n",
      "1/1 [==============================] - 0s 16ms/step - loss: 7.1794 - mae: 7.1794\n",
      "Epoch 54/200\n",
      "1/1 [==============================] - 0s 14ms/step - loss: 7.1737 - mae: 7.1737\n",
      "Epoch 55/200\n",
      "1/1 [==============================] - 0s 11ms/step - loss: 7.1681 - mae: 7.1681\n",
      "Epoch 56/200\n",
      "1/1 [==============================] - 0s 14ms/step - loss: 7.1625 - mae: 7.1625\n",
      "Epoch 57/200\n",
      "1/1 [==============================] - 0s 14ms/step - loss: 7.1569 - mae: 7.1569\n",
      "Epoch 58/200\n",
      "1/1 [==============================] - 0s 11ms/step - loss: 7.1512 - mae: 7.1512\n",
      "Epoch 59/200\n",
      "1/1 [==============================] - 0s 12ms/step - loss: 7.1456 - mae: 7.1456\n",
      "Epoch 60/200\n",
      "1/1 [==============================] - 0s 11ms/step - loss: 7.1400 - mae: 7.1400\n",
      "Epoch 61/200\n",
      "1/1 [==============================] - 0s 10ms/step - loss: 7.1344 - mae: 7.1344\n",
      "Epoch 62/200\n",
      "1/1 [==============================] - 0s 14ms/step - loss: 7.1287 - mae: 7.1287\n",
      "Epoch 63/200\n",
      "1/1 [==============================] - 0s 14ms/step - loss: 7.1231 - mae: 7.1231\n",
      "Epoch 64/200\n",
      "1/1 [==============================] - 0s 12ms/step - loss: 7.1175 - mae: 7.1175\n",
      "Epoch 65/200\n",
      "1/1 [==============================] - 0s 13ms/step - loss: 7.1119 - mae: 7.1119\n",
      "Epoch 66/200\n",
      "1/1 [==============================] - 0s 13ms/step - loss: 7.1063 - mae: 7.1063\n",
      "Epoch 67/200\n",
      "1/1 [==============================] - 0s 13ms/step - loss: 7.1006 - mae: 7.1006\n",
      "Epoch 68/200\n",
      "1/1 [==============================] - 0s 14ms/step - loss: 7.0950 - mae: 7.0950\n",
      "Epoch 69/200\n",
      "1/1 [==============================] - 0s 14ms/step - loss: 7.0894 - mae: 7.0894\n",
      "Epoch 70/200\n",
      "1/1 [==============================] - 0s 12ms/step - loss: 7.0838 - mae: 7.0838\n",
      "Epoch 71/200\n",
      "1/1 [==============================] - 0s 12ms/step - loss: 7.0781 - mae: 7.0781\n",
      "Epoch 72/200\n",
      "1/1 [==============================] - 0s 11ms/step - loss: 7.0725 - mae: 7.0725\n",
      "Epoch 73/200\n",
      "1/1 [==============================] - 0s 12ms/step - loss: 7.0669 - mae: 7.0669\n",
      "Epoch 74/200\n",
      "1/1 [==============================] - 0s 14ms/step - loss: 7.0613 - mae: 7.0613\n",
      "Epoch 75/200\n",
      "1/1 [==============================] - 0s 12ms/step - loss: 7.0556 - mae: 7.0556\n",
      "Epoch 76/200\n",
      "1/1 [==============================] - 0s 12ms/step - loss: 7.0500 - mae: 7.0500\n",
      "Epoch 77/200\n",
      "1/1 [==============================] - 0s 11ms/step - loss: 7.0444 - mae: 7.0444\n",
      "Epoch 78/200\n",
      "1/1 [==============================] - 0s 11ms/step - loss: 7.0388 - mae: 7.0388\n",
      "Epoch 79/200\n",
      "1/1 [==============================] - 0s 10ms/step - loss: 7.0331 - mae: 7.0331\n",
      "Epoch 80/200\n",
      "1/1 [==============================] - 0s 10ms/step - loss: 7.0275 - mae: 7.0275\n",
      "Epoch 81/200\n",
      "1/1 [==============================] - 0s 9ms/step - loss: 7.0219 - mae: 7.0219\n",
      "Epoch 82/200\n",
      "1/1 [==============================] - 0s 11ms/step - loss: 7.0163 - mae: 7.0163\n",
      "Epoch 83/200\n",
      "1/1 [==============================] - 0s 14ms/step - loss: 7.0106 - mae: 7.0106\n",
      "Epoch 84/200\n",
      "1/1 [==============================] - 0s 15ms/step - loss: 7.0050 - mae: 7.0050\n",
      "Epoch 85/200\n",
      "1/1 [==============================] - 0s 13ms/step - loss: 6.9994 - mae: 6.9994\n",
      "Epoch 86/200\n",
      "1/1 [==============================] - 0s 13ms/step - loss: 6.9938 - mae: 6.9938\n",
      "Epoch 87/200\n",
      "1/1 [==============================] - 0s 12ms/step - loss: 6.9881 - mae: 6.9881\n",
      "Epoch 88/200\n",
      "1/1 [==============================] - 0s 13ms/step - loss: 6.9825 - mae: 6.9825\n",
      "Epoch 89/200\n",
      "1/1 [==============================] - 0s 12ms/step - loss: 6.9769 - mae: 6.9769\n",
      "Epoch 90/200\n",
      "1/1 [==============================] - 0s 11ms/step - loss: 6.9713 - mae: 6.9713\n",
      "Epoch 91/200\n",
      "1/1 [==============================] - 0s 12ms/step - loss: 6.9656 - mae: 6.9656\n",
      "Epoch 92/200\n",
      "1/1 [==============================] - 0s 12ms/step - loss: 6.9600 - mae: 6.9600\n",
      "Epoch 93/200\n",
      "1/1 [==============================] - 0s 13ms/step - loss: 6.9544 - mae: 6.9544\n",
      "Epoch 94/200\n",
      "1/1 [==============================] - 0s 11ms/step - loss: 6.9488 - mae: 6.9488\n",
      "Epoch 95/200\n",
      "1/1 [==============================] - 0s 11ms/step - loss: 6.9431 - mae: 6.9431\n",
      "Epoch 96/200\n",
      "1/1 [==============================] - 0s 12ms/step - loss: 6.9375 - mae: 6.9375\n",
      "Epoch 97/200\n",
      "1/1 [==============================] - 0s 10ms/step - loss: 6.9319 - mae: 6.9319\n",
      "Epoch 98/200\n",
      "1/1 [==============================] - 0s 10ms/step - loss: 6.9263 - mae: 6.9263\n",
      "Epoch 99/200\n",
      "1/1 [==============================] - 0s 9ms/step - loss: 6.9206 - mae: 6.9206\n",
      "Epoch 100/200\n",
      "1/1 [==============================] - 0s 10ms/step - loss: 6.9150 - mae: 6.9150\n",
      "Epoch 101/200\n",
      "1/1 [==============================] - 0s 10ms/step - loss: 6.9094 - mae: 6.9094\n",
      "Epoch 102/200\n",
      "1/1 [==============================] - 0s 12ms/step - loss: 6.9038 - mae: 6.9038\n",
      "Epoch 103/200\n",
      "1/1 [==============================] - 0s 10ms/step - loss: 6.8981 - mae: 6.8981\n",
      "Epoch 104/200\n",
      "1/1 [==============================] - 0s 10ms/step - loss: 6.8925 - mae: 6.8925\n",
      "Epoch 105/200\n",
      "1/1 [==============================] - 0s 13ms/step - loss: 6.8869 - mae: 6.8869\n",
      "Epoch 106/200\n",
      "1/1 [==============================] - 0s 12ms/step - loss: 6.8813 - mae: 6.8813\n",
      "Epoch 107/200\n",
      "1/1 [==============================] - 0s 10ms/step - loss: 6.8756 - mae: 6.8756\n",
      "Epoch 108/200\n",
      "1/1 [==============================] - 0s 11ms/step - loss: 6.8700 - mae: 6.8700\n",
      "Epoch 109/200\n",
      "1/1 [==============================] - 0s 10ms/step - loss: 6.8644 - mae: 6.8644\n",
      "Epoch 110/200\n",
      "1/1 [==============================] - 0s 13ms/step - loss: 6.8588 - mae: 6.8588\n",
      "Epoch 111/200\n",
      "1/1 [==============================] - 0s 12ms/step - loss: 6.8531 - mae: 6.8531\n",
      "Epoch 112/200\n",
      "1/1 [==============================] - 0s 10ms/step - loss: 6.8475 - mae: 6.8475\n",
      "Epoch 113/200\n",
      "1/1 [==============================] - 0s 11ms/step - loss: 6.8419 - mae: 6.8419\n",
      "Epoch 114/200\n",
      "1/1 [==============================] - 0s 10ms/step - loss: 6.8363 - mae: 6.8363\n",
      "Epoch 115/200\n",
      "1/1 [==============================] - 0s 10ms/step - loss: 6.8306 - mae: 6.8306\n",
      "Epoch 116/200\n",
      "1/1 [==============================] - 0s 10ms/step - loss: 6.8250 - mae: 6.8250\n",
      "Epoch 117/200\n",
      "1/1 [==============================] - 0s 10ms/step - loss: 6.8194 - mae: 6.8194\n",
      "Epoch 118/200\n",
      "1/1 [==============================] - 0s 11ms/step - loss: 6.8138 - mae: 6.8138\n",
      "Epoch 119/200\n",
      "1/1 [==============================] - 0s 12ms/step - loss: 6.8081 - mae: 6.8081\n",
      "Epoch 120/200\n",
      "1/1 [==============================] - 0s 12ms/step - loss: 6.8025 - mae: 6.8025\n",
      "Epoch 121/200\n",
      "1/1 [==============================] - 0s 12ms/step - loss: 6.7969 - mae: 6.7969\n",
      "Epoch 122/200\n",
      "1/1 [==============================] - 0s 12ms/step - loss: 6.7913 - mae: 6.7913\n",
      "Epoch 123/200\n",
      "1/1 [==============================] - 0s 11ms/step - loss: 6.7856 - mae: 6.7856\n",
      "Epoch 124/200\n",
      "1/1 [==============================] - 0s 13ms/step - loss: 6.7800 - mae: 6.7800\n",
      "Epoch 125/200\n",
      "1/1 [==============================] - 0s 16ms/step - loss: 6.7744 - mae: 6.7744\n",
      "Epoch 126/200\n",
      "1/1 [==============================] - 0s 11ms/step - loss: 6.7688 - mae: 6.7688\n",
      "Epoch 127/200\n",
      "1/1 [==============================] - 0s 11ms/step - loss: 6.7631 - mae: 6.7631\n",
      "Epoch 128/200\n",
      "1/1 [==============================] - 0s 13ms/step - loss: 6.7575 - mae: 6.7575\n",
      "Epoch 129/200\n",
      "1/1 [==============================] - 0s 12ms/step - loss: 6.7519 - mae: 6.7519\n",
      "Epoch 130/200\n",
      "1/1 [==============================] - 0s 12ms/step - loss: 6.7463 - mae: 6.7463\n",
      "Epoch 131/200\n",
      "1/1 [==============================] - 0s 12ms/step - loss: 6.7406 - mae: 6.7406\n",
      "Epoch 132/200\n",
      "1/1 [==============================] - 0s 11ms/step - loss: 6.7350 - mae: 6.7350\n",
      "Epoch 133/200\n",
      "1/1 [==============================] - 0s 11ms/step - loss: 6.7294 - mae: 6.7294\n",
      "Epoch 134/200\n",
      "1/1 [==============================] - 0s 13ms/step - loss: 6.7238 - mae: 6.7238\n",
      "Epoch 135/200\n",
      "1/1 [==============================] - 0s 13ms/step - loss: 6.7181 - mae: 6.7181\n",
      "Epoch 136/200\n",
      "1/1 [==============================] - 0s 11ms/step - loss: 6.7125 - mae: 6.7125\n",
      "Epoch 137/200\n",
      "1/1 [==============================] - 0s 10ms/step - loss: 6.7069 - mae: 6.7069\n",
      "Epoch 138/200\n",
      "1/1 [==============================] - 0s 12ms/step - loss: 6.7013 - mae: 6.7013\n",
      "Epoch 139/200\n",
      "1/1 [==============================] - 0s 10ms/step - loss: 6.6956 - mae: 6.6956\n",
      "Epoch 140/200\n",
      "1/1 [==============================] - 0s 11ms/step - loss: 6.6900 - mae: 6.6900\n",
      "Epoch 141/200\n",
      "1/1 [==============================] - 0s 12ms/step - loss: 6.6844 - mae: 6.6844\n",
      "Epoch 142/200\n",
      "1/1 [==============================] - 0s 11ms/step - loss: 6.6788 - mae: 6.6788\n",
      "Epoch 143/200\n",
      "1/1 [==============================] - 0s 10ms/step - loss: 6.6731 - mae: 6.6731\n",
      "Epoch 144/200\n",
      "1/1 [==============================] - 0s 10ms/step - loss: 6.6675 - mae: 6.6675\n",
      "Epoch 145/200\n",
      "1/1 [==============================] - 0s 11ms/step - loss: 6.6619 - mae: 6.6619\n",
      "Epoch 146/200\n",
      "1/1 [==============================] - 0s 12ms/step - loss: 6.6562 - mae: 6.6562\n",
      "Epoch 147/200\n",
      "1/1 [==============================] - 0s 13ms/step - loss: 6.6506 - mae: 6.6506\n",
      "Epoch 148/200\n",
      "1/1 [==============================] - 0s 11ms/step - loss: 6.6450 - mae: 6.6450\n",
      "Epoch 149/200\n",
      "1/1 [==============================] - 0s 12ms/step - loss: 6.6394 - mae: 6.6394\n",
      "Epoch 150/200\n",
      "1/1 [==============================] - 0s 13ms/step - loss: 6.6337 - mae: 6.6337\n",
      "Epoch 151/200\n",
      "1/1 [==============================] - 0s 12ms/step - loss: 6.6281 - mae: 6.6281\n",
      "Epoch 152/200\n",
      "1/1 [==============================] - 0s 11ms/step - loss: 6.6225 - mae: 6.6225\n",
      "Epoch 153/200\n",
      "1/1 [==============================] - 0s 11ms/step - loss: 6.6169 - mae: 6.6169\n",
      "Epoch 154/200\n",
      "1/1 [==============================] - 0s 10ms/step - loss: 6.6112 - mae: 6.6112\n",
      "Epoch 155/200\n",
      "1/1 [==============================] - 0s 12ms/step - loss: 6.6056 - mae: 6.6056\n",
      "Epoch 156/200\n",
      "1/1 [==============================] - 0s 11ms/step - loss: 6.6000 - mae: 6.6000\n",
      "Epoch 157/200\n",
      "1/1 [==============================] - 0s 10ms/step - loss: 6.5944 - mae: 6.5944\n",
      "Epoch 158/200\n",
      "1/1 [==============================] - 0s 11ms/step - loss: 6.5887 - mae: 6.5887\n",
      "Epoch 159/200\n",
      "1/1 [==============================] - 0s 10ms/step - loss: 6.5831 - mae: 6.5831\n",
      "Epoch 160/200\n",
      "1/1 [==============================] - 0s 12ms/step - loss: 6.5775 - mae: 6.5775\n",
      "Epoch 161/200\n",
      "1/1 [==============================] - 0s 17ms/step - loss: 6.5719 - mae: 6.5719\n",
      "Epoch 162/200\n",
      "1/1 [==============================] - 0s 14ms/step - loss: 6.5662 - mae: 6.5662\n",
      "Epoch 163/200\n",
      "1/1 [==============================] - 0s 12ms/step - loss: 6.5606 - mae: 6.5606\n",
      "Epoch 164/200\n",
      "1/1 [==============================] - 0s 10ms/step - loss: 6.5550 - mae: 6.5550\n",
      "Epoch 165/200\n",
      "1/1 [==============================] - 0s 11ms/step - loss: 6.5494 - mae: 6.5494\n",
      "Epoch 166/200\n",
      "1/1 [==============================] - 0s 10ms/step - loss: 6.5437 - mae: 6.5437\n",
      "Epoch 167/200\n",
      "1/1 [==============================] - 0s 11ms/step - loss: 6.5381 - mae: 6.5381\n",
      "Epoch 168/200\n",
      "1/1 [==============================] - 0s 12ms/step - loss: 6.5325 - mae: 6.5325\n",
      "Epoch 169/200\n",
      "1/1 [==============================] - 0s 13ms/step - loss: 6.5269 - mae: 6.5269\n",
      "Epoch 170/200\n",
      "1/1 [==============================] - 0s 15ms/step - loss: 6.5212 - mae: 6.5212\n",
      "Epoch 171/200\n",
      "1/1 [==============================] - 0s 11ms/step - loss: 6.5156 - mae: 6.5156\n",
      "Epoch 172/200\n",
      "1/1 [==============================] - 0s 12ms/step - loss: 6.5100 - mae: 6.5100\n",
      "Epoch 173/200\n",
      "1/1 [==============================] - 0s 13ms/step - loss: 6.5044 - mae: 6.5044\n",
      "Epoch 174/200\n",
      "1/1 [==============================] - 0s 11ms/step - loss: 6.4987 - mae: 6.4987\n",
      "Epoch 175/200\n",
      "1/1 [==============================] - 0s 12ms/step - loss: 6.4931 - mae: 6.4931\n",
      "Epoch 176/200\n",
      "1/1 [==============================] - 0s 13ms/step - loss: 6.4875 - mae: 6.4875\n",
      "Epoch 177/200\n",
      "1/1 [==============================] - 0s 14ms/step - loss: 6.4819 - mae: 6.4819\n",
      "Epoch 178/200\n",
      "1/1 [==============================] - 0s 15ms/step - loss: 6.4762 - mae: 6.4762\n",
      "Epoch 179/200\n",
      "1/1 [==============================] - 0s 12ms/step - loss: 6.4706 - mae: 6.4706\n",
      "Epoch 180/200\n",
      "1/1 [==============================] - 0s 13ms/step - loss: 6.4650 - mae: 6.4650\n",
      "Epoch 181/200\n",
      "1/1 [==============================] - 0s 12ms/step - loss: 6.4594 - mae: 6.4594\n",
      "Epoch 182/200\n",
      "1/1 [==============================] - 0s 10ms/step - loss: 6.4537 - mae: 6.4537\n",
      "Epoch 183/200\n",
      "1/1 [==============================] - 0s 14ms/step - loss: 6.4481 - mae: 6.4481\n",
      "Epoch 184/200\n",
      "1/1 [==============================] - 0s 12ms/step - loss: 6.4425 - mae: 6.4425\n",
      "Epoch 185/200\n",
      "1/1 [==============================] - 0s 13ms/step - loss: 6.4369 - mae: 6.4369\n",
      "Epoch 186/200\n",
      "1/1 [==============================] - 0s 11ms/step - loss: 6.4312 - mae: 6.4312\n",
      "Epoch 187/200\n",
      "1/1 [==============================] - 0s 10ms/step - loss: 6.4256 - mae: 6.4256\n",
      "Epoch 188/200\n",
      "1/1 [==============================] - 0s 11ms/step - loss: 6.4200 - mae: 6.4200\n",
      "Epoch 189/200\n",
      "1/1 [==============================] - 0s 10ms/step - loss: 6.4144 - mae: 6.4144\n",
      "Epoch 190/200\n",
      "1/1 [==============================] - 0s 11ms/step - loss: 6.4087 - mae: 6.4087\n",
      "Epoch 191/200\n",
      "1/1 [==============================] - 0s 11ms/step - loss: 6.4031 - mae: 6.4031\n",
      "Epoch 192/200\n",
      "1/1 [==============================] - 0s 12ms/step - loss: 6.3975 - mae: 6.3975\n",
      "Epoch 193/200\n",
      "1/1 [==============================] - 0s 12ms/step - loss: 6.3919 - mae: 6.3919\n",
      "Epoch 194/200\n",
      "1/1 [==============================] - 0s 11ms/step - loss: 6.3862 - mae: 6.3862\n",
      "Epoch 195/200\n",
      "1/1 [==============================] - 0s 11ms/step - loss: 6.3806 - mae: 6.3806\n",
      "Epoch 196/200\n",
      "1/1 [==============================] - 0s 10ms/step - loss: 6.3750 - mae: 6.3750\n",
      "Epoch 197/200\n",
      "1/1 [==============================] - 0s 12ms/step - loss: 6.3694 - mae: 6.3694\n",
      "Epoch 198/200\n",
      "1/1 [==============================] - 0s 11ms/step - loss: 6.3637 - mae: 6.3637\n",
      "Epoch 199/200\n",
      "1/1 [==============================] - 0s 10ms/step - loss: 6.3581 - mae: 6.3581\n",
      "Epoch 200/200\n",
      "1/1 [==============================] - 0s 10ms/step - loss: 6.3525 - mae: 6.3525\n"
     ]
    },
    {
     "data": {
      "text/plain": [
       "<keras.src.callbacks.History at 0x1c69c13cdc0>"
      ]
     },
     "execution_count": 70,
     "metadata": {},
     "output_type": "execute_result"
    }
   ],
   "source": [
    "# lets rebuilt our model\n",
    "\n",
    "# create the model\n",
    "\n",
    "model = tf.keras.Sequential(\n",
    "\n",
    "[\n",
    "    tf.keras.layers.Dense(1)\n",
    "    \n",
    "    \n",
    "]\n",
    ")\n",
    "\n",
    "# compile the model\n",
    "\n",
    "model.compile(loss=tf.keras.losses.mae , optimizer = tf.keras.optimizers.SGD() , metrics = ['mae'])\n",
    "\n",
    "\n",
    "model.fit(x , y ,epochs =200)"
   ]
  },
  {
   "cell_type": "code",
   "execution_count": 71,
   "id": "f9fa0183",
   "metadata": {},
   "outputs": [
    {
     "name": "stdout",
     "output_type": "stream",
     "text": [
      "1/1 [==============================] - 0s 249ms/step\n"
     ]
    },
    {
     "data": {
      "text/plain": [
       "array([[30.632336]], dtype=float32)"
      ]
     },
     "execution_count": 71,
     "metadata": {},
     "output_type": "execute_result"
    }
   ],
   "source": [
    "model.predict([17.0])  # here our prediction is improved "
   ]
  },
  {
   "cell_type": "code",
   "execution_count": 72,
   "id": "45f59666",
   "metadata": {},
   "outputs": [],
   "source": [
    "# lets try another model \n",
    "\n",
    "model = tf.keras.Sequential(\n",
    "\n",
    "[\n",
    "    tf.keras.layers.Dense(1)\n",
    "]\n",
    ")"
   ]
  },
  {
   "cell_type": "code",
   "execution_count": 73,
   "id": "c021afff",
   "metadata": {},
   "outputs": [],
   "source": [
    "model.compile(loss = tf.keras.losses.mae, optimizer = tf.keras.optimizers.Adam() , metrics = ['mae'])"
   ]
  },
  {
   "cell_type": "code",
   "execution_count": 74,
   "id": "18c5f0c3",
   "metadata": {},
   "outputs": [
    {
     "name": "stdout",
     "output_type": "stream",
     "text": [
      "Epoch 1/100\n",
      "1/1 [==============================] - 1s 1s/step - loss: 18.1113 - mae: 18.1113\n",
      "Epoch 2/100\n",
      "1/1 [==============================] - 0s 12ms/step - loss: 18.1053 - mae: 18.1053\n",
      "Epoch 3/100\n",
      "1/1 [==============================] - 0s 13ms/step - loss: 18.0993 - mae: 18.0993\n",
      "Epoch 4/100\n",
      "1/1 [==============================] - 0s 14ms/step - loss: 18.0933 - mae: 18.0933\n",
      "Epoch 5/100\n",
      "1/1 [==============================] - 0s 16ms/step - loss: 18.0873 - mae: 18.0873\n",
      "Epoch 6/100\n",
      "1/1 [==============================] - 0s 17ms/step - loss: 18.0813 - mae: 18.0813\n",
      "Epoch 7/100\n",
      "1/1 [==============================] - 0s 14ms/step - loss: 18.0753 - mae: 18.0753\n",
      "Epoch 8/100\n",
      "1/1 [==============================] - 0s 13ms/step - loss: 18.0693 - mae: 18.0693\n",
      "Epoch 9/100\n",
      "1/1 [==============================] - 0s 14ms/step - loss: 18.0633 - mae: 18.0633\n",
      "Epoch 10/100\n",
      "1/1 [==============================] - 0s 15ms/step - loss: 18.0573 - mae: 18.0573\n",
      "Epoch 11/100\n",
      "1/1 [==============================] - 0s 13ms/step - loss: 18.0513 - mae: 18.0513\n",
      "Epoch 12/100\n",
      "1/1 [==============================] - 0s 13ms/step - loss: 18.0453 - mae: 18.0453\n",
      "Epoch 13/100\n",
      "1/1 [==============================] - 0s 14ms/step - loss: 18.0393 - mae: 18.0393\n",
      "Epoch 14/100\n",
      "1/1 [==============================] - 0s 14ms/step - loss: 18.0333 - mae: 18.0333\n",
      "Epoch 15/100\n",
      "1/1 [==============================] - 0s 14ms/step - loss: 18.0273 - mae: 18.0273\n",
      "Epoch 16/100\n",
      "1/1 [==============================] - 0s 17ms/step - loss: 18.0213 - mae: 18.0213\n",
      "Epoch 17/100\n",
      "1/1 [==============================] - 0s 14ms/step - loss: 18.0153 - mae: 18.0153\n",
      "Epoch 18/100\n",
      "1/1 [==============================] - 0s 13ms/step - loss: 18.0093 - mae: 18.0093\n",
      "Epoch 19/100\n",
      "1/1 [==============================] - 0s 12ms/step - loss: 18.0033 - mae: 18.0033\n",
      "Epoch 20/100\n",
      "1/1 [==============================] - 0s 15ms/step - loss: 17.9973 - mae: 17.9973\n",
      "Epoch 21/100\n",
      "1/1 [==============================] - 0s 16ms/step - loss: 17.9913 - mae: 17.9913\n",
      "Epoch 22/100\n",
      "1/1 [==============================] - 0s 12ms/step - loss: 17.9853 - mae: 17.9853\n",
      "Epoch 23/100\n",
      "1/1 [==============================] - 0s 13ms/step - loss: 17.9793 - mae: 17.9793\n",
      "Epoch 24/100\n",
      "1/1 [==============================] - 0s 14ms/step - loss: 17.9733 - mae: 17.9733\n",
      "Epoch 25/100\n",
      "1/1 [==============================] - 0s 16ms/step - loss: 17.9673 - mae: 17.9673\n",
      "Epoch 26/100\n",
      "1/1 [==============================] - 0s 13ms/step - loss: 17.9613 - mae: 17.9613\n",
      "Epoch 27/100\n",
      "1/1 [==============================] - 0s 15ms/step - loss: 17.9553 - mae: 17.9553\n",
      "Epoch 28/100\n",
      "1/1 [==============================] - 0s 14ms/step - loss: 17.9493 - mae: 17.9493\n",
      "Epoch 29/100\n",
      "1/1 [==============================] - 0s 18ms/step - loss: 17.9433 - mae: 17.9433\n",
      "Epoch 30/100\n",
      "1/1 [==============================] - 0s 14ms/step - loss: 17.9373 - mae: 17.9373\n",
      "Epoch 31/100\n",
      "1/1 [==============================] - 0s 15ms/step - loss: 17.9313 - mae: 17.9313\n",
      "Epoch 32/100\n",
      "1/1 [==============================] - 0s 13ms/step - loss: 17.9253 - mae: 17.9253\n",
      "Epoch 33/100\n",
      "1/1 [==============================] - 0s 17ms/step - loss: 17.9193 - mae: 17.9193\n",
      "Epoch 34/100\n",
      "1/1 [==============================] - 0s 17ms/step - loss: 17.9133 - mae: 17.9133\n",
      "Epoch 35/100\n",
      "1/1 [==============================] - 0s 13ms/step - loss: 17.9073 - mae: 17.9073\n",
      "Epoch 36/100\n",
      "1/1 [==============================] - 0s 17ms/step - loss: 17.9013 - mae: 17.9013\n",
      "Epoch 37/100\n",
      "1/1 [==============================] - 0s 18ms/step - loss: 17.8953 - mae: 17.8953\n",
      "Epoch 38/100\n",
      "1/1 [==============================] - 0s 13ms/step - loss: 17.8893 - mae: 17.8893\n",
      "Epoch 39/100\n",
      "1/1 [==============================] - 0s 14ms/step - loss: 17.8833 - mae: 17.8833\n",
      "Epoch 40/100\n",
      "1/1 [==============================] - 0s 16ms/step - loss: 17.8773 - mae: 17.8773\n",
      "Epoch 41/100\n",
      "1/1 [==============================] - 0s 12ms/step - loss: 17.8713 - mae: 17.8713\n",
      "Epoch 42/100\n",
      "1/1 [==============================] - 0s 14ms/step - loss: 17.8653 - mae: 17.8653\n",
      "Epoch 43/100\n",
      "1/1 [==============================] - 0s 15ms/step - loss: 17.8593 - mae: 17.8593\n",
      "Epoch 44/100\n",
      "1/1 [==============================] - 0s 13ms/step - loss: 17.8533 - mae: 17.8533\n",
      "Epoch 45/100\n",
      "1/1 [==============================] - 0s 14ms/step - loss: 17.8473 - mae: 17.8473\n",
      "Epoch 46/100\n",
      "1/1 [==============================] - 0s 15ms/step - loss: 17.8413 - mae: 17.8413\n",
      "Epoch 47/100\n",
      "1/1 [==============================] - 0s 13ms/step - loss: 17.8353 - mae: 17.8353\n",
      "Epoch 48/100\n",
      "1/1 [==============================] - 0s 15ms/step - loss: 17.8293 - mae: 17.8293\n",
      "Epoch 49/100\n",
      "1/1 [==============================] - 0s 12ms/step - loss: 17.8233 - mae: 17.8233\n",
      "Epoch 50/100\n",
      "1/1 [==============================] - 0s 16ms/step - loss: 17.8173 - mae: 17.8173\n",
      "Epoch 51/100\n",
      "1/1 [==============================] - 0s 11ms/step - loss: 17.8113 - mae: 17.8113\n",
      "Epoch 52/100\n",
      "1/1 [==============================] - 0s 14ms/step - loss: 17.8053 - mae: 17.8053\n",
      "Epoch 53/100\n",
      "1/1 [==============================] - 0s 16ms/step - loss: 17.7993 - mae: 17.7993\n",
      "Epoch 54/100\n",
      "1/1 [==============================] - 0s 15ms/step - loss: 17.7933 - mae: 17.7933\n",
      "Epoch 55/100\n",
      "1/1 [==============================] - 0s 15ms/step - loss: 17.7873 - mae: 17.7873\n",
      "Epoch 56/100\n",
      "1/1 [==============================] - 0s 13ms/step - loss: 17.7813 - mae: 17.7813\n",
      "Epoch 57/100\n",
      "1/1 [==============================] - 0s 18ms/step - loss: 17.7753 - mae: 17.7753\n",
      "Epoch 58/100\n",
      "1/1 [==============================] - 0s 13ms/step - loss: 17.7693 - mae: 17.7693\n",
      "Epoch 59/100\n",
      "1/1 [==============================] - 0s 11ms/step - loss: 17.7633 - mae: 17.7633\n",
      "Epoch 60/100\n",
      "1/1 [==============================] - 0s 14ms/step - loss: 17.7573 - mae: 17.7573\n",
      "Epoch 61/100\n",
      "1/1 [==============================] - 0s 15ms/step - loss: 17.7513 - mae: 17.7513\n",
      "Epoch 62/100\n",
      "1/1 [==============================] - 0s 14ms/step - loss: 17.7453 - mae: 17.7453\n",
      "Epoch 63/100\n",
      "1/1 [==============================] - 0s 14ms/step - loss: 17.7393 - mae: 17.7393\n",
      "Epoch 64/100\n",
      "1/1 [==============================] - 0s 12ms/step - loss: 17.7333 - mae: 17.7333\n",
      "Epoch 65/100\n",
      "1/1 [==============================] - 0s 13ms/step - loss: 17.7273 - mae: 17.7273\n",
      "Epoch 66/100\n",
      "1/1 [==============================] - 0s 15ms/step - loss: 17.7213 - mae: 17.7213\n",
      "Epoch 67/100\n",
      "1/1 [==============================] - 0s 18ms/step - loss: 17.7153 - mae: 17.7153\n",
      "Epoch 68/100\n",
      "1/1 [==============================] - 0s 15ms/step - loss: 17.7093 - mae: 17.7093\n",
      "Epoch 69/100\n",
      "1/1 [==============================] - 0s 17ms/step - loss: 17.7033 - mae: 17.7033\n",
      "Epoch 70/100\n",
      "1/1 [==============================] - 0s 15ms/step - loss: 17.6973 - mae: 17.6973\n",
      "Epoch 71/100\n",
      "1/1 [==============================] - 0s 15ms/step - loss: 17.6913 - mae: 17.6913\n",
      "Epoch 72/100\n",
      "1/1 [==============================] - 0s 23ms/step - loss: 17.6853 - mae: 17.6853\n",
      "Epoch 73/100\n",
      "1/1 [==============================] - 0s 20ms/step - loss: 17.6793 - mae: 17.6793\n",
      "Epoch 74/100\n",
      "1/1 [==============================] - 0s 18ms/step - loss: 17.6733 - mae: 17.6733\n",
      "Epoch 75/100\n",
      "1/1 [==============================] - 0s 14ms/step - loss: 17.6673 - mae: 17.6673\n",
      "Epoch 76/100\n",
      "1/1 [==============================] - 0s 16ms/step - loss: 17.6613 - mae: 17.6613\n",
      "Epoch 77/100\n",
      "1/1 [==============================] - 0s 13ms/step - loss: 17.6553 - mae: 17.6553\n",
      "Epoch 78/100\n",
      "1/1 [==============================] - 0s 12ms/step - loss: 17.6493 - mae: 17.6493\n",
      "Epoch 79/100\n",
      "1/1 [==============================] - 0s 16ms/step - loss: 17.6433 - mae: 17.6433\n",
      "Epoch 80/100\n",
      "1/1 [==============================] - 0s 14ms/step - loss: 17.6373 - mae: 17.6373\n",
      "Epoch 81/100\n",
      "1/1 [==============================] - 0s 12ms/step - loss: 17.6313 - mae: 17.6313\n",
      "Epoch 82/100\n",
      "1/1 [==============================] - 0s 11ms/step - loss: 17.6253 - mae: 17.6253\n",
      "Epoch 83/100\n",
      "1/1 [==============================] - 0s 14ms/step - loss: 17.6193 - mae: 17.6193\n",
      "Epoch 84/100\n",
      "1/1 [==============================] - 0s 11ms/step - loss: 17.6133 - mae: 17.6133\n",
      "Epoch 85/100\n",
      "1/1 [==============================] - 0s 13ms/step - loss: 17.6073 - mae: 17.6073\n",
      "Epoch 86/100\n",
      "1/1 [==============================] - 0s 13ms/step - loss: 17.6013 - mae: 17.6013\n",
      "Epoch 87/100\n",
      "1/1 [==============================] - 0s 11ms/step - loss: 17.5953 - mae: 17.5953\n",
      "Epoch 88/100\n",
      "1/1 [==============================] - 0s 13ms/step - loss: 17.5893 - mae: 17.5893\n",
      "Epoch 89/100\n",
      "1/1 [==============================] - 0s 12ms/step - loss: 17.5833 - mae: 17.5833\n",
      "Epoch 90/100\n",
      "1/1 [==============================] - 0s 14ms/step - loss: 17.5773 - mae: 17.5773\n",
      "Epoch 91/100\n",
      "1/1 [==============================] - 0s 10ms/step - loss: 17.5713 - mae: 17.5713\n",
      "Epoch 92/100\n",
      "1/1 [==============================] - 0s 15ms/step - loss: 17.5653 - mae: 17.5653\n",
      "Epoch 93/100\n",
      "1/1 [==============================] - 0s 12ms/step - loss: 17.5593 - mae: 17.5593\n",
      "Epoch 94/100\n",
      "1/1 [==============================] - 0s 13ms/step - loss: 17.5533 - mae: 17.5533\n",
      "Epoch 95/100\n",
      "1/1 [==============================] - 0s 12ms/step - loss: 17.5473 - mae: 17.5473\n",
      "Epoch 96/100\n",
      "1/1 [==============================] - 0s 12ms/step - loss: 17.5413 - mae: 17.5413\n",
      "Epoch 97/100\n",
      "1/1 [==============================] - 0s 14ms/step - loss: 17.5353 - mae: 17.5353\n",
      "Epoch 98/100\n",
      "1/1 [==============================] - 0s 12ms/step - loss: 17.5293 - mae: 17.5293\n",
      "Epoch 99/100\n",
      "1/1 [==============================] - 0s 11ms/step - loss: 17.5233 - mae: 17.5233\n",
      "Epoch 100/100\n",
      "1/1 [==============================] - 0s 12ms/step - loss: 17.5173 - mae: 17.5173\n"
     ]
    },
    {
     "data": {
      "text/plain": [
       "<keras.src.callbacks.History at 0x1c6a02ea130>"
      ]
     },
     "execution_count": 74,
     "metadata": {},
     "output_type": "execute_result"
    }
   ],
   "source": [
    "model.fit(x , y , epochs =100)"
   ]
  },
  {
   "cell_type": "code",
   "execution_count": 75,
   "id": "8cd1c751",
   "metadata": {},
   "outputs": [
    {
     "name": "stdout",
     "output_type": "stream",
     "text": [
      "1/1 [==============================] - 0s 243ms/step\n"
     ]
    },
    {
     "data": {
      "text/plain": [
       "array([[-15.560392]], dtype=float32)"
      ]
     },
     "execution_count": 75,
     "metadata": {},
     "output_type": "execute_result"
    }
   ],
   "source": [
    "model.predict([17.0])"
   ]
  },
  {
   "cell_type": "markdown",
   "id": "b9a5be1f",
   "metadata": {},
   "source": [
    "### lets try by adding the hidden layers "
   ]
  },
  {
   "cell_type": "code",
   "execution_count": 76,
   "id": "fb891c2d",
   "metadata": {},
   "outputs": [],
   "source": [
    "model = tf.keras.Sequential(\n",
    "\n",
    "[\n",
    "    tf.keras.layers.Dense(100,activation='relu'),\n",
    "    tf.keras.layers.Dense(1)\n",
    "]\n",
    "\n",
    ")"
   ]
  },
  {
   "cell_type": "code",
   "execution_count": 77,
   "id": "f34fc7df",
   "metadata": {},
   "outputs": [],
   "source": [
    "model.compile(loss = tf.keras.losses.mae , optimizer = tf.keras.optimizers.SGD(),metrics=['mae'])"
   ]
  },
  {
   "cell_type": "code",
   "execution_count": 78,
   "id": "f1bbd7f6",
   "metadata": {
    "scrolled": false
   },
   "outputs": [
    {
     "name": "stdout",
     "output_type": "stream",
     "text": [
      "Epoch 1/100\n",
      "1/1 [==============================] - 1s 923ms/step - loss: 13.5211 - mae: 13.5211\n",
      "Epoch 2/100\n",
      "1/1 [==============================] - 0s 11ms/step - loss: 13.0038 - mae: 13.0038\n",
      "Epoch 3/100\n",
      "1/1 [==============================] - 0s 14ms/step - loss: 12.4905 - mae: 12.4905\n",
      "Epoch 4/100\n",
      "1/1 [==============================] - 0s 15ms/step - loss: 11.9708 - mae: 11.9708\n",
      "Epoch 5/100\n",
      "1/1 [==============================] - 0s 15ms/step - loss: 11.4399 - mae: 11.4399\n",
      "Epoch 6/100\n",
      "1/1 [==============================] - 0s 17ms/step - loss: 10.9057 - mae: 10.9057\n",
      "Epoch 7/100\n",
      "1/1 [==============================] - 0s 14ms/step - loss: 10.3613 - mae: 10.3613\n",
      "Epoch 8/100\n",
      "1/1 [==============================] - 0s 14ms/step - loss: 9.8043 - mae: 9.8043\n",
      "Epoch 9/100\n",
      "1/1 [==============================] - 0s 11ms/step - loss: 9.2242 - mae: 9.2242\n",
      "Epoch 10/100\n",
      "1/1 [==============================] - 0s 14ms/step - loss: 8.6103 - mae: 8.6103\n",
      "Epoch 11/100\n",
      "1/1 [==============================] - 0s 14ms/step - loss: 7.9678 - mae: 7.9678\n",
      "Epoch 12/100\n",
      "1/1 [==============================] - 0s 14ms/step - loss: 7.2806 - mae: 7.2806\n",
      "Epoch 13/100\n",
      "1/1 [==============================] - 0s 12ms/step - loss: 6.5408 - mae: 6.5408\n",
      "Epoch 14/100\n",
      "1/1 [==============================] - 0s 16ms/step - loss: 5.8084 - mae: 5.8084\n",
      "Epoch 15/100\n",
      "1/1 [==============================] - 0s 13ms/step - loss: 5.0142 - mae: 5.0142\n",
      "Epoch 16/100\n",
      "1/1 [==============================] - 0s 13ms/step - loss: 4.1776 - mae: 4.1776\n",
      "Epoch 17/100\n",
      "1/1 [==============================] - 0s 12ms/step - loss: 4.0874 - mae: 4.0874\n",
      "Epoch 18/100\n",
      "1/1 [==============================] - 0s 13ms/step - loss: 3.9948 - mae: 3.9948\n",
      "Epoch 19/100\n",
      "1/1 [==============================] - 0s 11ms/step - loss: 3.8995 - mae: 3.8995\n",
      "Epoch 20/100\n",
      "1/1 [==============================] - 0s 13ms/step - loss: 3.9538 - mae: 3.9538\n",
      "Epoch 21/100\n",
      "1/1 [==============================] - 0s 15ms/step - loss: 3.8948 - mae: 3.8948\n",
      "Epoch 22/100\n",
      "1/1 [==============================] - 0s 13ms/step - loss: 3.9534 - mae: 3.9534\n",
      "Epoch 23/100\n",
      "1/1 [==============================] - 0s 14ms/step - loss: 3.9036 - mae: 3.9036\n",
      "Epoch 24/100\n",
      "1/1 [==============================] - 0s 10ms/step - loss: 3.9283 - mae: 3.9283\n",
      "Epoch 25/100\n",
      "1/1 [==============================] - 0s 13ms/step - loss: 3.9098 - mae: 3.9098\n",
      "Epoch 26/100\n",
      "1/1 [==============================] - 0s 13ms/step - loss: 3.9030 - mae: 3.9030\n",
      "Epoch 27/100\n",
      "1/1 [==============================] - 0s 13ms/step - loss: 3.9162 - mae: 3.9162\n",
      "Epoch 28/100\n",
      "1/1 [==============================] - 0s 14ms/step - loss: 3.8775 - mae: 3.8775\n",
      "Epoch 29/100\n",
      "1/1 [==============================] - 0s 14ms/step - loss: 3.9289 - mae: 3.9289\n",
      "Epoch 30/100\n",
      "1/1 [==============================] - 0s 15ms/step - loss: 3.8667 - mae: 3.8667\n",
      "Epoch 31/100\n",
      "1/1 [==============================] - 0s 14ms/step - loss: 3.9308 - mae: 3.9308\n",
      "Epoch 32/100\n",
      "1/1 [==============================] - 0s 15ms/step - loss: 3.8731 - mae: 3.8731\n",
      "Epoch 33/100\n",
      "1/1 [==============================] - 0s 15ms/step - loss: 3.9055 - mae: 3.9055\n",
      "Epoch 34/100\n",
      "1/1 [==============================] - 0s 16ms/step - loss: 3.8795 - mae: 3.8795\n",
      "Epoch 35/100\n",
      "1/1 [==============================] - 0s 13ms/step - loss: 3.8799 - mae: 3.8799\n",
      "Epoch 36/100\n",
      "1/1 [==============================] - 0s 12ms/step - loss: 3.8860 - mae: 3.8860\n",
      "Epoch 37/100\n",
      "1/1 [==============================] - 0s 12ms/step - loss: 3.8608 - mae: 3.8608\n",
      "Epoch 38/100\n",
      "1/1 [==============================] - 0s 15ms/step - loss: 3.9017 - mae: 3.9017\n",
      "Epoch 39/100\n",
      "1/1 [==============================] - 0s 11ms/step - loss: 3.8371 - mae: 3.8371\n",
      "Epoch 40/100\n",
      "1/1 [==============================] - 0s 12ms/step - loss: 3.9070 - mae: 3.9070\n",
      "Epoch 41/100\n",
      "1/1 [==============================] - 0s 11ms/step - loss: 3.8437 - mae: 3.8437\n",
      "Epoch 42/100\n",
      "1/1 [==============================] - 0s 14ms/step - loss: 3.8814 - mae: 3.8814\n",
      "Epoch 43/100\n",
      "1/1 [==============================] - 0s 15ms/step - loss: 3.8503 - mae: 3.8503\n",
      "Epoch 44/100\n",
      "1/1 [==============================] - 0s 13ms/step - loss: 3.8556 - mae: 3.8556\n",
      "Epoch 45/100\n",
      "1/1 [==============================] - 0s 12ms/step - loss: 3.8633 - mae: 3.8633\n",
      "Epoch 46/100\n",
      "1/1 [==============================] - 0s 13ms/step - loss: 3.8380 - mae: 3.8380\n",
      "Epoch 47/100\n",
      "1/1 [==============================] - 0s 13ms/step - loss: 3.8729 - mae: 3.8729\n",
      "Epoch 48/100\n",
      "1/1 [==============================] - 0s 12ms/step - loss: 3.8118 - mae: 3.8118\n",
      "Epoch 49/100\n",
      "1/1 [==============================] - 0s 11ms/step - loss: 3.8798 - mae: 3.8798\n",
      "Epoch 50/100\n",
      "1/1 [==============================] - 0s 11ms/step - loss: 3.8154 - mae: 3.8154\n",
      "Epoch 51/100\n",
      "1/1 [==============================] - 0s 12ms/step - loss: 3.8560 - mae: 3.8560\n",
      "Epoch 52/100\n",
      "1/1 [==============================] - 0s 11ms/step - loss: 3.8222 - mae: 3.8222\n",
      "Epoch 53/100\n",
      "1/1 [==============================] - 0s 12ms/step - loss: 3.8361 - mae: 3.8361\n",
      "Epoch 54/100\n",
      "1/1 [==============================] - 0s 13ms/step - loss: 3.8382 - mae: 3.8382\n",
      "Epoch 55/100\n",
      "1/1 [==============================] - 0s 14ms/step - loss: 3.8121 - mae: 3.8121\n",
      "Epoch 56/100\n",
      "1/1 [==============================] - 0s 13ms/step - loss: 3.8452 - mae: 3.8452\n",
      "Epoch 57/100\n",
      "1/1 [==============================] - 0s 11ms/step - loss: 3.7856 - mae: 3.7856\n",
      "Epoch 58/100\n",
      "1/1 [==============================] - 0s 12ms/step - loss: 3.8524 - mae: 3.8524\n",
      "Epoch 59/100\n",
      "1/1 [==============================] - 0s 14ms/step - loss: 3.7883 - mae: 3.7883\n",
      "Epoch 60/100\n",
      "1/1 [==============================] - 0s 13ms/step - loss: 3.8296 - mae: 3.8296\n",
      "Epoch 61/100\n",
      "1/1 [==============================] - 0s 13ms/step - loss: 3.8004 - mae: 3.8004\n",
      "Epoch 62/100\n",
      "1/1 [==============================] - 0s 14ms/step - loss: 3.8116 - mae: 3.8116\n",
      "Epoch 63/100\n",
      "1/1 [==============================] - 0s 13ms/step - loss: 3.8115 - mae: 3.8115\n",
      "Epoch 64/100\n",
      "1/1 [==============================] - 0s 12ms/step - loss: 3.7850 - mae: 3.7850\n",
      "Epoch 65/100\n",
      "1/1 [==============================] - 0s 14ms/step - loss: 3.8187 - mae: 3.8187\n",
      "Epoch 66/100\n",
      "1/1 [==============================] - 0s 13ms/step - loss: 3.7582 - mae: 3.7582\n",
      "Epoch 67/100\n",
      "1/1 [==============================] - 0s 11ms/step - loss: 3.8261 - mae: 3.8261\n",
      "Epoch 68/100\n",
      "1/1 [==============================] - 0s 12ms/step - loss: 3.7623 - mae: 3.7623\n",
      "Epoch 69/100\n",
      "1/1 [==============================] - 0s 13ms/step - loss: 3.8062 - mae: 3.8062\n",
      "Epoch 70/100\n",
      "1/1 [==============================] - 0s 13ms/step - loss: 3.7785 - mae: 3.7785\n",
      "Epoch 71/100\n",
      "1/1 [==============================] - 0s 12ms/step - loss: 3.7835 - mae: 3.7835\n",
      "Epoch 72/100\n",
      "1/1 [==============================] - 0s 13ms/step - loss: 3.7858 - mae: 3.7858\n",
      "Epoch 73/100\n",
      "1/1 [==============================] - 0s 12ms/step - loss: 3.7565 - mae: 3.7565\n",
      "Epoch 74/100\n",
      "1/1 [==============================] - 0s 11ms/step - loss: 3.7932 - mae: 3.7932\n",
      "Epoch 75/100\n",
      "1/1 [==============================] - 0s 12ms/step - loss: 3.7300 - mae: 3.7300\n",
      "Epoch 76/100\n",
      "1/1 [==============================] - 0s 14ms/step - loss: 3.7995 - mae: 3.7995\n",
      "Epoch 77/100\n",
      "1/1 [==============================] - 0s 13ms/step - loss: 3.7405 - mae: 3.7405\n",
      "Epoch 78/100\n",
      "1/1 [==============================] - 0s 13ms/step - loss: 3.7810 - mae: 3.7810\n",
      "Epoch 79/100\n",
      "1/1 [==============================] - 0s 13ms/step - loss: 3.7537 - mae: 3.7537\n",
      "Epoch 80/100\n",
      "1/1 [==============================] - 0s 13ms/step - loss: 3.7540 - mae: 3.7540\n",
      "Epoch 81/100\n",
      "1/1 [==============================] - 0s 14ms/step - loss: 3.7612 - mae: 3.7612\n",
      "Epoch 82/100\n",
      "1/1 [==============================] - 0s 12ms/step - loss: 3.7268 - mae: 3.7268\n",
      "Epoch 83/100\n",
      "1/1 [==============================] - 0s 10ms/step - loss: 3.7689 - mae: 3.7689\n",
      "Epoch 84/100\n",
      "1/1 [==============================] - 0s 13ms/step - loss: 3.7059 - mae: 3.7059\n",
      "Epoch 85/100\n",
      "1/1 [==============================] - 0s 16ms/step - loss: 3.7717 - mae: 3.7717\n",
      "Epoch 86/100\n",
      "1/1 [==============================] - 0s 12ms/step - loss: 3.7224 - mae: 3.7224\n",
      "Epoch 87/100\n",
      "1/1 [==============================] - 0s 10ms/step - loss: 3.7506 - mae: 3.7506\n",
      "Epoch 88/100\n",
      "1/1 [==============================] - 0s 11ms/step - loss: 3.7300 - mae: 3.7300\n",
      "Epoch 89/100\n",
      "1/1 [==============================] - 0s 14ms/step - loss: 3.7232 - mae: 3.7232\n",
      "Epoch 90/100\n",
      "1/1 [==============================] - 0s 11ms/step - loss: 3.7377 - mae: 3.7377\n",
      "Epoch 91/100\n",
      "1/1 [==============================] - 0s 10ms/step - loss: 3.6958 - mae: 3.6958\n",
      "Epoch 92/100\n",
      "1/1 [==============================] - 0s 11ms/step - loss: 3.7456 - mae: 3.7456\n",
      "Epoch 93/100\n",
      "1/1 [==============================] - 0s 10ms/step - loss: 3.6837 - mae: 3.6837\n",
      "Epoch 94/100\n",
      "1/1 [==============================] - 0s 10ms/step - loss: 3.7463 - mae: 3.7463\n",
      "Epoch 95/100\n",
      "1/1 [==============================] - 0s 11ms/step - loss: 3.6995 - mae: 3.6995\n",
      "Epoch 96/100\n",
      "1/1 [==============================] - 0s 10ms/step - loss: 3.7188 - mae: 3.7188\n",
      "Epoch 97/100\n",
      "1/1 [==============================] - 0s 12ms/step - loss: 3.7072 - mae: 3.7072\n",
      "Epoch 98/100\n",
      "1/1 [==============================] - 0s 11ms/step - loss: 3.6911 - mae: 3.6911\n",
      "Epoch 99/100\n",
      "1/1 [==============================] - 0s 12ms/step - loss: 3.7152 - mae: 3.7152\n",
      "Epoch 100/100\n",
      "1/1 [==============================] - 0s 15ms/step - loss: 3.6634 - mae: 3.6634\n"
     ]
    },
    {
     "data": {
      "text/plain": [
       "<keras.src.callbacks.History at 0x1c6a0201c10>"
      ]
     },
     "execution_count": 78,
     "metadata": {},
     "output_type": "execute_result"
    }
   ],
   "source": [
    "model.fit(x,y,epochs = 100)"
   ]
  },
  {
   "cell_type": "code",
   "execution_count": 79,
   "id": "37874f5d",
   "metadata": {},
   "outputs": [
    {
     "data": {
      "text/plain": [
       "(<tf.Tensor: shape=(8, 1), dtype=float32, numpy=\n",
       " array([[-7.],\n",
       "        [-4.],\n",
       "        [-1.],\n",
       "        [ 2.],\n",
       "        [ 5.],\n",
       "        [ 8.],\n",
       "        [11.],\n",
       "        [14.]], dtype=float32)>,\n",
       " <tf.Tensor: shape=(8,), dtype=float32, numpy=array([ 3.,  6.,  9., 12., 15., 18., 21., 24.], dtype=float32)>)"
      ]
     },
     "execution_count": 79,
     "metadata": {},
     "output_type": "execute_result"
    }
   ],
   "source": [
    "x , y\n",
    "\n",
    "# if we add 17.0 then model need to predict 27 "
   ]
  },
  {
   "cell_type": "code",
   "execution_count": 80,
   "id": "9470472c",
   "metadata": {},
   "outputs": [
    {
     "name": "stdout",
     "output_type": "stream",
     "text": [
      "1/1 [==============================] - 0s 257ms/step\n"
     ]
    },
    {
     "data": {
      "text/plain": [
       "array([[32.899536]], dtype=float32)"
      ]
     },
     "execution_count": 80,
     "metadata": {},
     "output_type": "execute_result"
    }
   ],
   "source": [
    "model.predict([17.0]) # here the prediction is not accurate \n",
    "\n",
    "# the model is overfitting "
   ]
  },
  {
   "cell_type": "code",
   "execution_count": 81,
   "id": "a532351d",
   "metadata": {},
   "outputs": [
    {
     "name": "stdout",
     "output_type": "stream",
     "text": [
      "Epoch 1/100\n",
      "1/1 [==============================] - 1s 1s/step - loss: 12.5724 - mae: 12.5724\n",
      "Epoch 2/100\n",
      "1/1 [==============================] - 0s 15ms/step - loss: 12.5025 - mae: 12.5025\n",
      "Epoch 3/100\n",
      "1/1 [==============================] - 0s 15ms/step - loss: 12.4325 - mae: 12.4325\n",
      "Epoch 4/100\n",
      "1/1 [==============================] - 0s 13ms/step - loss: 12.3624 - mae: 12.3624\n",
      "Epoch 5/100\n",
      "1/1 [==============================] - 0s 14ms/step - loss: 12.2923 - mae: 12.2923\n",
      "Epoch 6/100\n",
      "1/1 [==============================] - 0s 14ms/step - loss: 12.2221 - mae: 12.2221\n",
      "Epoch 7/100\n",
      "1/1 [==============================] - 0s 12ms/step - loss: 12.1518 - mae: 12.1518\n",
      "Epoch 8/100\n",
      "1/1 [==============================] - 0s 14ms/step - loss: 12.0814 - mae: 12.0814\n",
      "Epoch 9/100\n",
      "1/1 [==============================] - 0s 12ms/step - loss: 12.0110 - mae: 12.0110\n",
      "Epoch 10/100\n",
      "1/1 [==============================] - 0s 13ms/step - loss: 11.9404 - mae: 11.9404\n",
      "Epoch 11/100\n",
      "1/1 [==============================] - 0s 14ms/step - loss: 11.8698 - mae: 11.8698\n",
      "Epoch 12/100\n",
      "1/1 [==============================] - 0s 13ms/step - loss: 11.7991 - mae: 11.7991\n",
      "Epoch 13/100\n",
      "1/1 [==============================] - 0s 12ms/step - loss: 11.7282 - mae: 11.7282\n",
      "Epoch 14/100\n",
      "1/1 [==============================] - 0s 12ms/step - loss: 11.6573 - mae: 11.6573\n",
      "Epoch 15/100\n",
      "1/1 [==============================] - 0s 13ms/step - loss: 11.5863 - mae: 11.5863\n",
      "Epoch 16/100\n",
      "1/1 [==============================] - 0s 12ms/step - loss: 11.5151 - mae: 11.5151\n",
      "Epoch 17/100\n",
      "1/1 [==============================] - 0s 11ms/step - loss: 11.4438 - mae: 11.4438\n",
      "Epoch 18/100\n",
      "1/1 [==============================] - 0s 13ms/step - loss: 11.3724 - mae: 11.3724\n",
      "Epoch 19/100\n",
      "1/1 [==============================] - 0s 13ms/step - loss: 11.3009 - mae: 11.3009\n",
      "Epoch 20/100\n",
      "1/1 [==============================] - 0s 12ms/step - loss: 11.2292 - mae: 11.2292\n",
      "Epoch 21/100\n",
      "1/1 [==============================] - 0s 14ms/step - loss: 11.1574 - mae: 11.1574\n",
      "Epoch 22/100\n",
      "1/1 [==============================] - 0s 14ms/step - loss: 11.0854 - mae: 11.0854\n",
      "Epoch 23/100\n",
      "1/1 [==============================] - 0s 13ms/step - loss: 11.0133 - mae: 11.0133\n",
      "Epoch 24/100\n",
      "1/1 [==============================] - 0s 13ms/step - loss: 10.9409 - mae: 10.9409\n",
      "Epoch 25/100\n",
      "1/1 [==============================] - 0s 13ms/step - loss: 10.8685 - mae: 10.8685\n",
      "Epoch 26/100\n",
      "1/1 [==============================] - 0s 16ms/step - loss: 10.7958 - mae: 10.7958\n",
      "Epoch 27/100\n",
      "1/1 [==============================] - 0s 13ms/step - loss: 10.7229 - mae: 10.7229\n",
      "Epoch 28/100\n",
      "1/1 [==============================] - 0s 11ms/step - loss: 10.6498 - mae: 10.6498\n",
      "Epoch 29/100\n",
      "1/1 [==============================] - 0s 11ms/step - loss: 10.5765 - mae: 10.5765\n",
      "Epoch 30/100\n",
      "1/1 [==============================] - 0s 14ms/step - loss: 10.5029 - mae: 10.5029\n",
      "Epoch 31/100\n",
      "1/1 [==============================] - 0s 13ms/step - loss: 10.4291 - mae: 10.4291\n",
      "Epoch 32/100\n",
      "1/1 [==============================] - 0s 11ms/step - loss: 10.3551 - mae: 10.3551\n",
      "Epoch 33/100\n",
      "1/1 [==============================] - 0s 11ms/step - loss: 10.2808 - mae: 10.2808\n",
      "Epoch 34/100\n",
      "1/1 [==============================] - 0s 14ms/step - loss: 10.2062 - mae: 10.2062\n",
      "Epoch 35/100\n",
      "1/1 [==============================] - 0s 22ms/step - loss: 10.1313 - mae: 10.1313\n",
      "Epoch 36/100\n",
      "1/1 [==============================] - 0s 14ms/step - loss: 10.0561 - mae: 10.0561\n",
      "Epoch 37/100\n",
      "1/1 [==============================] - 0s 13ms/step - loss: 9.9807 - mae: 9.9807\n",
      "Epoch 38/100\n",
      "1/1 [==============================] - 0s 13ms/step - loss: 9.9049 - mae: 9.9049\n",
      "Epoch 39/100\n",
      "1/1 [==============================] - 0s 15ms/step - loss: 9.8288 - mae: 9.8288\n",
      "Epoch 40/100\n",
      "1/1 [==============================] - 0s 10ms/step - loss: 9.7523 - mae: 9.7523\n",
      "Epoch 41/100\n",
      "1/1 [==============================] - 0s 11ms/step - loss: 9.6755 - mae: 9.6755\n",
      "Epoch 42/100\n",
      "1/1 [==============================] - 0s 13ms/step - loss: 9.5983 - mae: 9.5983\n",
      "Epoch 43/100\n",
      "1/1 [==============================] - 0s 15ms/step - loss: 9.5208 - mae: 9.5208\n",
      "Epoch 44/100\n",
      "1/1 [==============================] - 0s 17ms/step - loss: 9.4429 - mae: 9.4429\n",
      "Epoch 45/100\n",
      "1/1 [==============================] - 0s 13ms/step - loss: 9.3646 - mae: 9.3646\n",
      "Epoch 46/100\n",
      "1/1 [==============================] - 0s 14ms/step - loss: 9.2859 - mae: 9.2859\n",
      "Epoch 47/100\n",
      "1/1 [==============================] - 0s 13ms/step - loss: 9.2068 - mae: 9.2068\n",
      "Epoch 48/100\n",
      "1/1 [==============================] - 0s 14ms/step - loss: 9.1273 - mae: 9.1273\n",
      "Epoch 49/100\n",
      "1/1 [==============================] - 0s 13ms/step - loss: 9.0473 - mae: 9.0473\n",
      "Epoch 50/100\n",
      "1/1 [==============================] - 0s 12ms/step - loss: 8.9669 - mae: 8.9669\n",
      "Epoch 51/100\n",
      "1/1 [==============================] - 0s 15ms/step - loss: 8.8861 - mae: 8.8861\n",
      "Epoch 52/100\n",
      "1/1 [==============================] - 0s 14ms/step - loss: 8.8048 - mae: 8.8048\n",
      "Epoch 53/100\n",
      "1/1 [==============================] - 0s 14ms/step - loss: 8.7231 - mae: 8.7231\n",
      "Epoch 54/100\n",
      "1/1 [==============================] - 0s 15ms/step - loss: 8.6409 - mae: 8.6409\n",
      "Epoch 55/100\n",
      "1/1 [==============================] - 0s 17ms/step - loss: 8.5582 - mae: 8.5582\n",
      "Epoch 56/100\n",
      "1/1 [==============================] - 0s 14ms/step - loss: 8.4750 - mae: 8.4750\n",
      "Epoch 57/100\n",
      "1/1 [==============================] - 0s 13ms/step - loss: 8.3913 - mae: 8.3913\n",
      "Epoch 58/100\n",
      "1/1 [==============================] - 0s 15ms/step - loss: 8.3071 - mae: 8.3071\n",
      "Epoch 59/100\n",
      "1/1 [==============================] - 0s 14ms/step - loss: 8.2224 - mae: 8.2224\n",
      "Epoch 60/100\n",
      "1/1 [==============================] - 0s 14ms/step - loss: 8.1372 - mae: 8.1372\n",
      "Epoch 61/100\n",
      "1/1 [==============================] - 0s 13ms/step - loss: 8.0514 - mae: 8.0514\n",
      "Epoch 62/100\n",
      "1/1 [==============================] - 0s 11ms/step - loss: 7.9651 - mae: 7.9651\n",
      "Epoch 63/100\n",
      "1/1 [==============================] - 0s 11ms/step - loss: 7.8782 - mae: 7.8782\n",
      "Epoch 64/100\n",
      "1/1 [==============================] - 0s 13ms/step - loss: 7.7908 - mae: 7.7908\n",
      "Epoch 65/100\n",
      "1/1 [==============================] - 0s 12ms/step - loss: 7.7028 - mae: 7.7028\n",
      "Epoch 66/100\n",
      "1/1 [==============================] - 0s 12ms/step - loss: 7.6143 - mae: 7.6143\n",
      "Epoch 67/100\n",
      "1/1 [==============================] - 0s 13ms/step - loss: 7.5251 - mae: 7.5251\n",
      "Epoch 68/100\n",
      "1/1 [==============================] - 0s 13ms/step - loss: 7.4354 - mae: 7.4354\n",
      "Epoch 69/100\n",
      "1/1 [==============================] - 0s 11ms/step - loss: 7.3451 - mae: 7.3451\n",
      "Epoch 70/100\n",
      "1/1 [==============================] - 0s 12ms/step - loss: 7.2541 - mae: 7.2541\n",
      "Epoch 71/100\n",
      "1/1 [==============================] - 0s 11ms/step - loss: 7.1626 - mae: 7.1626\n",
      "Epoch 72/100\n",
      "1/1 [==============================] - 0s 12ms/step - loss: 7.0704 - mae: 7.0704\n",
      "Epoch 73/100\n",
      "1/1 [==============================] - 0s 11ms/step - loss: 6.9777 - mae: 6.9777\n",
      "Epoch 74/100\n",
      "1/1 [==============================] - 0s 12ms/step - loss: 6.8842 - mae: 6.8842\n",
      "Epoch 75/100\n",
      "1/1 [==============================] - 0s 10ms/step - loss: 6.8690 - mae: 6.8690\n",
      "Epoch 76/100\n",
      "1/1 [==============================] - 0s 13ms/step - loss: 6.8580 - mae: 6.8580\n",
      "Epoch 77/100\n",
      "1/1 [==============================] - 0s 15ms/step - loss: 6.8473 - mae: 6.8473\n",
      "Epoch 78/100\n",
      "1/1 [==============================] - 0s 14ms/step - loss: 6.8368 - mae: 6.8368\n",
      "Epoch 79/100\n",
      "1/1 [==============================] - 0s 11ms/step - loss: 6.8266 - mae: 6.8266\n",
      "Epoch 80/100\n",
      "1/1 [==============================] - 0s 12ms/step - loss: 6.8165 - mae: 6.8165\n",
      "Epoch 81/100\n",
      "1/1 [==============================] - 0s 11ms/step - loss: 6.8065 - mae: 6.8065\n",
      "Epoch 82/100\n",
      "1/1 [==============================] - 0s 10ms/step - loss: 6.7967 - mae: 6.7967\n",
      "Epoch 83/100\n",
      "1/1 [==============================] - 0s 10ms/step - loss: 6.7870 - mae: 6.7870\n",
      "Epoch 84/100\n",
      "1/1 [==============================] - 0s 12ms/step - loss: 6.7775 - mae: 6.7775\n",
      "Epoch 85/100\n",
      "1/1 [==============================] - 0s 11ms/step - loss: 6.7680 - mae: 6.7680\n",
      "Epoch 86/100\n",
      "1/1 [==============================] - 0s 9ms/step - loss: 6.7789 - mae: 6.7789\n",
      "Epoch 87/100\n",
      "1/1 [==============================] - 0s 11ms/step - loss: 6.7881 - mae: 6.7881\n",
      "Epoch 88/100\n",
      "1/1 [==============================] - 0s 12ms/step - loss: 6.7907 - mae: 6.7907\n",
      "Epoch 89/100\n",
      "1/1 [==============================] - 0s 9ms/step - loss: 6.7871 - mae: 6.7871\n",
      "Epoch 90/100\n",
      "1/1 [==============================] - 0s 9ms/step - loss: 6.7781 - mae: 6.7781\n",
      "Epoch 91/100\n",
      "1/1 [==============================] - 0s 11ms/step - loss: 6.7642 - mae: 6.7642\n",
      "Epoch 92/100\n",
      "1/1 [==============================] - 0s 11ms/step - loss: 6.7459 - mae: 6.7459\n",
      "Epoch 93/100\n",
      "1/1 [==============================] - 0s 11ms/step - loss: 6.7236 - mae: 6.7236\n",
      "Epoch 94/100\n",
      "1/1 [==============================] - 0s 12ms/step - loss: 6.6997 - mae: 6.6997\n",
      "Epoch 95/100\n",
      "1/1 [==============================] - 0s 11ms/step - loss: 6.6933 - mae: 6.6933\n",
      "Epoch 96/100\n",
      "1/1 [==============================] - 0s 11ms/step - loss: 6.6867 - mae: 6.6867\n",
      "Epoch 97/100\n",
      "1/1 [==============================] - 0s 9ms/step - loss: 6.6800 - mae: 6.6800\n",
      "Epoch 98/100\n",
      "1/1 [==============================] - 0s 14ms/step - loss: 6.6730 - mae: 6.6730\n",
      "Epoch 99/100\n",
      "1/1 [==============================] - 0s 13ms/step - loss: 6.6659 - mae: 6.6659\n",
      "Epoch 100/100\n",
      "1/1 [==============================] - 0s 10ms/step - loss: 6.6586 - mae: 6.6586\n"
     ]
    },
    {
     "data": {
      "text/plain": [
       "<keras.src.callbacks.History at 0x1c6a13ce8e0>"
      ]
     },
     "execution_count": 81,
     "metadata": {},
     "output_type": "execute_result"
    }
   ],
   "source": [
    "# change the hidden layers \n",
    "\n",
    "model = tf.keras.Sequential(\n",
    "\n",
    "[\n",
    "    tf.keras.layers.Dense(50,activation=None),\n",
    "    tf.keras.layers.Dense(1)\n",
    "]\n",
    "\n",
    ")\n",
    "model.compile(loss = tf.keras.losses.mae , optimizer = tf.keras.optimizers.Adam(),metrics=['mae'])\n",
    "model.fit(x,y,epochs = 100)"
   ]
  },
  {
   "cell_type": "code",
   "execution_count": 82,
   "id": "c4c45bad",
   "metadata": {},
   "outputs": [
    {
     "name": "stdout",
     "output_type": "stream",
     "text": [
      "WARNING:tensorflow:5 out of the last 5 calls to <function Model.make_predict_function.<locals>.predict_function at 0x000001C6A1531F70> triggered tf.function retracing. Tracing is expensive and the excessive number of tracings could be due to (1) creating @tf.function repeatedly in a loop, (2) passing tensors with different shapes, (3) passing Python objects instead of tensors. For (1), please define your @tf.function outside of the loop. For (2), @tf.function has reduce_retracing=True option that can avoid unnecessary retracing. For (3), please refer to https://www.tensorflow.org/guide/function#controlling_retracing and https://www.tensorflow.org/api_docs/python/tf/function for  more details.\n",
      "1/1 [==============================] - 0s 309ms/step\n"
     ]
    },
    {
     "data": {
      "text/plain": [
       "array([[31.3208]], dtype=float32)"
      ]
     },
     "execution_count": 82,
     "metadata": {},
     "output_type": "execute_result"
    }
   ],
   "source": [
    "model.predict([17.0])  "
   ]
  },
  {
   "cell_type": "code",
   "execution_count": 91,
   "id": "0db04cf2",
   "metadata": {},
   "outputs": [
    {
     "name": "stderr",
     "output_type": "stream",
     "text": [
      "WARNING:absl:`lr` is deprecated in Keras optimizer, please use `learning_rate` or use the legacy optimizer, e.g.,tf.keras.optimizers.legacy.Adam.\n"
     ]
    },
    {
     "name": "stdout",
     "output_type": "stream",
     "text": [
      "Epoch 1/200\n",
      "1/1 [==============================] - 2s 2s/step - loss: 219.1458 - mse: 219.1458\n",
      "Epoch 2/200\n",
      "1/1 [==============================] - 0s 14ms/step - loss: 210.5827 - mse: 210.5827\n",
      "Epoch 3/200\n",
      "1/1 [==============================] - 0s 13ms/step - loss: 202.9741 - mse: 202.9741\n",
      "Epoch 4/200\n",
      "1/1 [==============================] - 0s 15ms/step - loss: 195.2779 - mse: 195.2779\n",
      "Epoch 5/200\n",
      "1/1 [==============================] - 0s 16ms/step - loss: 187.6894 - mse: 187.6894\n",
      "Epoch 6/200\n",
      "1/1 [==============================] - 0s 17ms/step - loss: 180.8013 - mse: 180.8013\n",
      "Epoch 7/200\n",
      "1/1 [==============================] - 0s 15ms/step - loss: 174.6218 - mse: 174.6218\n",
      "Epoch 8/200\n",
      "1/1 [==============================] - 0s 14ms/step - loss: 168.3097 - mse: 168.3097\n",
      "Epoch 9/200\n",
      "1/1 [==============================] - 0s 15ms/step - loss: 161.7040 - mse: 161.7040\n",
      "Epoch 10/200\n",
      "1/1 [==============================] - 0s 15ms/step - loss: 154.9988 - mse: 154.9988\n",
      "Epoch 11/200\n",
      "1/1 [==============================] - 0s 17ms/step - loss: 148.0577 - mse: 148.0577\n",
      "Epoch 12/200\n",
      "1/1 [==============================] - 0s 14ms/step - loss: 140.9892 - mse: 140.9892\n",
      "Epoch 13/200\n",
      "1/1 [==============================] - 0s 15ms/step - loss: 134.1035 - mse: 134.1035\n",
      "Epoch 14/200\n",
      "1/1 [==============================] - 0s 15ms/step - loss: 127.1276 - mse: 127.1276\n",
      "Epoch 15/200\n",
      "1/1 [==============================] - 0s 16ms/step - loss: 120.0264 - mse: 120.0264\n",
      "Epoch 16/200\n",
      "1/1 [==============================] - 0s 16ms/step - loss: 112.6504 - mse: 112.6504\n",
      "Epoch 17/200\n",
      "1/1 [==============================] - 0s 15ms/step - loss: 105.1235 - mse: 105.1235\n",
      "Epoch 18/200\n",
      "1/1 [==============================] - 0s 14ms/step - loss: 97.4845 - mse: 97.4845\n",
      "Epoch 19/200\n",
      "1/1 [==============================] - 0s 16ms/step - loss: 89.7941 - mse: 89.7941\n",
      "Epoch 20/200\n",
      "1/1 [==============================] - 0s 14ms/step - loss: 82.0413 - mse: 82.0413\n",
      "Epoch 21/200\n",
      "1/1 [==============================] - 0s 15ms/step - loss: 74.2975 - mse: 74.2975\n",
      "Epoch 22/200\n",
      "1/1 [==============================] - 0s 17ms/step - loss: 66.6929 - mse: 66.6929\n",
      "Epoch 23/200\n",
      "1/1 [==============================] - 0s 15ms/step - loss: 59.3298 - mse: 59.3298\n",
      "Epoch 24/200\n",
      "1/1 [==============================] - 0s 17ms/step - loss: 52.3191 - mse: 52.3191\n",
      "Epoch 25/200\n",
      "1/1 [==============================] - 0s 16ms/step - loss: 45.7786 - mse: 45.7786\n",
      "Epoch 26/200\n",
      "1/1 [==============================] - 0s 14ms/step - loss: 39.8351 - mse: 39.8351\n",
      "Epoch 27/200\n",
      "1/1 [==============================] - 0s 17ms/step - loss: 34.5922 - mse: 34.5922\n",
      "Epoch 28/200\n",
      "1/1 [==============================] - 0s 14ms/step - loss: 30.1265 - mse: 30.1265\n",
      "Epoch 29/200\n",
      "1/1 [==============================] - 0s 15ms/step - loss: 26.5067 - mse: 26.5067\n",
      "Epoch 30/200\n",
      "1/1 [==============================] - 0s 11ms/step - loss: 23.7947 - mse: 23.7947\n",
      "Epoch 31/200\n",
      "1/1 [==============================] - 0s 12ms/step - loss: 22.0242 - mse: 22.0242\n",
      "Epoch 32/200\n",
      "1/1 [==============================] - 0s 14ms/step - loss: 21.1928 - mse: 21.1928\n",
      "Epoch 33/200\n",
      "1/1 [==============================] - 0s 14ms/step - loss: 21.2102 - mse: 21.2102\n",
      "Epoch 34/200\n",
      "1/1 [==============================] - 0s 13ms/step - loss: 21.8909 - mse: 21.8909\n",
      "Epoch 35/200\n",
      "1/1 [==============================] - 0s 13ms/step - loss: 23.0234 - mse: 23.0234\n",
      "Epoch 36/200\n",
      "1/1 [==============================] - 0s 12ms/step - loss: 24.3511 - mse: 24.3511\n",
      "Epoch 37/200\n",
      "1/1 [==============================] - 0s 15ms/step - loss: 25.6169 - mse: 25.6169\n",
      "Epoch 38/200\n",
      "1/1 [==============================] - 0s 14ms/step - loss: 26.6355 - mse: 26.6355\n",
      "Epoch 39/200\n",
      "1/1 [==============================] - 0s 14ms/step - loss: 27.2187 - mse: 27.2187\n",
      "Epoch 40/200\n",
      "1/1 [==============================] - 0s 13ms/step - loss: 27.3428 - mse: 27.3428\n",
      "Epoch 41/200\n",
      "1/1 [==============================] - 0s 11ms/step - loss: 27.0595 - mse: 27.0595\n",
      "Epoch 42/200\n",
      "1/1 [==============================] - 0s 14ms/step - loss: 26.4383 - mse: 26.4383\n",
      "Epoch 43/200\n",
      "1/1 [==============================] - 0s 13ms/step - loss: 25.5614 - mse: 25.5614\n",
      "Epoch 44/200\n",
      "1/1 [==============================] - 0s 15ms/step - loss: 24.5451 - mse: 24.5451\n",
      "Epoch 45/200\n",
      "1/1 [==============================] - 0s 13ms/step - loss: 23.5016 - mse: 23.5016\n",
      "Epoch 46/200\n",
      "1/1 [==============================] - 0s 14ms/step - loss: 22.5191 - mse: 22.5191\n",
      "Epoch 47/200\n",
      "1/1 [==============================] - 0s 15ms/step - loss: 21.6901 - mse: 21.6901\n",
      "Epoch 48/200\n",
      "1/1 [==============================] - 0s 15ms/step - loss: 20.9966 - mse: 20.9966\n",
      "Epoch 49/200\n",
      "1/1 [==============================] - 0s 12ms/step - loss: 20.4844 - mse: 20.4844\n",
      "Epoch 50/200\n",
      "1/1 [==============================] - 0s 12ms/step - loss: 20.1342 - mse: 20.1342\n",
      "Epoch 51/200\n",
      "1/1 [==============================] - 0s 12ms/step - loss: 19.9572 - mse: 19.9572\n",
      "Epoch 52/200\n",
      "1/1 [==============================] - 0s 11ms/step - loss: 19.8742 - mse: 19.8742\n",
      "Epoch 53/200\n",
      "1/1 [==============================] - 0s 11ms/step - loss: 19.8598 - mse: 19.8598\n",
      "Epoch 54/200\n",
      "1/1 [==============================] - 0s 14ms/step - loss: 19.8797 - mse: 19.8797\n",
      "Epoch 55/200\n",
      "1/1 [==============================] - 0s 15ms/step - loss: 19.9044 - mse: 19.9044\n",
      "Epoch 56/200\n",
      "1/1 [==============================] - 0s 12ms/step - loss: 19.9091 - mse: 19.9091\n",
      "Epoch 57/200\n",
      "1/1 [==============================] - 0s 12ms/step - loss: 19.8825 - mse: 19.8825\n",
      "Epoch 58/200\n",
      "1/1 [==============================] - 0s 14ms/step - loss: 19.8210 - mse: 19.8210\n",
      "Epoch 59/200\n",
      "1/1 [==============================] - 0s 13ms/step - loss: 19.7211 - mse: 19.7211\n",
      "Epoch 60/200\n",
      "1/1 [==============================] - 0s 13ms/step - loss: 19.5875 - mse: 19.5875\n",
      "Epoch 61/200\n",
      "1/1 [==============================] - 0s 22ms/step - loss: 19.4264 - mse: 19.4264\n",
      "Epoch 62/200\n",
      "1/1 [==============================] - 0s 15ms/step - loss: 19.2519 - mse: 19.2519\n",
      "Epoch 63/200\n",
      "1/1 [==============================] - 0s 13ms/step - loss: 19.0744 - mse: 19.0744\n",
      "Epoch 64/200\n",
      "1/1 [==============================] - 0s 15ms/step - loss: 18.8957 - mse: 18.8957\n",
      "Epoch 65/200\n",
      "1/1 [==============================] - 0s 13ms/step - loss: 18.7302 - mse: 18.7302\n",
      "Epoch 66/200\n",
      "1/1 [==============================] - 0s 12ms/step - loss: 18.5770 - mse: 18.5770\n",
      "Epoch 67/200\n",
      "1/1 [==============================] - 0s 12ms/step - loss: 18.4681 - mse: 18.4681\n",
      "Epoch 68/200\n",
      "1/1 [==============================] - 0s 12ms/step - loss: 18.3809 - mse: 18.3809\n",
      "Epoch 69/200\n",
      "1/1 [==============================] - 0s 13ms/step - loss: 18.3041 - mse: 18.3041\n",
      "Epoch 70/200\n",
      "1/1 [==============================] - 0s 12ms/step - loss: 18.2249 - mse: 18.2249\n",
      "Epoch 71/200\n",
      "1/1 [==============================] - 0s 15ms/step - loss: 18.1302 - mse: 18.1302\n",
      "Epoch 72/200\n",
      "1/1 [==============================] - 0s 13ms/step - loss: 18.0147 - mse: 18.0147\n",
      "Epoch 73/200\n",
      "1/1 [==============================] - 0s 14ms/step - loss: 17.8793 - mse: 17.8793\n",
      "Epoch 74/200\n",
      "1/1 [==============================] - 0s 14ms/step - loss: 17.7263 - mse: 17.7263\n",
      "Epoch 75/200\n",
      "1/1 [==============================] - 0s 16ms/step - loss: 17.5610 - mse: 17.5610\n",
      "Epoch 76/200\n",
      "1/1 [==============================] - 0s 14ms/step - loss: 17.3901 - mse: 17.3901\n",
      "Epoch 77/200\n",
      "1/1 [==============================] - 0s 14ms/step - loss: 17.2214 - mse: 17.2214\n",
      "Epoch 78/200\n",
      "1/1 [==============================] - 0s 13ms/step - loss: 17.0743 - mse: 17.0743\n",
      "Epoch 79/200\n",
      "1/1 [==============================] - 0s 13ms/step - loss: 16.9145 - mse: 16.9145\n",
      "Epoch 80/200\n",
      "1/1 [==============================] - 0s 15ms/step - loss: 16.7589 - mse: 16.7589\n",
      "Epoch 81/200\n",
      "1/1 [==============================] - 0s 14ms/step - loss: 16.5902 - mse: 16.5902\n",
      "Epoch 82/200\n",
      "1/1 [==============================] - 0s 11ms/step - loss: 16.4042 - mse: 16.4042\n",
      "Epoch 83/200\n",
      "1/1 [==============================] - 0s 10ms/step - loss: 16.2196 - mse: 16.2196\n",
      "Epoch 84/200\n",
      "1/1 [==============================] - 0s 14ms/step - loss: 16.0290 - mse: 16.0290\n",
      "Epoch 85/200\n",
      "1/1 [==============================] - 0s 10ms/step - loss: 15.8339 - mse: 15.8339\n",
      "Epoch 86/200\n",
      "1/1 [==============================] - 0s 14ms/step - loss: 15.6197 - mse: 15.6197\n",
      "Epoch 87/200\n",
      "1/1 [==============================] - 0s 12ms/step - loss: 15.4146 - mse: 15.4146\n",
      "Epoch 88/200\n",
      "1/1 [==============================] - 0s 12ms/step - loss: 15.2051 - mse: 15.2051\n",
      "Epoch 89/200\n",
      "1/1 [==============================] - 0s 13ms/step - loss: 14.9881 - mse: 14.9881\n",
      "Epoch 90/200\n",
      "1/1 [==============================] - 0s 12ms/step - loss: 14.7690 - mse: 14.7690\n",
      "Epoch 91/200\n",
      "1/1 [==============================] - 0s 13ms/step - loss: 14.5311 - mse: 14.5311\n",
      "Epoch 92/200\n",
      "1/1 [==============================] - 0s 12ms/step - loss: 14.2651 - mse: 14.2651\n",
      "Epoch 93/200\n",
      "1/1 [==============================] - 0s 11ms/step - loss: 13.9606 - mse: 13.9606\n",
      "Epoch 94/200\n",
      "1/1 [==============================] - 0s 10ms/step - loss: 13.6465 - mse: 13.6465\n",
      "Epoch 95/200\n",
      "1/1 [==============================] - 0s 11ms/step - loss: 13.3975 - mse: 13.3975\n",
      "Epoch 96/200\n",
      "1/1 [==============================] - 0s 12ms/step - loss: 13.1059 - mse: 13.1059\n",
      "Epoch 97/200\n",
      "1/1 [==============================] - 0s 12ms/step - loss: 12.8052 - mse: 12.8052\n",
      "Epoch 98/200\n",
      "1/1 [==============================] - 0s 12ms/step - loss: 12.5335 - mse: 12.5335\n",
      "Epoch 99/200\n",
      "1/1 [==============================] - 0s 13ms/step - loss: 12.2276 - mse: 12.2276\n",
      "Epoch 100/200\n",
      "1/1 [==============================] - 0s 11ms/step - loss: 11.9088 - mse: 11.9088\n",
      "Epoch 101/200\n",
      "1/1 [==============================] - 0s 12ms/step - loss: 11.5912 - mse: 11.5912\n",
      "Epoch 102/200\n",
      "1/1 [==============================] - 0s 13ms/step - loss: 11.2604 - mse: 11.2604\n",
      "Epoch 103/200\n",
      "1/1 [==============================] - 0s 11ms/step - loss: 10.9135 - mse: 10.9135\n",
      "Epoch 104/200\n",
      "1/1 [==============================] - 0s 13ms/step - loss: 10.5660 - mse: 10.5660\n",
      "Epoch 105/200\n",
      "1/1 [==============================] - 0s 12ms/step - loss: 10.1783 - mse: 10.1783\n",
      "Epoch 106/200\n",
      "1/1 [==============================] - 0s 14ms/step - loss: 9.7791 - mse: 9.7791\n",
      "Epoch 107/200\n",
      "1/1 [==============================] - 0s 10ms/step - loss: 9.4359 - mse: 9.4359\n",
      "Epoch 108/200\n",
      "1/1 [==============================] - 0s 12ms/step - loss: 9.0867 - mse: 9.0867\n",
      "Epoch 109/200\n",
      "1/1 [==============================] - 0s 13ms/step - loss: 8.6947 - mse: 8.6947\n",
      "Epoch 110/200\n",
      "1/1 [==============================] - 0s 11ms/step - loss: 8.2668 - mse: 8.2668\n",
      "Epoch 111/200\n",
      "1/1 [==============================] - 0s 10ms/step - loss: 7.9139 - mse: 7.9139\n",
      "Epoch 112/200\n",
      "1/1 [==============================] - 0s 12ms/step - loss: 7.5174 - mse: 7.5174\n",
      "Epoch 113/200\n",
      "1/1 [==============================] - 0s 12ms/step - loss: 7.0873 - mse: 7.0873\n",
      "Epoch 114/200\n",
      "1/1 [==============================] - 0s 11ms/step - loss: 6.7041 - mse: 6.7041\n",
      "Epoch 115/200\n",
      "1/1 [==============================] - 0s 13ms/step - loss: 6.3506 - mse: 6.3506\n",
      "Epoch 116/200\n",
      "1/1 [==============================] - 0s 12ms/step - loss: 5.9591 - mse: 5.9591\n",
      "Epoch 117/200\n",
      "1/1 [==============================] - 0s 10ms/step - loss: 5.5756 - mse: 5.5756\n",
      "Epoch 118/200\n",
      "1/1 [==============================] - 0s 11ms/step - loss: 5.2245 - mse: 5.2245\n",
      "Epoch 119/200\n",
      "1/1 [==============================] - 0s 11ms/step - loss: 4.8989 - mse: 4.8989\n",
      "Epoch 120/200\n",
      "1/1 [==============================] - 0s 15ms/step - loss: 4.5688 - mse: 4.5688\n",
      "Epoch 121/200\n",
      "1/1 [==============================] - 0s 12ms/step - loss: 4.2207 - mse: 4.2207\n",
      "Epoch 122/200\n",
      "1/1 [==============================] - 0s 11ms/step - loss: 3.8706 - mse: 3.8706\n",
      "Epoch 123/200\n",
      "1/1 [==============================] - 0s 10ms/step - loss: 3.5612 - mse: 3.5612\n",
      "Epoch 124/200\n",
      "1/1 [==============================] - 0s 14ms/step - loss: 3.2841 - mse: 3.2841\n",
      "Epoch 125/200\n",
      "1/1 [==============================] - 0s 11ms/step - loss: 3.0003 - mse: 3.0003\n",
      "Epoch 126/200\n",
      "1/1 [==============================] - 0s 11ms/step - loss: 2.7505 - mse: 2.7505\n",
      "Epoch 127/200\n",
      "1/1 [==============================] - 0s 12ms/step - loss: 2.5246 - mse: 2.5246\n",
      "Epoch 128/200\n",
      "1/1 [==============================] - 0s 13ms/step - loss: 2.2813 - mse: 2.2813\n",
      "Epoch 129/200\n",
      "1/1 [==============================] - 0s 15ms/step - loss: 2.0408 - mse: 2.0408\n",
      "Epoch 130/200\n",
      "1/1 [==============================] - 0s 15ms/step - loss: 1.9094 - mse: 1.9094\n",
      "Epoch 131/200\n",
      "1/1 [==============================] - 0s 13ms/step - loss: 1.7718 - mse: 1.7718\n",
      "Epoch 132/200\n",
      "1/1 [==============================] - 0s 13ms/step - loss: 1.6142 - mse: 1.6142\n",
      "Epoch 133/200\n",
      "1/1 [==============================] - 0s 12ms/step - loss: 1.4864 - mse: 1.4864\n",
      "Epoch 134/200\n",
      "1/1 [==============================] - 0s 13ms/step - loss: 1.3647 - mse: 1.3647\n",
      "Epoch 135/200\n",
      "1/1 [==============================] - 0s 12ms/step - loss: 1.2408 - mse: 1.2408\n",
      "Epoch 136/200\n",
      "1/1 [==============================] - 0s 12ms/step - loss: 1.1314 - mse: 1.1314\n",
      "Epoch 137/200\n",
      "1/1 [==============================] - 0s 12ms/step - loss: 1.0438 - mse: 1.0438\n",
      "Epoch 138/200\n",
      "1/1 [==============================] - 0s 12ms/step - loss: 0.9855 - mse: 0.9855\n",
      "Epoch 139/200\n",
      "1/1 [==============================] - 0s 11ms/step - loss: 0.9376 - mse: 0.9376\n",
      "Epoch 140/200\n",
      "1/1 [==============================] - 0s 10ms/step - loss: 0.8943 - mse: 0.8943\n",
      "Epoch 141/200\n",
      "1/1 [==============================] - 0s 10ms/step - loss: 0.8554 - mse: 0.8554\n",
      "Epoch 142/200\n",
      "1/1 [==============================] - 0s 10ms/step - loss: 0.8129 - mse: 0.8129\n",
      "Epoch 143/200\n",
      "1/1 [==============================] - 0s 13ms/step - loss: 0.7722 - mse: 0.7722\n",
      "Epoch 144/200\n",
      "1/1 [==============================] - 0s 11ms/step - loss: 0.7274 - mse: 0.7274\n",
      "Epoch 145/200\n",
      "1/1 [==============================] - 0s 13ms/step - loss: 0.6838 - mse: 0.6838\n",
      "Epoch 146/200\n",
      "1/1 [==============================] - 0s 16ms/step - loss: 0.6445 - mse: 0.6445\n",
      "Epoch 147/200\n",
      "1/1 [==============================] - 0s 13ms/step - loss: 0.6072 - mse: 0.6072\n",
      "Epoch 148/200\n",
      "1/1 [==============================] - 0s 12ms/step - loss: 0.5717 - mse: 0.5717\n",
      "Epoch 149/200\n",
      "1/1 [==============================] - 0s 11ms/step - loss: 0.5363 - mse: 0.5363\n",
      "Epoch 150/200\n",
      "1/1 [==============================] - 0s 14ms/step - loss: 0.5011 - mse: 0.5011\n",
      "Epoch 151/200\n",
      "1/1 [==============================] - 0s 12ms/step - loss: 0.4658 - mse: 0.4658\n",
      "Epoch 152/200\n",
      "1/1 [==============================] - 0s 13ms/step - loss: 0.4356 - mse: 0.4356\n",
      "Epoch 153/200\n",
      "1/1 [==============================] - 0s 13ms/step - loss: 0.4071 - mse: 0.4071\n",
      "Epoch 154/200\n",
      "1/1 [==============================] - 0s 12ms/step - loss: 0.3788 - mse: 0.3788\n",
      "Epoch 155/200\n",
      "1/1 [==============================] - 0s 12ms/step - loss: 0.3536 - mse: 0.3536\n",
      "Epoch 156/200\n",
      "1/1 [==============================] - 0s 13ms/step - loss: 0.3301 - mse: 0.3301\n",
      "Epoch 157/200\n",
      "1/1 [==============================] - 0s 11ms/step - loss: 0.3059 - mse: 0.3059\n",
      "Epoch 158/200\n",
      "1/1 [==============================] - 0s 11ms/step - loss: 0.2844 - mse: 0.2844\n",
      "Epoch 159/200\n",
      "1/1 [==============================] - 0s 11ms/step - loss: 0.2648 - mse: 0.2648\n",
      "Epoch 160/200\n",
      "1/1 [==============================] - 0s 11ms/step - loss: 0.2459 - mse: 0.2459\n",
      "Epoch 161/200\n",
      "1/1 [==============================] - 0s 12ms/step - loss: 0.2303 - mse: 0.2303\n",
      "Epoch 162/200\n",
      "1/1 [==============================] - 0s 12ms/step - loss: 0.2154 - mse: 0.2154\n",
      "Epoch 163/200\n",
      "1/1 [==============================] - 0s 8ms/step - loss: 0.2005 - mse: 0.2005\n",
      "Epoch 164/200\n",
      "1/1 [==============================] - 0s 10ms/step - loss: 0.1872 - mse: 0.1872\n",
      "Epoch 165/200\n",
      "1/1 [==============================] - 0s 11ms/step - loss: 0.1741 - mse: 0.1741\n",
      "Epoch 166/200\n",
      "1/1 [==============================] - 0s 14ms/step - loss: 0.1610 - mse: 0.1610\n",
      "Epoch 167/200\n",
      "1/1 [==============================] - 0s 12ms/step - loss: 0.1496 - mse: 0.1496\n",
      "Epoch 168/200\n",
      "1/1 [==============================] - 0s 12ms/step - loss: 0.1384 - mse: 0.1384\n",
      "Epoch 169/200\n",
      "1/1 [==============================] - 0s 11ms/step - loss: 0.1276 - mse: 0.1276\n",
      "Epoch 170/200\n",
      "1/1 [==============================] - 0s 11ms/step - loss: 0.1180 - mse: 0.1180\n",
      "Epoch 171/200\n",
      "1/1 [==============================] - 0s 15ms/step - loss: 0.1086 - mse: 0.1086\n",
      "Epoch 172/200\n",
      "1/1 [==============================] - 0s 15ms/step - loss: 0.0998 - mse: 0.0998\n",
      "Epoch 173/200\n",
      "1/1 [==============================] - 0s 14ms/step - loss: 0.0921 - mse: 0.0921\n",
      "Epoch 174/200\n",
      "1/1 [==============================] - 0s 13ms/step - loss: 0.0846 - mse: 0.0846\n",
      "Epoch 175/200\n",
      "1/1 [==============================] - 0s 11ms/step - loss: 0.0776 - mse: 0.0776\n",
      "Epoch 176/200\n",
      "1/1 [==============================] - 0s 10ms/step - loss: 0.0716 - mse: 0.0716\n",
      "Epoch 177/200\n",
      "1/1 [==============================] - 0s 10ms/step - loss: 0.0659 - mse: 0.0659\n",
      "Epoch 178/200\n",
      "1/1 [==============================] - 0s 12ms/step - loss: 0.0606 - mse: 0.0606\n",
      "Epoch 179/200\n",
      "1/1 [==============================] - 0s 11ms/step - loss: 0.0557 - mse: 0.0557\n",
      "Epoch 180/200\n",
      "1/1 [==============================] - 0s 13ms/step - loss: 0.0510 - mse: 0.0510\n",
      "Epoch 181/200\n",
      "1/1 [==============================] - 0s 12ms/step - loss: 0.0468 - mse: 0.0468\n",
      "Epoch 182/200\n",
      "1/1 [==============================] - 0s 11ms/step - loss: 0.0428 - mse: 0.0428\n",
      "Epoch 183/200\n",
      "1/1 [==============================] - 0s 13ms/step - loss: 0.0392 - mse: 0.0392\n",
      "Epoch 184/200\n",
      "1/1 [==============================] - 0s 12ms/step - loss: 0.0359 - mse: 0.0359\n",
      "Epoch 185/200\n",
      "1/1 [==============================] - 0s 11ms/step - loss: 0.0330 - mse: 0.0330\n",
      "Epoch 186/200\n",
      "1/1 [==============================] - 0s 11ms/step - loss: 0.0304 - mse: 0.0304\n",
      "Epoch 187/200\n",
      "1/1 [==============================] - 0s 15ms/step - loss: 0.0279 - mse: 0.0279\n",
      "Epoch 188/200\n",
      "1/1 [==============================] - 0s 11ms/step - loss: 0.0256 - mse: 0.0256\n",
      "Epoch 189/200\n",
      "1/1 [==============================] - 0s 13ms/step - loss: 0.0234 - mse: 0.0234\n",
      "Epoch 190/200\n",
      "1/1 [==============================] - 0s 12ms/step - loss: 0.0214 - mse: 0.0214\n",
      "Epoch 191/200\n",
      "1/1 [==============================] - 0s 13ms/step - loss: 0.0196 - mse: 0.0196\n",
      "Epoch 192/200\n",
      "1/1 [==============================] - 0s 11ms/step - loss: 0.0179 - mse: 0.0179\n",
      "Epoch 193/200\n",
      "1/1 [==============================] - 0s 12ms/step - loss: 0.0164 - mse: 0.0164\n",
      "Epoch 194/200\n",
      "1/1 [==============================] - 0s 13ms/step - loss: 0.0149 - mse: 0.0149\n",
      "Epoch 195/200\n",
      "1/1 [==============================] - 0s 13ms/step - loss: 0.0136 - mse: 0.0136\n",
      "Epoch 196/200\n",
      "1/1 [==============================] - 0s 14ms/step - loss: 0.0124 - mse: 0.0124\n",
      "Epoch 197/200\n",
      "1/1 [==============================] - 0s 12ms/step - loss: 0.0113 - mse: 0.0113\n",
      "Epoch 198/200\n",
      "1/1 [==============================] - 0s 13ms/step - loss: 0.0103 - mse: 0.0103\n",
      "Epoch 199/200\n",
      "1/1 [==============================] - 0s 13ms/step - loss: 0.0094 - mse: 0.0094\n",
      "Epoch 200/200\n",
      "1/1 [==============================] - 0s 12ms/step - loss: 0.0085 - mse: 0.0085\n"
     ]
    },
    {
     "data": {
      "text/plain": [
       "<keras.src.callbacks.History at 0x1c6a54a6040>"
      ]
     },
     "execution_count": 91,
     "metadata": {},
     "output_type": "execute_result"
    }
   ],
   "source": [
    "# changing the learning rate \n",
    "\n",
    "\n",
    "model = tf.keras.Sequential(\n",
    "\n",
    "[\n",
    "    tf.keras.layers.Dense(100,activation='relu'),\n",
    "    tf.keras.layers.Dense(100,activation='relu'),\n",
    "    tf.keras.layers.Dense(50,activation='relu'),\n",
    "    tf.keras.layers.Dense(1)\n",
    "]\n",
    "\n",
    ")\n",
    "model.compile(loss = tf.keras.losses.mse , optimizer = tf.keras.optimizers.Adam(lr=50.002),metrics=['mse'])\n",
    "model.fit(x,y,epochs = 200)"
   ]
  },
  {
   "cell_type": "code",
   "execution_count": 92,
   "id": "7bea0db6",
   "metadata": {},
   "outputs": [
    {
     "name": "stdout",
     "output_type": "stream",
     "text": [
      "1/1 [==============================] - 0s 288ms/step\n"
     ]
    },
    {
     "data": {
      "text/plain": [
       "array([[28.126482]], dtype=float32)"
      ]
     },
     "execution_count": 92,
     "metadata": {},
     "output_type": "execute_result"
    }
   ],
   "source": [
    "model.predict([17.0])"
   ]
  },
  {
   "cell_type": "code",
   "execution_count": 93,
   "id": "bd09c3f1",
   "metadata": {},
   "outputs": [
    {
     "name": "stdout",
     "output_type": "stream",
     "text": [
      "1/1 [==============================] - 0s 184ms/step\n"
     ]
    },
    {
     "data": {
      "text/plain": [
       "array([[32.52167]], dtype=float32)"
      ]
     },
     "execution_count": 93,
     "metadata": {},
     "output_type": "execute_result"
    }
   ],
   "source": [
    "model.predict([20.0])"
   ]
  },
  {
   "cell_type": "markdown",
   "id": "b5252e30",
   "metadata": {},
   "source": [
    "### evaluting  a model"
   ]
  },
  {
   "cell_type": "markdown",
   "id": "59d84294",
   "metadata": {},
   "source": [
    "in practice a typical workflow you'll go through when buliding a neural networks is :\n",
    "\n",
    "build a model --> fit it ---> evaluate it ---> tweek a model ---> fit it ---> evaluate it ----> tweak a model ----> fit it ---->evaulate it ..."
   ]
  },
  {
   "cell_type": "markdown",
   "id": "3748cef0",
   "metadata": {},
   "source": [
    "when it comes to evaluation there are 3 words you should memorize\n",
    "\n",
    "'visualize ,visualize , visualize'"
   ]
  },
  {
   "cell_type": "markdown",
   "id": "d7a7a11d",
   "metadata": {},
   "source": [
    "visualize\n",
    "\n",
    "** the data -- what data are we working with  , what it look like\n",
    "\n",
    "** the model itself  -- what does our model look like\n",
    "\n",
    "\n",
    "** the training a model -- how does a model perform while it learns\n",
    "\n",
    "\n",
    "** the prediction of the model -- how do the predictions of a model line up against the ground truth(the original labels )"
   ]
  },
  {
   "cell_type": "code",
   "execution_count": 2,
   "id": "ed9ed99d",
   "metadata": {},
   "outputs": [],
   "source": [
    "# make  a big dataset\n",
    "\n",
    "x =tf.range(-100,100,4)"
   ]
  },
  {
   "cell_type": "code",
   "execution_count": 3,
   "id": "86148722",
   "metadata": {},
   "outputs": [
    {
     "data": {
      "text/plain": [
       "<tf.Tensor: shape=(50,), dtype=int32, numpy=\n",
       "array([-100,  -96,  -92,  -88,  -84,  -80,  -76,  -72,  -68,  -64,  -60,\n",
       "        -56,  -52,  -48,  -44,  -40,  -36,  -32,  -28,  -24,  -20,  -16,\n",
       "        -12,   -8,   -4,    0,    4,    8,   12,   16,   20,   24,   28,\n",
       "         32,   36,   40,   44,   48,   52,   56,   60,   64,   68,   72,\n",
       "         76,   80,   84,   88,   92,   96])>"
      ]
     },
     "execution_count": 3,
     "metadata": {},
     "output_type": "execute_result"
    }
   ],
   "source": [
    "x"
   ]
  },
  {
   "cell_type": "code",
   "execution_count": 4,
   "id": "2ec88ec9",
   "metadata": {},
   "outputs": [],
   "source": [
    "# make a labels to a dataset\n",
    "\n",
    "y = x+10"
   ]
  },
  {
   "cell_type": "code",
   "execution_count": 5,
   "id": "f6dad481",
   "metadata": {},
   "outputs": [
    {
     "data": {
      "text/plain": [
       "<tf.Tensor: shape=(50,), dtype=int32, numpy=\n",
       "array([-90, -86, -82, -78, -74, -70, -66, -62, -58, -54, -50, -46, -42,\n",
       "       -38, -34, -30, -26, -22, -18, -14, -10,  -6,  -2,   2,   6,  10,\n",
       "        14,  18,  22,  26,  30,  34,  38,  42,  46,  50,  54,  58,  62,\n",
       "        66,  70,  74,  78,  82,  86,  90,  94,  98, 102, 106])>"
      ]
     },
     "execution_count": 5,
     "metadata": {},
     "output_type": "execute_result"
    }
   ],
   "source": [
    "y"
   ]
  },
  {
   "cell_type": "code",
   "execution_count": 6,
   "id": "779abfa7",
   "metadata": {},
   "outputs": [
    {
     "data": {
      "text/plain": [
       "<matplotlib.collections.PathCollection at 0x23bb592c4f0>"
      ]
     },
     "execution_count": 6,
     "metadata": {},
     "output_type": "execute_result"
    },
    {
     "data": {
      "image/png": "[encoded data removed]",
      "text/plain": [
       "<Figure size 432x288 with 1 Axes>"
      ]
     },
     "metadata": {
      "needs_background": "light"
     },
     "output_type": "display_data"
    }
   ],
   "source": [
    "# visualize the data\n",
    "import matplotlib.pyplot as plt\n",
    "\n",
    "plt.scatter(x,y)"
   ]
  },
  {
   "cell_type": "markdown",
   "id": "e83b241f",
   "metadata": {},
   "source": [
    "### the 3 sets ...\n",
    "\n",
    "\n",
    "** training set -- the model learns from the data , which is typically 70-80% of the total data \n",
    "\n",
    "** validation set -- the model gets tuned on this data , which is typically 10-15% of the data avalilable \n",
    "\n",
    "\n",
    "** test set -- the model gets evaluated on this data to test what is has learned , this set is typically 10-15% of the data avaliable"
   ]
  },
  {
   "cell_type": "code",
   "execution_count": 7,
   "id": "415a5b65",
   "metadata": {},
   "outputs": [
    {
     "data": {
      "text/plain": [
       "50"
      ]
     },
     "execution_count": 7,
     "metadata": {},
     "output_type": "execute_result"
    }
   ],
   "source": [
    "# check the length of how many samples we have \n",
    "\n",
    "len(x)  # sample size is small so skip the validation set "
   ]
  },
  {
   "cell_type": "code",
   "execution_count": 8,
   "id": "b9d55ca6",
   "metadata": {},
   "outputs": [],
   "source": [
    "# split the data into train and test sets\n",
    "\n",
    "x_train = x[:40] # first 40 (80% of data)\n",
    "x_test = x[40:]# last 10 (20% of data)"
   ]
  },
  {
   "cell_type": "code",
   "execution_count": 9,
   "id": "34d35121",
   "metadata": {},
   "outputs": [],
   "source": [
    "y_train = y[:40]\n",
    "y_test =y[40:]"
   ]
  },
  {
   "cell_type": "code",
   "execution_count": 10,
   "id": "04de920c",
   "metadata": {},
   "outputs": [
    {
     "data": {
      "text/plain": [
       "(40, 10, 40, 10)"
      ]
     },
     "execution_count": 10,
     "metadata": {},
     "output_type": "execute_result"
    }
   ],
   "source": [
    "len(x_train) , len(x_test) , len(y_train) , len(y_test)"
   ]
  },
  {
   "cell_type": "markdown",
   "id": "64ed8e9f",
   "metadata": {},
   "source": [
    "## visualizing the data \n",
    "\n",
    "now we've got our data in training and test sets"
   ]
  },
  {
   "cell_type": "code",
   "execution_count": 11,
   "id": "8e693680",
   "metadata": {},
   "outputs": [
    {
     "data": {
      "text/plain": [
       "<matplotlib.legend.Legend at 0x23bb7a44d00>"
      ]
     },
     "execution_count": 11,
     "metadata": {},
     "output_type": "execute_result"
    },
    {
     "data": {
      "image/png": "[encoded data removed]",
      "text/plain": [
       "<Figure size 720x504 with 1 Axes>"
      ]
     },
     "metadata": {
      "needs_background": "light"
     },
     "output_type": "display_data"
    }
   ],
   "source": [
    "plt.figure(figsize=(10,7))\n",
    "#plot training data in blue\n",
    "plt.scatter(x_train,y_train,color='blue',label='training data')\n",
    "\n",
    "# plot testing datain green\n",
    "plt.scatter(x_test,y_test,c='green',label='testing data ')\n",
    "#show a legend \n",
    "plt.legend()\n"
   ]
  },
  {
   "cell_type": "code",
   "execution_count": 12,
   "id": "a8fe18d5",
   "metadata": {},
   "outputs": [],
   "source": [
    "# build the model \n",
    "\n",
    "model = tf.keras.Sequential(\n",
    "\n",
    "\n",
    "[\n",
    "    tf.keras.layers.Dense(1)\n",
    "    \n",
    "]\n",
    ")\n",
    "\n",
    "model.compile(loss=tf.keras.losses.mae , optimizer = tf.keras.optimizers.SGD() , metrics=['mae'])\n",
    "\n",
    "# model.fit(x_train,y_train,epochs = 100)"
   ]
  },
  {
   "cell_type": "code",
   "execution_count": 13,
   "id": "7400acc1",
   "metadata": {},
   "outputs": [
    {
     "ename": "ValueError",
     "evalue": "This model has not yet been built. Build the model first by calling `build()` or by calling the model on a batch of data.",
     "output_type": "error",
     "traceback": [
      "\u001b[1;31m---------------------------------------------------------------------------\u001b[0m",
      "\u001b[1;31mValueError\u001b[0m                                Traceback (most recent call last)",
      "\u001b[1;32m~\\AppData\\Local\\Temp/ipykernel_30952/1792117753.py\u001b[0m in \u001b[0;36m<module>\u001b[1;34m\u001b[0m\n\u001b[0;32m      1\u001b[0m \u001b[1;31m# visualize the model\u001b[0m\u001b[1;33m\u001b[0m\u001b[1;33m\u001b[0m\u001b[0m\n\u001b[0;32m      2\u001b[0m \u001b[1;33m\u001b[0m\u001b[0m\n\u001b[1;32m----> 3\u001b[1;33m \u001b[0mmodel\u001b[0m\u001b[1;33m.\u001b[0m\u001b[0msummary\u001b[0m\u001b[1;33m(\u001b[0m\u001b[1;33m)\u001b[0m\u001b[1;33m\u001b[0m\u001b[1;33m\u001b[0m\u001b[0m\n\u001b[0m",
      "\u001b[1;32md:\\Users\\Public\\lib\\site-packages\\keras\\src\\engine\\training.py\u001b[0m in \u001b[0;36msummary\u001b[1;34m(self, line_length, positions, print_fn, expand_nested, show_trainable, layer_range)\u001b[0m\n\u001b[0;32m   3480\u001b[0m         \"\"\"\n\u001b[0;32m   3481\u001b[0m         \u001b[1;32mif\u001b[0m \u001b[1;32mnot\u001b[0m \u001b[0mself\u001b[0m\u001b[1;33m.\u001b[0m\u001b[0mbuilt\u001b[0m\u001b[1;33m:\u001b[0m\u001b[1;33m\u001b[0m\u001b[1;33m\u001b[0m\u001b[0m\n\u001b[1;32m-> 3482\u001b[1;33m             raise ValueError(\n\u001b[0m\u001b[0;32m   3483\u001b[0m                 \u001b[1;34m\"This model has not yet been built. \"\u001b[0m\u001b[1;33m\u001b[0m\u001b[1;33m\u001b[0m\u001b[0m\n\u001b[0;32m   3484\u001b[0m                 \u001b[1;34m\"Build the model first by calling `build()` or by calling \"\u001b[0m\u001b[1;33m\u001b[0m\u001b[1;33m\u001b[0m\u001b[0m\n",
      "\u001b[1;31mValueError\u001b[0m: This model has not yet been built. Build the model first by calling `build()` or by calling the model on a batch of data."
     ]
    }
   ],
   "source": [
    "# visualize the model\n",
    "\n",
    "model.summary()"
   ]
  },
  {
   "cell_type": "code",
   "execution_count": 14,
   "id": "d34abe36",
   "metadata": {},
   "outputs": [
    {
     "data": {
      "text/plain": [
       "TensorShape([])"
      ]
     },
     "execution_count": 14,
     "metadata": {},
     "output_type": "execute_result"
    }
   ],
   "source": [
    "x[0].shape # it is a scaler value"
   ]
  },
  {
   "cell_type": "code",
   "execution_count": 15,
   "id": "82a85c5d",
   "metadata": {},
   "outputs": [
    {
     "data": {
      "text/plain": [
       "(<tf.Tensor: shape=(), dtype=int32, numpy=-100>,\n",
       " <tf.Tensor: shape=(), dtype=int32, numpy=-90>)"
      ]
     },
     "execution_count": 15,
     "metadata": {},
     "output_type": "execute_result"
    }
   ],
   "source": [
    "x[0] , y[0]\n",
    "\n",
    "# the shape is 1 because we are passing one number to predict one number "
   ]
  },
  {
   "cell_type": "code",
   "execution_count": null,
   "id": "e03306fc",
   "metadata": {},
   "outputs": [],
   "source": []
  },
  {
   "cell_type": "code",
   "execution_count": 16,
   "id": "a69534b7",
   "metadata": {},
   "outputs": [
    {
     "name": "stderr",
     "output_type": "stream",
     "text": [
      "WARNING:absl:`lr` is deprecated in Keras optimizer, please use `learning_rate` or use the legacy optimizer, e.g.,tf.keras.optimizers.legacy.SGD.\n"
     ]
    }
   ],
   "source": [
    "# lets create a model which builds automatically by defining the input shape on the first layer \n",
    "\n",
    "tf.random.set_seed(42)\n",
    "\n",
    "# create a model\n",
    "\n",
    "model =tf.keras.Sequential(\n",
    "\n",
    "\n",
    "[\n",
    "    tf.keras.layers.Dense(1,input_shape=[1])\n",
    "    \n",
    "]\n",
    ")\n",
    "#compile the model\n",
    "\n",
    "model.compile(loss =tf.keras.losses.mae , optimizer = tf.keras.optimizers.SGD(lr=1.45),metrics=['mae'])\n",
    "\n"
   ]
  },
  {
   "cell_type": "code",
   "execution_count": 17,
   "id": "ead58d24",
   "metadata": {},
   "outputs": [
    {
     "name": "stdout",
     "output_type": "stream",
     "text": [
      "Model: \"sequential_1\"\n",
      "_________________________________________________________________\n",
      " Layer (type)                Output Shape              Param #   \n",
      "=================================================================\n",
      " dense_1 (Dense)             (None, 1)                 2         \n",
      "                                                                 \n",
      "=================================================================\n",
      "Total params: 2 (8.00 Byte)\n",
      "Trainable params: 2 (8.00 Byte)\n",
      "Non-trainable params: 0 (0.00 Byte)\n",
      "_________________________________________________________________\n"
     ]
    }
   ],
   "source": [
    "model.summary() # dense will be same as fully connected "
   ]
  },
  {
   "cell_type": "markdown",
   "id": "6dab2f15",
   "metadata": {},
   "source": [
    "** total paramters -- total number of parameters in the model \n",
    "\n",
    "** trainable parameters --these are the parameters (patterns ) the model can update as it trains \n",
    "\n",
    "** non-trainable params -- these parameters aren't updated during training (this is typical when you bring in already learn patterns or parameters from other models during **transfer learning)\n",
    "\n",
    "\n",
    "**** resource ****\n",
    "for a more in-depth overview of the trainable parameters within a layer , check out MIT's introduction to deep learning "
   ]
  },
  {
   "cell_type": "code",
   "execution_count": 20,
   "id": "33af7ded",
   "metadata": {},
   "outputs": [
    {
     "data": {
      "text/plain": [
       "<keras.src.callbacks.History at 0x23bb91f93d0>"
      ]
     },
     "execution_count": 20,
     "metadata": {},
     "output_type": "execute_result"
    }
   ],
   "source": [
    "model.fit(x_train,y_train,epochs = 100 , verbose=0)"
   ]
  },
  {
   "cell_type": "code",
   "execution_count": 26,
   "id": "91c7b78f",
   "metadata": {
    "scrolled": true
   },
   "outputs": [
    {
     "name": "stdout",
     "output_type": "stream",
     "text": [
      "1/1 [==============================] - 0s 101ms/step\n"
     ]
    }
   ],
   "source": [
    "y_pred = model.predict(x_test)"
   ]
  },
  {
   "cell_type": "code",
   "execution_count": 27,
   "id": "0b8b071b",
   "metadata": {},
   "outputs": [
    {
     "data": {
      "text/plain": [
       "array([[ 76.447685],\n",
       "       [ 81.37391 ],\n",
       "       [ 86.30013 ],\n",
       "       [ 91.22635 ],\n",
       "       [ 96.15257 ],\n",
       "       [101.07879 ],\n",
       "       [106.00501 ],\n",
       "       [110.93124 ],\n",
       "       [115.85745 ],\n",
       "       [120.783676]], dtype=float32)"
      ]
     },
     "execution_count": 27,
     "metadata": {},
     "output_type": "execute_result"
    }
   ],
   "source": [
    "y_pred"
   ]
  },
  {
   "cell_type": "code",
   "execution_count": 28,
   "id": "f2a3664b",
   "metadata": {},
   "outputs": [
    {
     "data": {
      "text/plain": [
       "<tf.Tensor: shape=(10,), dtype=int32, numpy=array([ 70,  74,  78,  82,  86,  90,  94,  98, 102, 106])>"
      ]
     },
     "execution_count": 28,
     "metadata": {},
     "output_type": "execute_result"
    }
   ],
   "source": [
    "y_test"
   ]
  },
  {
   "cell_type": "markdown",
   "id": "6e19bd47",
   "metadata": {},
   "source": [
    "#### converts a  keras model to dot format and save to file \n",
    "    \n",
    "from tensorflow.keras.utils import plot_model\n",
    "\n",
    "plt_model(model=model)"
   ]
  },
  {
   "cell_type": "markdown",
   "id": "8c530848",
   "metadata": {},
   "source": [
    "## visualize our model predictions "
   ]
  },
  {
   "cell_type": "markdown",
   "id": "348fa7e3",
   "metadata": {},
   "source": [
    "to visualize predictions its a good idea to plot them against the ground truth tables \n",
    "\n",
    "often you'll see this in the form of y_test verses y_pred "
   ]
  },
  {
   "cell_type": "code",
   "execution_count": 29,
   "id": "500ab012",
   "metadata": {},
   "outputs": [],
   "source": [
    "# calculate the mean absoulte error \n",
    "\n",
    "mae = tf.keras.losses.mae(y_true = y_test , y_pred = tf.constant(y_pred))"
   ]
  },
  {
   "cell_type": "code",
   "execution_count": 30,
   "id": "d14e0f67",
   "metadata": {},
   "outputs": [
    {
     "data": {
      "text/plain": [
       "<tf.Tensor: shape=(10,), dtype=float32, numpy=\n",
       "array([13.331388, 11.050436, 10.      , 10.24527 , 11.661029, 14.247273,\n",
       "       18.005013, 22.931236, 27.857452, 32.783676], dtype=float32)>"
      ]
     },
     "execution_count": 30,
     "metadata": {},
     "output_type": "execute_result"
    }
   ],
   "source": [
    "mae"
   ]
  },
  {
   "cell_type": "code",
   "execution_count": 31,
   "id": "56293158",
   "metadata": {},
   "outputs": [
    {
     "data": {
      "text/plain": [
       "<tf.Tensor: shape=(10, 1), dtype=float32, numpy=\n",
       "array([[ 76.447685],\n",
       "       [ 81.37391 ],\n",
       "       [ 86.30013 ],\n",
       "       [ 91.22635 ],\n",
       "       [ 96.15257 ],\n",
       "       [101.07879 ],\n",
       "       [106.00501 ],\n",
       "       [110.93124 ],\n",
       "       [115.85745 ],\n",
       "       [120.783676]], dtype=float32)>"
      ]
     },
     "execution_count": 31,
     "metadata": {},
     "output_type": "execute_result"
    }
   ],
   "source": [
    "tf.constant(y_pred)"
   ]
  },
  {
   "cell_type": "code",
   "execution_count": 32,
   "id": "cc6cc799",
   "metadata": {},
   "outputs": [
    {
     "data": {
      "text/plain": [
       "<tf.Tensor: shape=(10,), dtype=int32, numpy=array([ 70,  74,  78,  82,  86,  90,  94,  98, 102, 106])>"
      ]
     },
     "execution_count": 32,
     "metadata": {},
     "output_type": "execute_result"
    }
   ],
   "source": [
    "y_test"
   ]
  },
  {
   "cell_type": "code",
   "execution_count": 33,
   "id": "4167af3e",
   "metadata": {},
   "outputs": [
    {
     "data": {
      "text/plain": [
       "<tf.Tensor: shape=(10,), dtype=float32, numpy=\n",
       "array([ 76.447685,  81.37391 ,  86.30013 ,  91.22635 ,  96.15257 ,\n",
       "       101.07879 , 106.00501 , 110.93124 , 115.85745 , 120.783676],\n",
       "      dtype=float32)>"
      ]
     },
     "execution_count": 33,
     "metadata": {},
     "output_type": "execute_result"
    }
   ],
   "source": [
    "tf.squeeze(y_pred)"
   ]
  },
  {
   "cell_type": "code",
   "execution_count": 34,
   "id": "865e1731",
   "metadata": {},
   "outputs": [],
   "source": [
    "# calculate the mean absoulte error\n",
    "\n",
    "mae = tf.metrics.mean_absolute_error(y_true = y_test , y_pred = tf.squeeze(y_pred))"
   ]
  },
  {
   "cell_type": "code",
   "execution_count": 35,
   "id": "1432a6cc",
   "metadata": {},
   "outputs": [
    {
     "data": {
      "text/plain": [
       "<tf.Tensor: shape=(), dtype=float32, numpy=10.615682>"
      ]
     },
     "execution_count": 35,
     "metadata": {},
     "output_type": "execute_result"
    }
   ],
   "source": [
    "mae"
   ]
  },
  {
   "cell_type": "code",
   "execution_count": 36,
   "id": "547e6255",
   "metadata": {},
   "outputs": [
    {
     "name": "stdout",
     "output_type": "stream",
     "text": [
      "1/1 [==============================] - 0s 101ms/step\n"
     ]
    },
    {
     "data": {
      "text/plain": [
       "array([[ 76.447685],\n",
       "       [ 81.37391 ],\n",
       "       [ 86.30013 ],\n",
       "       [ 91.22635 ],\n",
       "       [ 96.15257 ],\n",
       "       [101.07879 ],\n",
       "       [106.00501 ],\n",
       "       [110.93124 ],\n",
       "       [115.85745 ],\n",
       "       [120.783676]], dtype=float32)"
      ]
     },
     "execution_count": 36,
     "metadata": {},
     "output_type": "execute_result"
    }
   ],
   "source": [
    "# make some preditions \n",
    "\n",
    "y_pred = model.predict(x_test)\n",
    "y_pred"
   ]
  },
  {
   "cell_type": "code",
   "execution_count": 37,
   "id": "d7fb2a3b",
   "metadata": {},
   "outputs": [
    {
     "data": {
      "text/plain": [
       "<tf.Tensor: shape=(10,), dtype=int32, numpy=array([ 70,  74,  78,  82,  86,  90,  94,  98, 102, 106])>"
      ]
     },
     "execution_count": 37,
     "metadata": {},
     "output_type": "execute_result"
    }
   ],
   "source": [
    "y_test"
   ]
  },
  {
   "cell_type": "code",
   "execution_count": 38,
   "id": "83b06311",
   "metadata": {},
   "outputs": [],
   "source": [
    "# lets create a plotting function\n",
    "\n",
    "def plot_predictions(train_data=x_train , train_lables = y_train ,test_data = x_test ,test_labels = y_test ,predictions = y_pred):\n",
    "    '''plots training data , test data and compare predictions '''\n",
    "    plt.figure(figsize=(10,7))\n",
    "    # plot the training data\n",
    "    plt.scatter(train_data , train_lables , c='b' , label='training_data')\n",
    "    #plot the testing data\n",
    "    plt.scatter(test_data , test_labels , c='green',label ='testing_data ')\n",
    "    #plot model predictions\n",
    "    plt.scatter(test_data , predictions , c='red',label='predictions')\n",
    "    plt.legend()\n",
    "    plt.show()"
   ]
  },
  {
   "cell_type": "code",
   "execution_count": 39,
   "id": "ba9ddb25",
   "metadata": {},
   "outputs": [
    {
     "data": {
      "image/png": "[encoded data removed]",
      "text/plain": [
       "<Figure size 720x504 with 1 Axes>"
      ]
     },
     "metadata": {
      "needs_background": "light"
     },
     "output_type": "display_data"
    }
   ],
   "source": [
    "plot_predictions()"
   ]
  },
  {
   "cell_type": "markdown",
   "id": "1a16d9f8",
   "metadata": {},
   "source": [
    "### evaluating our models predictions with regression evaluate metrics"
   ]
  },
  {
   "cell_type": "markdown",
   "id": "2903659b",
   "metadata": {},
   "source": [
    "depending on the problem we are working on ,there will be different evaluation metrics to evaluate your model performance \n",
    "\n",
    "since working on regression problem there are 2 techniques\n",
    "\n",
    "1.MAE -- mean absolute error , 'on average , how wrong is each of my models predictions '\n",
    "\n",
    "2.MSE -- mean sqaure error , 'squaring the average errors '"
   ]
  },
  {
   "cell_type": "code",
   "execution_count": 40,
   "id": "6790c0e7",
   "metadata": {},
   "outputs": [
    {
     "name": "stdout",
     "output_type": "stream",
     "text": [
      "1/1 [==============================] - 0s 393ms/step - loss: 10.6157 - mae: 10.6157\n"
     ]
    },
    {
     "data": {
      "text/plain": [
       "[10.615681648254395, 10.615681648254395]"
      ]
     },
     "execution_count": 40,
     "metadata": {},
     "output_type": "execute_result"
    }
   ],
   "source": [
    "# evaluate the model on test \n",
    "model.evaluate(x_test , y_test)"
   ]
  },
  {
   "cell_type": "code",
   "execution_count": 41,
   "id": "a14fb621",
   "metadata": {},
   "outputs": [
    {
     "data": {
      "text/plain": [
       "<tf.Tensor: shape=(), dtype=float32, numpy=119.77024>"
      ]
     },
     "execution_count": 41,
     "metadata": {},
     "output_type": "execute_result"
    }
   ],
   "source": [
    "#3 calculate the mean square error \n",
    "\n",
    "tf.keras.losses.mean_squared_error(y_true= y_test , y_pred = tf.squeeze(y_pred))"
   ]
  },
  {
   "cell_type": "code",
   "execution_count": 61,
   "id": "0562abe7",
   "metadata": {},
   "outputs": [],
   "source": [
    "# make some funtions to reuse mae , mse\n",
    "\n",
    "def mae(y_true , y_pred):\n",
    "    return tf.keras.losses.mean_absolute_error(y_true=y_true , y_pred = tf.squeeze(y_pred))\n",
    "def mse(y_true , y_pred):\n",
    "    return tf.keras.losses.mean_squared_error(y_true=y_true , y_pred = tf.squeeze(y_pred))\n"
   ]
  },
  {
   "cell_type": "markdown",
   "id": "7336ffea",
   "metadata": {},
   "source": [
    "### running experiments to improve the model"
   ]
  },
  {
   "cell_type": "markdown",
   "id": "53e62e9a",
   "metadata": {},
   "source": [
    "1..get more data -- get more examples for your model to train\n",
    "\n",
    "2. make your model larger (using a more complex model) -- this might come in the form of more layers or more hidden layers in each layer\n",
    "\n",
    "3. train for longer -- give ur model more of a chance to find patterns in the data \n",
    "\n",
    "\n",
    "lets do 3 modelling experiments --\n",
    "\n",
    "1. model_1 -- same  as the original model , 1 layer , trained for 100 epochs \n",
    "\n",
    "2. model_2 -- 2 layers , trained for 100 epochs \n",
    "\n",
    "3. model_3 -- 2 layers , trained for 500 epochs "
   ]
  },
  {
   "cell_type": "code",
   "execution_count": 43,
   "id": "767dca82",
   "metadata": {},
   "outputs": [
    {
     "data": {
      "text/plain": [
       "(<tf.Tensor: shape=(40,), dtype=int32, numpy=\n",
       " array([-100,  -96,  -92,  -88,  -84,  -80,  -76,  -72,  -68,  -64,  -60,\n",
       "         -56,  -52,  -48,  -44,  -40,  -36,  -32,  -28,  -24,  -20,  -16,\n",
       "         -12,   -8,   -4,    0,    4,    8,   12,   16,   20,   24,   28,\n",
       "          32,   36,   40,   44,   48,   52,   56])>,\n",
       " <tf.Tensor: shape=(40,), dtype=int32, numpy=\n",
       " array([-90, -86, -82, -78, -74, -70, -66, -62, -58, -54, -50, -46, -42,\n",
       "        -38, -34, -30, -26, -22, -18, -14, -10,  -6,  -2,   2,   6,  10,\n",
       "         14,  18,  22,  26,  30,  34,  38,  42,  46,  50,  54,  58,  62,\n",
       "         66])>)"
      ]
     },
     "execution_count": 43,
     "metadata": {},
     "output_type": "execute_result"
    }
   ],
   "source": [
    "x_train , y_train"
   ]
  },
  {
   "cell_type": "code",
   "execution_count": 47,
   "id": "2b1b286d",
   "metadata": {},
   "outputs": [
    {
     "name": "stdout",
     "output_type": "stream",
     "text": [
      "Epoch 1/100\n",
      "2/2 [==============================] - 1s 18ms/step - loss: 60.5234 - mae: 60.5234\n",
      "Epoch 2/100\n",
      "2/2 [==============================] - 0s 8ms/step - loss: 25.7561 - mae: 25.7561\n",
      "Epoch 3/100\n",
      "2/2 [==============================] - 0s 8ms/step - loss: 10.6988 - mae: 10.6988\n",
      "Epoch 4/100\n",
      "2/2 [==============================] - 0s 10ms/step - loss: 13.2811 - mae: 13.2811\n",
      "Epoch 5/100\n",
      "2/2 [==============================] - 0s 9ms/step - loss: 7.7782 - mae: 7.7782\n",
      "Epoch 6/100\n",
      "2/2 [==============================] - 0s 10ms/step - loss: 10.6195 - mae: 10.6195\n",
      "Epoch 7/100\n",
      "2/2 [==============================] - 0s 9ms/step - loss: 9.5738 - mae: 9.5738\n",
      "Epoch 8/100\n",
      "2/2 [==============================] - 0s 11ms/step - loss: 9.0288 - mae: 9.0288\n",
      "Epoch 9/100\n",
      "2/2 [==============================] - 0s 9ms/step - loss: 17.8524 - mae: 17.8524\n",
      "Epoch 10/100\n",
      "2/2 [==============================] - 0s 9ms/step - loss: 9.6244 - mae: 9.6244\n",
      "Epoch 11/100\n",
      "2/2 [==============================] - 0s 9ms/step - loss: 8.2162 - mae: 8.2162\n",
      "Epoch 12/100\n",
      "2/2 [==============================] - 0s 9ms/step - loss: 10.2910 - mae: 10.2910\n",
      "Epoch 13/100\n",
      "2/2 [==============================] - 0s 7ms/step - loss: 12.0428 - mae: 12.0428\n",
      "Epoch 14/100\n",
      "2/2 [==============================] - 0s 8ms/step - loss: 13.9535 - mae: 13.9535\n",
      "Epoch 15/100\n",
      "2/2 [==============================] - 0s 9ms/step - loss: 11.3456 - mae: 11.3456\n",
      "Epoch 16/100\n",
      "2/2 [==============================] - 0s 9ms/step - loss: 8.5727 - mae: 8.5727\n",
      "Epoch 17/100\n",
      "2/2 [==============================] - 0s 7ms/step - loss: 13.6979 - mae: 13.6979\n",
      "Epoch 18/100\n",
      "2/2 [==============================] - 0s 8ms/step - loss: 11.5384 - mae: 11.5384\n",
      "Epoch 19/100\n",
      "2/2 [==============================] - 0s 9ms/step - loss: 17.8491 - mae: 17.8491\n",
      "Epoch 20/100\n",
      "2/2 [==============================] - 0s 10ms/step - loss: 14.9843 - mae: 14.9843\n",
      "Epoch 21/100\n",
      "2/2 [==============================] - 0s 8ms/step - loss: 10.8645 - mae: 10.8645\n",
      "Epoch 22/100\n",
      "2/2 [==============================] - 0s 7ms/step - loss: 8.6169 - mae: 8.6169\n",
      "Epoch 23/100\n",
      "2/2 [==============================] - 0s 8ms/step - loss: 9.7147 - mae: 9.7147\n",
      "Epoch 24/100\n",
      "2/2 [==============================] - 0s 8ms/step - loss: 10.9773 - mae: 10.9773\n",
      "Epoch 25/100\n",
      "2/2 [==============================] - 0s 9ms/step - loss: 9.1767 - mae: 9.1767\n",
      "Epoch 26/100\n",
      "2/2 [==============================] - 0s 10ms/step - loss: 13.2156 - mae: 13.2156\n",
      "Epoch 27/100\n",
      "2/2 [==============================] - 0s 10ms/step - loss: 10.6844 - mae: 10.6844\n",
      "Epoch 28/100\n",
      "2/2 [==============================] - 0s 10ms/step - loss: 12.9091 - mae: 12.9091\n",
      "Epoch 29/100\n",
      "2/2 [==============================] - 0s 8ms/step - loss: 9.5239 - mae: 9.5239\n",
      "Epoch 30/100\n",
      "2/2 [==============================] - 0s 8ms/step - loss: 16.4385 - mae: 16.4385\n",
      "Epoch 31/100\n",
      "2/2 [==============================] - 0s 9ms/step - loss: 23.5632 - mae: 23.5632\n",
      "Epoch 32/100\n",
      "2/2 [==============================] - 0s 6ms/step - loss: 7.6186 - mae: 7.6186\n",
      "Epoch 33/100\n",
      "2/2 [==============================] - 0s 10ms/step - loss: 9.3144 - mae: 9.3144\n",
      "Epoch 34/100\n",
      "2/2 [==============================] - 0s 7ms/step - loss: 13.6779 - mae: 13.6779\n",
      "Epoch 35/100\n",
      "2/2 [==============================] - 0s 9ms/step - loss: 11.1735 - mae: 11.1735\n",
      "Epoch 36/100\n",
      "2/2 [==============================] - 0s 8ms/step - loss: 13.4008 - mae: 13.4008\n",
      "Epoch 37/100\n",
      "2/2 [==============================] - 0s 8ms/step - loss: 9.4587 - mae: 9.4587\n",
      "Epoch 38/100\n",
      "2/2 [==============================] - 0s 11ms/step - loss: 10.1097 - mae: 10.1097\n",
      "Epoch 39/100\n",
      "2/2 [==============================] - 0s 11ms/step - loss: 8.9857 - mae: 8.9857\n",
      "Epoch 40/100\n",
      "2/2 [==============================] - 0s 8ms/step - loss: 9.6145 - mae: 9.6145\n",
      "Epoch 41/100\n",
      "2/2 [==============================] - 0s 10ms/step - loss: 10.5755 - mae: 10.5755\n",
      "Epoch 42/100\n",
      "2/2 [==============================] - 0s 6ms/step - loss: 10.6296 - mae: 10.6296\n",
      "Epoch 43/100\n",
      "2/2 [==============================] - 0s 8ms/step - loss: 7.2195 - mae: 7.2195\n",
      "Epoch 44/100\n",
      "2/2 [==============================] - 0s 8ms/step - loss: 8.0267 - mae: 8.0267\n",
      "Epoch 45/100\n",
      "2/2 [==============================] - 0s 8ms/step - loss: 9.8301 - mae: 9.8301\n",
      "Epoch 46/100\n",
      "2/2 [==============================] - 0s 8ms/step - loss: 8.9102 - mae: 8.9102\n",
      "Epoch 47/100\n",
      "2/2 [==============================] - 0s 10ms/step - loss: 7.5740 - mae: 7.5740\n",
      "Epoch 48/100\n",
      "2/2 [==============================] - 0s 10ms/step - loss: 8.5363 - mae: 8.5363\n",
      "Epoch 49/100\n",
      "2/2 [==============================] - 0s 10ms/step - loss: 10.0423 - mae: 10.0423\n",
      "Epoch 50/100\n",
      "2/2 [==============================] - 0s 10ms/step - loss: 8.9819 - mae: 8.9819\n",
      "Epoch 51/100\n",
      "2/2 [==============================] - 0s 8ms/step - loss: 10.7198 - mae: 10.7198\n",
      "Epoch 52/100\n",
      "2/2 [==============================] - 0s 8ms/step - loss: 15.2627 - mae: 15.2627\n",
      "Epoch 53/100\n",
      "2/2 [==============================] - 0s 9ms/step - loss: 14.2935 - mae: 14.2935\n",
      "Epoch 54/100\n",
      "2/2 [==============================] - 0s 9ms/step - loss: 21.5385 - mae: 21.5385\n",
      "Epoch 55/100\n",
      "2/2 [==============================] - 0s 10ms/step - loss: 16.0603 - mae: 16.0603\n",
      "Epoch 56/100\n",
      "2/2 [==============================] - 0s 12ms/step - loss: 10.2453 - mae: 10.2453\n",
      "Epoch 57/100\n",
      "2/2 [==============================] - 0s 10ms/step - loss: 9.8065 - mae: 9.8065\n",
      "Epoch 58/100\n",
      "2/2 [==============================] - 0s 10ms/step - loss: 9.0886 - mae: 9.0886\n",
      "Epoch 59/100\n",
      "2/2 [==============================] - 0s 10ms/step - loss: 8.2918 - mae: 8.2918\n",
      "Epoch 60/100\n",
      "2/2 [==============================] - 0s 9ms/step - loss: 9.3844 - mae: 9.3844\n",
      "Epoch 61/100\n",
      "2/2 [==============================] - 0s 9ms/step - loss: 11.2159 - mae: 11.2159\n",
      "Epoch 62/100\n",
      "2/2 [==============================] - 0s 11ms/step - loss: 12.0319 - mae: 12.0319\n",
      "Epoch 63/100\n",
      "2/2 [==============================] - 0s 11ms/step - loss: 7.2804 - mae: 7.2804\n",
      "Epoch 64/100\n",
      "2/2 [==============================] - 0s 8ms/step - loss: 12.4756 - mae: 12.4756\n",
      "Epoch 65/100\n",
      "2/2 [==============================] - 0s 8ms/step - loss: 10.5518 - mae: 10.5518\n",
      "Epoch 66/100\n",
      "2/2 [==============================] - 0s 12ms/step - loss: 15.5637 - mae: 15.5637\n",
      "Epoch 67/100\n",
      "2/2 [==============================] - 0s 8ms/step - loss: 9.9808 - mae: 9.9808\n",
      "Epoch 68/100\n",
      "2/2 [==============================] - 0s 8ms/step - loss: 8.7134 - mae: 8.7134\n",
      "Epoch 69/100\n",
      "2/2 [==============================] - 0s 7ms/step - loss: 13.4401 - mae: 13.4401\n",
      "Epoch 70/100\n",
      "2/2 [==============================] - 0s 8ms/step - loss: 7.4771 - mae: 7.4771\n",
      "Epoch 71/100\n",
      "2/2 [==============================] - 0s 8ms/step - loss: 12.2786 - mae: 12.2786\n",
      "Epoch 72/100\n",
      "2/2 [==============================] - 0s 7ms/step - loss: 8.5110 - mae: 8.5110\n",
      "Epoch 73/100\n",
      "2/2 [==============================] - 0s 10ms/step - loss: 6.8768 - mae: 6.8768\n",
      "Epoch 74/100\n",
      "2/2 [==============================] - 0s 9ms/step - loss: 11.1537 - mae: 11.1537\n",
      "Epoch 75/100\n",
      "2/2 [==============================] - 0s 10ms/step - loss: 9.3756 - mae: 9.3756\n",
      "Epoch 76/100\n",
      "2/2 [==============================] - 0s 9ms/step - loss: 10.8373 - mae: 10.8373\n",
      "Epoch 77/100\n",
      "2/2 [==============================] - 0s 7ms/step - loss: 14.7048 - mae: 14.7048\n",
      "Epoch 78/100\n",
      "2/2 [==============================] - 0s 8ms/step - loss: 11.1673 - mae: 11.1673\n",
      "Epoch 79/100\n",
      "2/2 [==============================] - 0s 8ms/step - loss: 14.7261 - mae: 14.7261\n",
      "Epoch 80/100\n",
      "2/2 [==============================] - 0s 9ms/step - loss: 8.9305 - mae: 8.9305\n",
      "Epoch 81/100\n",
      "2/2 [==============================] - 0s 7ms/step - loss: 10.7690 - mae: 10.7690\n",
      "Epoch 82/100\n",
      "2/2 [==============================] - 0s 9ms/step - loss: 8.4127 - mae: 8.4127\n",
      "Epoch 83/100\n",
      "2/2 [==============================] - 0s 8ms/step - loss: 9.2275 - mae: 9.2275\n",
      "Epoch 84/100\n",
      "2/2 [==============================] - 0s 12ms/step - loss: 8.9515 - mae: 8.9515\n",
      "Epoch 85/100\n",
      "2/2 [==============================] - 0s 8ms/step - loss: 13.1864 - mae: 13.1864\n",
      "Epoch 86/100\n",
      "2/2 [==============================] - 0s 8ms/step - loss: 13.7247 - mae: 13.7247\n",
      "Epoch 87/100\n",
      "2/2 [==============================] - 0s 9ms/step - loss: 13.2095 - mae: 13.2095\n",
      "Epoch 88/100\n",
      "2/2 [==============================] - 0s 10ms/step - loss: 11.5374 - mae: 11.5374\n",
      "Epoch 89/100\n",
      "2/2 [==============================] - 0s 8ms/step - loss: 7.8203 - mae: 7.8203\n",
      "Epoch 90/100\n",
      "2/2 [==============================] - 0s 8ms/step - loss: 10.9525 - mae: 10.9525\n",
      "Epoch 91/100\n",
      "2/2 [==============================] - 0s 8ms/step - loss: 6.7622 - mae: 6.7622\n",
      "Epoch 92/100\n",
      "2/2 [==============================] - 0s 9ms/step - loss: 10.1453 - mae: 10.1453\n",
      "Epoch 93/100\n",
      "2/2 [==============================] - 0s 8ms/step - loss: 7.6140 - mae: 7.6140\n",
      "Epoch 94/100\n",
      "2/2 [==============================] - 0s 8ms/step - loss: 9.2464 - mae: 9.2464\n",
      "Epoch 95/100\n",
      "2/2 [==============================] - 0s 8ms/step - loss: 10.8305 - mae: 10.8305\n",
      "Epoch 96/100\n",
      "2/2 [==============================] - 0s 8ms/step - loss: 10.3168 - mae: 10.3168\n",
      "Epoch 97/100\n",
      "2/2 [==============================] - 0s 8ms/step - loss: 7.6837 - mae: 7.6837\n",
      "Epoch 98/100\n",
      "2/2 [==============================] - 0s 8ms/step - loss: 8.6206 - mae: 8.6206\n",
      "Epoch 99/100\n",
      "2/2 [==============================] - 0s 7ms/step - loss: 9.3984 - mae: 9.3984\n",
      "Epoch 100/100\n",
      "2/2 [==============================] - 0s 8ms/step - loss: 8.8465 - mae: 8.8465\n"
     ]
    },
    {
     "data": {
      "text/plain": [
       "<keras.src.callbacks.History at 0x23bb930f220>"
      ]
     },
     "execution_count": 47,
     "metadata": {},
     "output_type": "execute_result"
    }
   ],
   "source": [
    "# set random seed\n",
    "\n",
    "tf.random.set_seed(42)\n",
    "\n",
    "model_1 = tf.keras.Sequential(\n",
    "\n",
    "[\n",
    "    tf.keras.layers.Dense(1 , input_shape=[1])\n",
    "]\n",
    "\n",
    "\n",
    ")\n",
    "model_1.compile(loss =tf.keras.losses.mae , optimizer = tf.keras.optimizers.SGD() , metrics = ['mae'])\n",
    "model_1.fit(x_train , y_train ,epochs = 100)"
   ]
  },
  {
   "cell_type": "code",
   "execution_count": 51,
   "id": "c8b9d2b7",
   "metadata": {},
   "outputs": [
    {
     "name": "stdout",
     "output_type": "stream",
     "text": [
      "1/1 [==============================] - 0s 139ms/step\n"
     ]
    }
   ],
   "source": [
    "# make and plot predictions of model_1\n",
    "\n",
    "y_pred1 = model_1.predict(x_test)"
   ]
  },
  {
   "cell_type": "code",
   "execution_count": 52,
   "id": "ecc0aff6",
   "metadata": {},
   "outputs": [
    {
     "data": {
      "text/plain": [
       "array([[ 74.56932 ],\n",
       "       [ 79.45499 ],\n",
       "       [ 84.34065 ],\n",
       "       [ 89.22631 ],\n",
       "       [ 94.11198 ],\n",
       "       [ 98.997635],\n",
       "       [103.8833  ],\n",
       "       [108.76897 ],\n",
       "       [113.654625],\n",
       "       [118.54029 ]], dtype=float32)"
      ]
     },
     "execution_count": 52,
     "metadata": {},
     "output_type": "execute_result"
    }
   ],
   "source": [
    "y_pred1"
   ]
  },
  {
   "cell_type": "code",
   "execution_count": 54,
   "id": "5040e91c",
   "metadata": {},
   "outputs": [
    {
     "data": {
      "image/png": "[encoded data removed]",
      "text/plain": [
       "<Figure size 720x504 with 1 Axes>"
      ]
     },
     "metadata": {
      "needs_background": "light"
     },
     "output_type": "display_data"
    }
   ],
   "source": [
    "plot_predictions(predictions = y_pred1)"
   ]
  },
  {
   "cell_type": "code",
   "execution_count": null,
   "id": "a59487ab",
   "metadata": {},
   "outputs": [],
   "source": []
  },
  {
   "cell_type": "code",
   "execution_count": 62,
   "id": "b082941d",
   "metadata": {},
   "outputs": [
    {
     "data": {
      "text/plain": [
       "(<tf.Tensor: shape=(), dtype=float32, numpy=8.554807>,\n",
       " <tf.Tensor: shape=(), dtype=float32, numpy=79.656006>)"
      ]
     },
     "execution_count": 62,
     "metadata": {},
     "output_type": "execute_result"
    }
   ],
   "source": [
    "# calculate model_1  evaluation metrics\n",
    "\n",
    "mae_1 =mae(y_test ,y_pred1)\n",
    "\n",
    "mse_1 = mse(y_test , y_pred1)\n",
    "\n",
    "mae_1 , mse_1"
   ]
  },
  {
   "cell_type": "markdown",
   "id": "aea3a5b6",
   "metadata": {},
   "source": [
    "## model 2 "
   ]
  },
  {
   "cell_type": "code",
   "execution_count": 65,
   "id": "490e4112",
   "metadata": {},
   "outputs": [
    {
     "name": "stdout",
     "output_type": "stream",
     "text": [
      "Epoch 1/100\n",
      "2/2 [==============================] - 1s 15ms/step - loss: 65.3564 - mse: 6382.7725\n",
      "Epoch 2/100\n",
      "2/2 [==============================] - 0s 8ms/step - loss: 19.2133 - mse: 581.3535\n",
      "Epoch 3/100\n",
      "2/2 [==============================] - 0s 9ms/step - loss: 19.1556 - mse: 532.9695\n",
      "Epoch 4/100\n",
      "2/2 [==============================] - 0s 10ms/step - loss: 13.8455 - mse: 246.9064\n",
      "Epoch 5/100\n",
      "2/2 [==============================] - 0s 13ms/step - loss: 15.3022 - mse: 299.3038\n",
      "Epoch 6/100\n",
      "2/2 [==============================] - 0s 11ms/step - loss: 12.1469 - mse: 181.9157\n",
      "Epoch 7/100\n",
      "2/2 [==============================] - 0s 9ms/step - loss: 11.4371 - mse: 158.6758\n",
      "Epoch 8/100\n",
      "2/2 [==============================] - 0s 12ms/step - loss: 11.1819 - mse: 172.5601\n",
      "Epoch 9/100\n",
      "2/2 [==============================] - 0s 9ms/step - loss: 41.5078 - mse: 2741.0400\n",
      "Epoch 10/100\n",
      "2/2 [==============================] - 0s 6ms/step - loss: 28.7669 - mse: 1168.9590\n",
      "Epoch 11/100\n",
      "2/2 [==============================] - 0s 9ms/step - loss: 9.4119 - mse: 118.9468\n",
      "Epoch 12/100\n",
      "2/2 [==============================] - 0s 9ms/step - loss: 26.2310 - mse: 952.1113\n",
      "Epoch 13/100\n",
      "2/2 [==============================] - 0s 7ms/step - loss: 14.5202 - mse: 283.2705\n",
      "Epoch 14/100\n",
      "2/2 [==============================] - 0s 7ms/step - loss: 30.0526 - mse: 1444.7354\n",
      "Epoch 15/100\n",
      "2/2 [==============================] - 0s 7ms/step - loss: 19.8659 - mse: 552.7478\n",
      "Epoch 16/100\n",
      "2/2 [==============================] - 0s 7ms/step - loss: 9.8856 - mse: 126.0028\n",
      "Epoch 17/100\n",
      "2/2 [==============================] - 0s 8ms/step - loss: 17.7521 - mse: 416.7721\n",
      "Epoch 18/100\n",
      "2/2 [==============================] - 0s 10ms/step - loss: 14.2219 - mse: 319.5750\n",
      "Epoch 19/100\n",
      "2/2 [==============================] - 0s 8ms/step - loss: 14.0656 - mse: 309.0251\n",
      "Epoch 20/100\n",
      "2/2 [==============================] - 0s 8ms/step - loss: 11.2614 - mse: 147.0525\n",
      "Epoch 21/100\n",
      "2/2 [==============================] - 0s 9ms/step - loss: 17.3919 - mse: 429.2929\n",
      "Epoch 22/100\n",
      "2/2 [==============================] - 0s 8ms/step - loss: 15.6281 - mse: 336.9085\n",
      "Epoch 23/100\n",
      "2/2 [==============================] - 0s 10ms/step - loss: 9.2381 - mse: 118.8668\n",
      "Epoch 24/100\n",
      "2/2 [==============================] - 0s 8ms/step - loss: 17.2262 - mse: 406.1349\n",
      "Epoch 25/100\n",
      "2/2 [==============================] - 0s 9ms/step - loss: 15.9138 - mse: 332.4544\n",
      "Epoch 26/100\n",
      "2/2 [==============================] - 0s 9ms/step - loss: 20.8662 - mse: 646.2562\n",
      "Epoch 27/100\n",
      "2/2 [==============================] - 0s 8ms/step - loss: 26.1088 - mse: 1065.0392\n",
      "Epoch 28/100\n",
      "2/2 [==============================] - 0s 7ms/step - loss: 18.5882 - mse: 547.1886\n",
      "Epoch 29/100\n",
      "2/2 [==============================] - 0s 6ms/step - loss: 9.2530 - mse: 97.1862\n",
      "Epoch 30/100\n",
      "2/2 [==============================] - 0s 7ms/step - loss: 29.2075 - mse: 1527.7888\n",
      "Epoch 31/100\n",
      "2/2 [==============================] - 0s 10ms/step - loss: 52.9148 - mse: 5009.0127\n",
      "Epoch 32/100\n",
      "2/2 [==============================] - 0s 9ms/step - loss: 11.9814 - mse: 210.3742\n",
      "Epoch 33/100\n",
      "2/2 [==============================] - 0s 9ms/step - loss: 15.6031 - mse: 335.7342\n",
      "Epoch 34/100\n",
      "2/2 [==============================] - 0s 8ms/step - loss: 12.6741 - mse: 213.1351\n",
      "Epoch 35/100\n",
      "2/2 [==============================] - 0s 9ms/step - loss: 9.2354 - mse: 92.6572\n",
      "Epoch 36/100\n",
      "2/2 [==============================] - 0s 7ms/step - loss: 16.6030 - mse: 401.0649\n",
      "Epoch 37/100\n",
      "2/2 [==============================] - 0s 9ms/step - loss: 11.0572 - mse: 192.4665\n",
      "Epoch 38/100\n",
      "2/2 [==============================] - 0s 10ms/step - loss: 18.1832 - mse: 434.9203\n",
      "Epoch 39/100\n",
      "2/2 [==============================] - 0s 11ms/step - loss: 19.1197 - mse: 531.1779\n",
      "Epoch 40/100\n",
      "2/2 [==============================] - 0s 11ms/step - loss: 20.4635 - mse: 611.8184\n",
      "Epoch 41/100\n",
      "2/2 [==============================] - 0s 9ms/step - loss: 14.8821 - mse: 277.9081\n",
      "Epoch 42/100\n",
      "2/2 [==============================] - 0s 10ms/step - loss: 12.2605 - mse: 185.0850\n",
      "Epoch 43/100\n",
      "2/2 [==============================] - 0s 11ms/step - loss: 10.7257 - mse: 165.6861\n",
      "Epoch 44/100\n",
      "2/2 [==============================] - 0s 9ms/step - loss: 22.9389 - mse: 823.7953\n",
      "Epoch 45/100\n",
      "2/2 [==============================] - 0s 9ms/step - loss: 10.3724 - mse: 128.9124\n",
      "Epoch 46/100\n",
      "2/2 [==============================] - 0s 7ms/step - loss: 11.7598 - mse: 179.9200\n",
      "Epoch 47/100\n",
      "2/2 [==============================] - 0s 10ms/step - loss: 9.6652 - mse: 153.8170\n",
      "Epoch 48/100\n",
      "2/2 [==============================] - 0s 10ms/step - loss: 17.2734 - mse: 404.7186\n",
      "Epoch 49/100\n",
      "2/2 [==============================] - 0s 9ms/step - loss: 9.5558 - mse: 99.4421\n",
      "Epoch 50/100\n",
      "2/2 [==============================] - 0s 15ms/step - loss: 13.7813 - mse: 257.9591\n",
      "Epoch 51/100\n",
      "2/2 [==============================] - 0s 12ms/step - loss: 11.5864 - mse: 154.2098\n",
      "Epoch 52/100\n",
      "2/2 [==============================] - 0s 10ms/step - loss: 30.4307 - mse: 1599.0282\n",
      "Epoch 53/100\n",
      "2/2 [==============================] - 0s 8ms/step - loss: 14.3039 - mse: 300.0950\n",
      "Epoch 54/100\n",
      "2/2 [==============================] - 0s 9ms/step - loss: 23.6512 - mse: 842.7907\n",
      "Epoch 55/100\n",
      "2/2 [==============================] - 0s 8ms/step - loss: 24.5829 - mse: 912.5361\n",
      "Epoch 56/100\n",
      "2/2 [==============================] - 0s 7ms/step - loss: 11.3383 - mse: 171.7783\n",
      "Epoch 57/100\n",
      "2/2 [==============================] - 0s 8ms/step - loss: 13.3560 - mse: 225.0798\n",
      "Epoch 58/100\n",
      "2/2 [==============================] - 0s 8ms/step - loss: 9.9458 - mse: 109.4266\n",
      "Epoch 59/100\n",
      "2/2 [==============================] - 0s 8ms/step - loss: 13.9091 - mse: 275.3257\n",
      "Epoch 60/100\n",
      "2/2 [==============================] - 0s 7ms/step - loss: 9.9885 - mse: 118.7773\n",
      "Epoch 61/100\n",
      "2/2 [==============================] - 0s 9ms/step - loss: 14.9657 - mse: 307.8487\n",
      "Epoch 62/100\n",
      "2/2 [==============================] - 0s 8ms/step - loss: 11.9220 - mse: 196.3712\n",
      "Epoch 63/100\n",
      "2/2 [==============================] - 0s 9ms/step - loss: 10.2852 - mse: 134.7587\n",
      "Epoch 64/100\n",
      "2/2 [==============================] - 0s 8ms/step - loss: 23.8778 - mse: 837.9032\n",
      "Epoch 65/100\n",
      "2/2 [==============================] - 0s 8ms/step - loss: 10.4617 - mse: 130.0888\n",
      "Epoch 66/100\n",
      "2/2 [==============================] - 0s 8ms/step - loss: 20.9252 - mse: 643.9369\n",
      "Epoch 67/100\n",
      "2/2 [==============================] - 0s 8ms/step - loss: 10.4394 - mse: 126.2268\n",
      "Epoch 68/100\n",
      "2/2 [==============================] - 0s 7ms/step - loss: 14.1714 - mse: 302.3497\n",
      "Epoch 69/100\n",
      "2/2 [==============================] - 0s 9ms/step - loss: 10.5103 - mse: 125.8916\n",
      "Epoch 70/100\n",
      "2/2 [==============================] - 0s 8ms/step - loss: 12.5813 - mse: 200.7728\n",
      "Epoch 71/100\n",
      "2/2 [==============================] - 0s 8ms/step - loss: 13.0113 - mse: 225.8553\n",
      "Epoch 72/100\n",
      "2/2 [==============================] - 0s 7ms/step - loss: 19.3543 - mse: 531.5071\n",
      "Epoch 73/100\n",
      "2/2 [==============================] - 0s 8ms/step - loss: 11.1270 - mse: 193.3060\n",
      "Epoch 74/100\n",
      "2/2 [==============================] - 0s 8ms/step - loss: 21.4420 - mse: 717.5848\n",
      "Epoch 75/100\n",
      "2/2 [==============================] - 0s 8ms/step - loss: 9.4581 - mse: 151.5400\n",
      "Epoch 76/100\n",
      "2/2 [==============================] - 0s 8ms/step - loss: 12.2813 - mse: 182.9226\n",
      "Epoch 77/100\n",
      "2/2 [==============================] - 0s 7ms/step - loss: 16.3196 - mse: 410.2166\n",
      "Epoch 78/100\n",
      "2/2 [==============================] - 0s 7ms/step - loss: 9.0080 - mse: 92.0155\n",
      "Epoch 79/100\n",
      "2/2 [==============================] - 0s 7ms/step - loss: 23.5680 - mse: 831.8185\n",
      "Epoch 80/100\n",
      "2/2 [==============================] - 0s 7ms/step - loss: 26.2643 - mse: 1061.0480\n",
      "Epoch 81/100\n",
      "2/2 [==============================] - 0s 7ms/step - loss: 11.4412 - mse: 160.9611\n",
      "Epoch 82/100\n",
      "2/2 [==============================] - 0s 8ms/step - loss: 12.4413 - mse: 226.5871\n",
      "Epoch 83/100\n",
      "2/2 [==============================] - 0s 6ms/step - loss: 17.1067 - mse: 380.7331\n",
      "Epoch 84/100\n",
      "2/2 [==============================] - 0s 8ms/step - loss: 7.2559 - mse: 76.0865\n",
      "Epoch 85/100\n",
      "2/2 [==============================] - 0s 8ms/step - loss: 37.1761 - mse: 2221.9358\n",
      "Epoch 86/100\n",
      "2/2 [==============================] - 0s 8ms/step - loss: 21.1957 - mse: 645.7223\n",
      "Epoch 87/100\n",
      "2/2 [==============================] - 0s 8ms/step - loss: 11.0198 - mse: 147.9917\n",
      "Epoch 88/100\n",
      "2/2 [==============================] - 0s 9ms/step - loss: 25.0571 - mse: 893.4375\n",
      "Epoch 89/100\n",
      "2/2 [==============================] - 0s 9ms/step - loss: 9.3530 - mse: 136.8899\n",
      "Epoch 90/100\n",
      "2/2 [==============================] - 0s 8ms/step - loss: 17.3625 - mse: 432.5611\n",
      "Epoch 91/100\n",
      "2/2 [==============================] - 0s 9ms/step - loss: 10.7935 - mse: 160.4848\n",
      "Epoch 92/100\n",
      "2/2 [==============================] - 0s 8ms/step - loss: 19.0502 - mse: 499.9929\n",
      "Epoch 93/100\n",
      "2/2 [==============================] - 0s 9ms/step - loss: 8.3118 - mse: 102.5733\n",
      "Epoch 94/100\n",
      "2/2 [==============================] - 0s 8ms/step - loss: 11.5513 - mse: 178.0599\n",
      "Epoch 95/100\n",
      "2/2 [==============================] - 0s 8ms/step - loss: 26.0848 - mse: 1032.2632\n",
      "Epoch 96/100\n",
      "2/2 [==============================] - 0s 8ms/step - loss: 11.1791 - mse: 169.7182\n",
      "Epoch 97/100\n",
      "2/2 [==============================] - 0s 6ms/step - loss: 16.7637 - mse: 428.9033\n",
      "Epoch 98/100\n",
      "2/2 [==============================] - 0s 8ms/step - loss: 6.5882 - mse: 60.8183\n",
      "Epoch 99/100\n",
      "2/2 [==============================] - 0s 8ms/step - loss: 12.6075 - mse: 229.5885\n",
      "Epoch 100/100\n",
      "2/2 [==============================] - 0s 7ms/step - loss: 19.4269 - mse: 554.1395\n"
     ]
    },
    {
     "data": {
      "text/plain": [
       "<keras.src.callbacks.History at 0x23bba53c940>"
      ]
     },
     "execution_count": 65,
     "metadata": {},
     "output_type": "execute_result"
    }
   ],
   "source": [
    "tf.random.set_seed(42)\n",
    "model_2 = tf.keras.Sequential(\n",
    "\n",
    "[\n",
    "    tf.keras.layers.Dense(10,input_shape=[1]),\n",
    "    tf.keras.layers.Dense(1)\n",
    "    \n",
    "]\n",
    "\n",
    ")\n",
    "\n",
    "model_2.compile(loss = tf.keras.losses.mae , optimizer = tf.keras.optimizers.SGD() , metrics = ['mse'])\n",
    "\n",
    "model_2.fit(x_train,y_train ,epochs= 100)"
   ]
  },
  {
   "cell_type": "code",
   "execution_count": 66,
   "id": "9dd1d08e",
   "metadata": {},
   "outputs": [
    {
     "name": "stdout",
     "output_type": "stream",
     "text": [
      "1/1 [==============================] - 0s 212ms/step\n"
     ]
    }
   ],
   "source": [
    "y_pred2 = model_2.predict(x_test)"
   ]
  },
  {
   "cell_type": "code",
   "execution_count": 67,
   "id": "032c706e",
   "metadata": {},
   "outputs": [
    {
     "data": {
      "text/plain": [
       "array([[ 78.22172 ],\n",
       "       [ 83.31875 ],\n",
       "       [ 88.415794],\n",
       "       [ 93.51284 ],\n",
       "       [ 98.60988 ],\n",
       "       [103.706924],\n",
       "       [108.80396 ],\n",
       "       [113.90101 ],\n",
       "       [118.998055],\n",
       "       [124.09509 ]], dtype=float32)"
      ]
     },
     "execution_count": 67,
     "metadata": {},
     "output_type": "execute_result"
    }
   ],
   "source": [
    "y_pred2"
   ]
  },
  {
   "cell_type": "code",
   "execution_count": 69,
   "id": "17f33c01",
   "metadata": {},
   "outputs": [
    {
     "data": {
      "image/png": "[encoded data removed]",
      "text/plain": [
       "<Figure size 720x504 with 1 Axes>"
      ]
     },
     "metadata": {
      "needs_background": "light"
     },
     "output_type": "display_data"
    }
   ],
   "source": [
    "plot_predictions(predictions=y_pred2)"
   ]
  },
  {
   "cell_type": "code",
   "execution_count": 70,
   "id": "9d59bc9d",
   "metadata": {},
   "outputs": [],
   "source": [
    "mae_2 = mae(y_test , y_pred2)\n",
    "mse_2 = mse(y_test , y_pred2)"
   ]
  },
  {
   "cell_type": "code",
   "execution_count": 72,
   "id": "73378bd5",
   "metadata": {},
   "outputs": [
    {
     "data": {
      "text/plain": [
       "(<tf.Tensor: shape=(), dtype=float32, numpy=13.1584015>,\n",
       " <tf.Tensor: shape=(), dtype=float32, numpy=183.07243>)"
      ]
     },
     "execution_count": 72,
     "metadata": {},
     "output_type": "execute_result"
    }
   ],
   "source": [
    "mae_2,mse_2"
   ]
  },
  {
   "cell_type": "markdown",
   "id": "0973e5a1",
   "metadata": {},
   "source": [
    "### build model 3 "
   ]
  },
  {
   "cell_type": "code",
   "execution_count": 73,
   "id": "669b0fd6",
   "metadata": {},
   "outputs": [
    {
     "name": "stdout",
     "output_type": "stream",
     "text": [
      "Epoch 1/500\n",
      "2/2 [==============================] - 1s 16ms/step - loss: 16.5397 - mse: 400.1829\n",
      "Epoch 2/500\n",
      "2/2 [==============================] - 0s 9ms/step - loss: 6.9261 - mse: 64.7808\n",
      "Epoch 3/500\n",
      "2/2 [==============================] - 0s 11ms/step - loss: 21.6665 - mse: 676.6884\n",
      "Epoch 4/500\n",
      "2/2 [==============================] - 0s 10ms/step - loss: 22.6498 - mse: 746.0246\n",
      "Epoch 5/500\n",
      "2/2 [==============================] - 0s 10ms/step - loss: 11.7942 - mse: 174.1944\n",
      "Epoch 6/500\n",
      "2/2 [==============================] - 0s 9ms/step - loss: 9.4654 - mse: 101.0752\n",
      "Epoch 7/500\n",
      "2/2 [==============================] - 0s 9ms/step - loss: 10.5012 - mse: 145.1626\n",
      "Epoch 8/500\n",
      "2/2 [==============================] - 0s 9ms/step - loss: 12.8986 - mse: 242.9487\n",
      "Epoch 9/500\n",
      "2/2 [==============================] - 0s 11ms/step - loss: 26.7549 - mse: 1010.7064\n",
      "Epoch 10/500\n",
      "2/2 [==============================] - 0s 10ms/step - loss: 17.1213 - mse: 416.2694\n",
      "Epoch 11/500\n",
      "2/2 [==============================] - 0s 10ms/step - loss: 12.2062 - mse: 263.1216\n",
      "Epoch 12/500\n",
      "2/2 [==============================] - 0s 9ms/step - loss: 21.8677 - mse: 694.2056\n",
      "Epoch 13/500\n",
      "2/2 [==============================] - 0s 11ms/step - loss: 24.6579 - mse: 881.9686\n",
      "Epoch 14/500\n",
      "2/2 [==============================] - 0s 8ms/step - loss: 24.3451 - mse: 906.7479\n",
      "Epoch 15/500\n",
      "2/2 [==============================] - 0s 8ms/step - loss: 14.9155 - mse: 314.5760\n",
      "Epoch 16/500\n",
      "2/2 [==============================] - 0s 9ms/step - loss: 8.4069 - mse: 109.5632\n",
      "Epoch 17/500\n",
      "2/2 [==============================] - 0s 9ms/step - loss: 16.4896 - mse: 370.5307\n",
      "Epoch 18/500\n",
      "2/2 [==============================] - 0s 10ms/step - loss: 10.8763 - mse: 180.0807\n",
      "Epoch 19/500\n",
      "2/2 [==============================] - 0s 10ms/step - loss: 16.9578 - mse: 466.0516\n",
      "Epoch 20/500\n",
      "2/2 [==============================] - 0s 8ms/step - loss: 8.7131 - mse: 131.9869\n",
      "Epoch 21/500\n",
      "2/2 [==============================] - 0s 9ms/step - loss: 16.5770 - mse: 394.0170\n",
      "Epoch 22/500\n",
      "2/2 [==============================] - 0s 9ms/step - loss: 14.9105 - mse: 314.2411\n",
      "Epoch 23/500\n",
      "2/2 [==============================] - 0s 9ms/step - loss: 6.7479 - mse: 61.4034\n",
      "Epoch 24/500\n",
      "2/2 [==============================] - 0s 9ms/step - loss: 11.3764 - mse: 166.7450\n",
      "Epoch 25/500\n",
      "2/2 [==============================] - 0s 9ms/step - loss: 19.1831 - mse: 535.7354\n",
      "Epoch 26/500\n",
      "2/2 [==============================] - 0s 9ms/step - loss: 13.1092 - mse: 239.7978\n",
      "Epoch 27/500\n",
      "2/2 [==============================] - 0s 8ms/step - loss: 11.7868 - mse: 199.9397\n",
      "Epoch 28/500\n",
      "2/2 [==============================] - 0s 9ms/step - loss: 22.5456 - mse: 795.7208\n",
      "Epoch 29/500\n",
      "2/2 [==============================] - 0s 8ms/step - loss: 8.0848 - mse: 86.9588\n",
      "Epoch 30/500\n",
      "2/2 [==============================] - 0s 9ms/step - loss: 27.9676 - mse: 1347.0400\n",
      "Epoch 31/500\n",
      "2/2 [==============================] - 0s 9ms/step - loss: 50.3885 - mse: 4505.5654\n",
      "Epoch 32/500\n",
      "2/2 [==============================] - 0s 9ms/step - loss: 10.7355 - mse: 171.2022\n",
      "Epoch 33/500\n",
      "2/2 [==============================] - 0s 9ms/step - loss: 10.6359 - mse: 141.0081\n",
      "Epoch 34/500\n",
      "2/2 [==============================] - 0s 10ms/step - loss: 23.0795 - mse: 798.3563\n",
      "Epoch 35/500\n",
      "2/2 [==============================] - 0s 11ms/step - loss: 12.3452 - mse: 250.5793\n",
      "Epoch 36/500\n",
      "2/2 [==============================] - 0s 8ms/step - loss: 20.5036 - mse: 603.6741\n",
      "Epoch 37/500\n",
      "2/2 [==============================] - 0s 7ms/step - loss: 11.6728 - mse: 212.7423\n",
      "Epoch 38/500\n",
      "2/2 [==============================] - 0s 7ms/step - loss: 17.3052 - mse: 392.8612\n",
      "Epoch 39/500\n",
      "2/2 [==============================] - 0s 9ms/step - loss: 18.2842 - mse: 476.6467\n",
      "Epoch 40/500\n",
      "2/2 [==============================] - 0s 8ms/step - loss: 18.8584 - mse: 532.0042\n",
      "Epoch 41/500\n",
      "2/2 [==============================] - 0s 7ms/step - loss: 17.6707 - mse: 461.7873\n",
      "Epoch 42/500\n",
      "2/2 [==============================] - 0s 8ms/step - loss: 9.2502 - mse: 96.9262\n",
      "Epoch 43/500\n",
      "2/2 [==============================] - 0s 9ms/step - loss: 8.8613 - mse: 90.4930\n",
      "Epoch 44/500\n",
      "2/2 [==============================] - 0s 8ms/step - loss: 33.8941 - mse: 1894.0648\n",
      "Epoch 45/500\n",
      "2/2 [==============================] - 0s 8ms/step - loss: 13.7218 - mse: 268.9543\n",
      "Epoch 46/500\n",
      "2/2 [==============================] - 0s 7ms/step - loss: 7.4746 - mse: 66.8700\n",
      "Epoch 47/500\n",
      "2/2 [==============================] - 0s 8ms/step - loss: 10.8144 - mse: 193.7319\n",
      "Epoch 48/500\n",
      "2/2 [==============================] - 0s 8ms/step - loss: 15.5229 - mse: 332.7033\n",
      "Epoch 49/500\n",
      "2/2 [==============================] - 0s 10ms/step - loss: 11.1115 - mse: 232.0090\n",
      "Epoch 50/500\n",
      "2/2 [==============================] - 0s 8ms/step - loss: 13.6930 - mse: 242.5859\n",
      "Epoch 51/500\n",
      "2/2 [==============================] - 0s 9ms/step - loss: 14.5624 - mse: 303.3799\n",
      "Epoch 52/500\n",
      "2/2 [==============================] - 0s 8ms/step - loss: 18.1425 - mse: 497.6464\n",
      "Epoch 53/500\n",
      "2/2 [==============================] - 0s 6ms/step - loss: 23.2260 - mse: 773.4025\n",
      "Epoch 54/500\n",
      "2/2 [==============================] - 0s 8ms/step - loss: 25.4781 - mse: 974.0288\n",
      "Epoch 55/500\n",
      "2/2 [==============================] - 0s 10ms/step - loss: 24.8191 - mse: 923.0928\n",
      "Epoch 56/500\n",
      "2/2 [==============================] - 0s 8ms/step - loss: 9.7498 - mse: 145.9694\n",
      "Epoch 57/500\n",
      "2/2 [==============================] - 0s 8ms/step - loss: 12.2000 - mse: 203.7775\n",
      "Epoch 58/500\n",
      "2/2 [==============================] - 0s 8ms/step - loss: 7.7151 - mse: 83.1303\n",
      "Epoch 59/500\n",
      "2/2 [==============================] - 0s 8ms/step - loss: 10.3899 - mse: 141.8053\n",
      "Epoch 60/500\n",
      "2/2 [==============================] - 0s 9ms/step - loss: 10.0371 - mse: 136.0618\n",
      "Epoch 61/500\n",
      "2/2 [==============================] - 0s 9ms/step - loss: 19.7102 - mse: 552.6268\n",
      "Epoch 62/500\n",
      "2/2 [==============================] - 0s 9ms/step - loss: 8.3417 - mse: 97.4451\n",
      "Epoch 63/500\n",
      "2/2 [==============================] - 0s 8ms/step - loss: 11.0217 - mse: 174.7664\n",
      "Epoch 64/500\n",
      "2/2 [==============================] - 0s 8ms/step - loss: 14.7224 - mse: 323.9608\n",
      "Epoch 65/500\n",
      "2/2 [==============================] - 0s 8ms/step - loss: 8.7391 - mse: 88.5067\n",
      "Epoch 66/500\n",
      "2/2 [==============================] - 0s 8ms/step - loss: 23.4499 - mse: 822.5253\n",
      "Epoch 67/500\n",
      "2/2 [==============================] - 0s 7ms/step - loss: 9.1204 - mse: 101.5088\n",
      "Epoch 68/500\n",
      "2/2 [==============================] - 0s 6ms/step - loss: 14.2736 - mse: 317.3385\n",
      "Epoch 69/500\n",
      "2/2 [==============================] - 0s 8ms/step - loss: 8.5375 - mse: 87.9759\n",
      "Epoch 70/500\n",
      "2/2 [==============================] - 0s 6ms/step - loss: 10.6168 - mse: 154.2800\n",
      "Epoch 71/500\n",
      "2/2 [==============================] - 0s 9ms/step - loss: 14.9457 - mse: 329.3443\n",
      "Epoch 72/500\n",
      "2/2 [==============================] - 0s 7ms/step - loss: 9.7580 - mse: 118.3276\n",
      "Epoch 73/500\n",
      "2/2 [==============================] - 0s 8ms/step - loss: 14.6675 - mse: 300.2898\n",
      "Epoch 74/500\n",
      "2/2 [==============================] - 0s 9ms/step - loss: 22.3597 - mse: 769.7256\n",
      "Epoch 75/500\n",
      "2/2 [==============================] - 0s 7ms/step - loss: 7.2641 - mse: 86.3295\n",
      "Epoch 76/500\n",
      "2/2 [==============================] - 0s 7ms/step - loss: 18.7216 - mse: 529.8635\n",
      "Epoch 77/500\n",
      "2/2 [==============================] - 0s 7ms/step - loss: 32.1235 - mse: 1733.5580\n",
      "Epoch 78/500\n",
      "2/2 [==============================] - 0s 8ms/step - loss: 12.6286 - mse: 247.8748\n",
      "Epoch 79/500\n",
      "2/2 [==============================] - 0s 8ms/step - loss: 16.5451 - mse: 403.4276\n",
      "Epoch 80/500\n",
      "2/2 [==============================] - 0s 8ms/step - loss: 19.5378 - mse: 564.7750\n",
      "Epoch 81/500\n",
      "2/2 [==============================] - 0s 8ms/step - loss: 7.9777 - mse: 77.6928\n",
      "Epoch 82/500\n",
      "2/2 [==============================] - 0s 8ms/step - loss: 13.8495 - mse: 260.2567\n",
      "Epoch 83/500\n",
      "2/2 [==============================] - 0s 6ms/step - loss: 17.3330 - mse: 401.3130\n",
      "Epoch 84/500\n",
      "2/2 [==============================] - 0s 7ms/step - loss: 7.4058 - mse: 99.5554\n",
      "Epoch 85/500\n",
      "2/2 [==============================] - 0s 8ms/step - loss: 25.5024 - mse: 914.1127\n",
      "Epoch 86/500\n",
      "2/2 [==============================] - 0s 4ms/step - loss: 15.6859 - mse: 373.4648\n",
      "Epoch 87/500\n",
      "2/2 [==============================] - 0s 8ms/step - loss: 9.5583 - mse: 125.5482\n",
      "Epoch 88/500\n",
      "2/2 [==============================] - 0s 9ms/step - loss: 23.9643 - mse: 813.4461\n",
      "Epoch 89/500\n",
      "2/2 [==============================] - 0s 7ms/step - loss: 6.3903 - mse: 57.2995\n",
      "Epoch 90/500\n",
      "2/2 [==============================] - 0s 8ms/step - loss: 29.7449 - mse: 1336.0051\n",
      "Epoch 91/500\n",
      "2/2 [==============================] - 0s 10ms/step - loss: 12.0073 - mse: 195.6629\n",
      "Epoch 92/500\n",
      "2/2 [==============================] - 0s 9ms/step - loss: 21.1943 - mse: 620.8517\n",
      "Epoch 93/500\n",
      "2/2 [==============================] - 0s 9ms/step - loss: 6.7545 - mse: 70.1818\n",
      "Epoch 94/500\n",
      "2/2 [==============================] - 0s 8ms/step - loss: 15.0921 - mse: 324.8849\n",
      "Epoch 95/500\n",
      "2/2 [==============================] - 0s 6ms/step - loss: 14.3315 - mse: 273.9014\n",
      "Epoch 96/500\n",
      "2/2 [==============================] - 0s 8ms/step - loss: 13.7082 - mse: 276.9966\n",
      "Epoch 97/500\n",
      "2/2 [==============================] - 0s 7ms/step - loss: 14.8138 - mse: 284.6938\n",
      "Epoch 98/500\n",
      "2/2 [==============================] - 0s 7ms/step - loss: 15.5538 - mse: 343.1691\n",
      "Epoch 99/500\n",
      "2/2 [==============================] - 0s 9ms/step - loss: 10.2928 - mse: 192.6942\n",
      "Epoch 100/500\n",
      "2/2 [==============================] - 0s 9ms/step - loss: 22.5944 - mse: 721.4786\n",
      "Epoch 101/500\n",
      "2/2 [==============================] - 0s 8ms/step - loss: 23.7695 - mse: 855.5724\n",
      "Epoch 102/500\n",
      "2/2 [==============================] - 0s 9ms/step - loss: 9.5310 - mse: 135.8538\n",
      "Epoch 103/500\n",
      "2/2 [==============================] - 0s 7ms/step - loss: 8.1171 - mse: 78.1544\n",
      "Epoch 104/500\n",
      "2/2 [==============================] - 0s 9ms/step - loss: 24.7384 - mse: 911.6012\n",
      "Epoch 105/500\n",
      "2/2 [==============================] - 0s 9ms/step - loss: 10.8583 - mse: 187.1650\n",
      "Epoch 106/500\n",
      "2/2 [==============================] - 0s 7ms/step - loss: 8.1122 - mse: 89.0228\n",
      "Epoch 107/500\n",
      "2/2 [==============================] - 0s 9ms/step - loss: 22.4127 - mse: 748.8678\n",
      "Epoch 108/500\n",
      "2/2 [==============================] - 0s 6ms/step - loss: 7.0982 - mse: 74.4898\n",
      "Epoch 109/500\n",
      "2/2 [==============================] - 0s 8ms/step - loss: 13.6962 - mse: 276.1085\n",
      "Epoch 110/500\n",
      "2/2 [==============================] - 0s 8ms/step - loss: 12.7228 - mse: 238.1739\n",
      "Epoch 111/500\n",
      "2/2 [==============================] - 0s 7ms/step - loss: 17.7605 - mse: 474.8776\n",
      "Epoch 112/500\n",
      "2/2 [==============================] - 0s 7ms/step - loss: 6.4018 - mse: 58.9268\n",
      "Epoch 113/500\n",
      "2/2 [==============================] - 0s 8ms/step - loss: 20.5757 - mse: 611.5745\n",
      "Epoch 114/500\n",
      "2/2 [==============================] - 0s 9ms/step - loss: 28.6065 - mse: 1303.6853\n",
      "Epoch 115/500\n",
      "2/2 [==============================] - 0s 9ms/step - loss: 15.2549 - mse: 341.5320\n",
      "Epoch 116/500\n",
      "2/2 [==============================] - 0s 9ms/step - loss: 10.3056 - mse: 143.7056\n",
      "Epoch 117/500\n",
      "2/2 [==============================] - 0s 8ms/step - loss: 13.9646 - mse: 281.8582\n",
      "Epoch 118/500\n",
      "2/2 [==============================] - 0s 8ms/step - loss: 8.3615 - mse: 154.2516\n",
      "Epoch 119/500\n",
      "2/2 [==============================] - 0s 8ms/step - loss: 13.5526 - mse: 263.5515\n",
      "Epoch 120/500\n",
      "2/2 [==============================] - 0s 7ms/step - loss: 31.3874 - mse: 1355.6223\n",
      "Epoch 121/500\n",
      "2/2 [==============================] - 0s 8ms/step - loss: 12.8334 - mse: 256.9077\n",
      "Epoch 122/500\n",
      "2/2 [==============================] - 0s 9ms/step - loss: 27.6085 - mse: 1021.4935\n",
      "Epoch 123/500\n",
      "2/2 [==============================] - 0s 8ms/step - loss: 15.5445 - mse: 371.9892\n",
      "Epoch 124/500\n",
      "2/2 [==============================] - 0s 8ms/step - loss: 9.0971 - mse: 110.2734\n",
      "Epoch 125/500\n",
      "2/2 [==============================] - 0s 7ms/step - loss: 13.4446 - mse: 280.2803\n",
      "Epoch 126/500\n",
      "2/2 [==============================] - 0s 9ms/step - loss: 6.8780 - mse: 73.6020\n",
      "Epoch 127/500\n",
      "2/2 [==============================] - 0s 6ms/step - loss: 16.6670 - mse: 429.3136\n",
      "Epoch 128/500\n",
      "2/2 [==============================] - 0s 5ms/step - loss: 9.0221 - mse: 105.8269\n",
      "Epoch 129/500\n",
      "2/2 [==============================] - 0s 6ms/step - loss: 17.1779 - mse: 461.8918\n",
      "Epoch 130/500\n",
      "2/2 [==============================] - 0s 9ms/step - loss: 8.9040 - mse: 98.2951\n",
      "Epoch 131/500\n",
      "2/2 [==============================] - 0s 7ms/step - loss: 21.2056 - mse: 673.9752\n",
      "Epoch 132/500\n",
      "2/2 [==============================] - 0s 8ms/step - loss: 7.1066 - mse: 81.5292\n",
      "Epoch 133/500\n",
      "2/2 [==============================] - 0s 7ms/step - loss: 9.0777 - mse: 121.5928\n",
      "Epoch 134/500\n",
      "2/2 [==============================] - 0s 9ms/step - loss: 19.5081 - mse: 561.2843\n",
      "Epoch 135/500\n",
      "2/2 [==============================] - 0s 5ms/step - loss: 8.8979 - mse: 130.7685\n",
      "Epoch 136/500\n",
      "2/2 [==============================] - 0s 7ms/step - loss: 16.9623 - mse: 412.2877\n",
      "Epoch 137/500\n",
      "2/2 [==============================] - 0s 6ms/step - loss: 19.5880 - mse: 521.5945\n",
      "Epoch 138/500\n",
      "2/2 [==============================] - 0s 8ms/step - loss: 5.3251 - mse: 46.7351\n",
      "Epoch 139/500\n",
      "2/2 [==============================] - 0s 7ms/step - loss: 15.1237 - mse: 324.0043\n",
      "Epoch 140/500\n",
      "2/2 [==============================] - 0s 7ms/step - loss: 11.8341 - mse: 223.9990\n",
      "Epoch 141/500\n",
      "2/2 [==============================] - 0s 7ms/step - loss: 19.5363 - mse: 560.3130\n",
      "Epoch 142/500\n",
      "2/2 [==============================] - 0s 7ms/step - loss: 33.9678 - mse: 1963.7629\n",
      "Epoch 143/500\n",
      "2/2 [==============================] - 0s 8ms/step - loss: 22.4554 - mse: 707.9519\n",
      "Epoch 144/500\n",
      "2/2 [==============================] - 0s 8ms/step - loss: 11.5028 - mse: 233.4361\n",
      "Epoch 145/500\n",
      "2/2 [==============================] - 0s 9ms/step - loss: 24.5733 - mse: 828.0933\n",
      "Epoch 146/500\n",
      "2/2 [==============================] - 0s 7ms/step - loss: 11.2967 - mse: 197.4392\n",
      "Epoch 147/500\n",
      "2/2 [==============================] - 0s 7ms/step - loss: 16.1262 - mse: 322.9513\n",
      "Epoch 148/500\n",
      "2/2 [==============================] - 0s 7ms/step - loss: 18.5824 - mse: 493.9670\n",
      "Epoch 149/500\n",
      "2/2 [==============================] - 0s 7ms/step - loss: 4.8827 - mse: 32.8200\n",
      "Epoch 150/500\n",
      "2/2 [==============================] - 0s 6ms/step - loss: 11.6557 - mse: 301.3417\n",
      "Epoch 151/500\n",
      "2/2 [==============================] - 0s 6ms/step - loss: 21.4225 - mse: 697.0512\n",
      "Epoch 152/500\n",
      "2/2 [==============================] - 0s 7ms/step - loss: 23.6381 - mse: 816.2909\n",
      "Epoch 153/500\n",
      "2/2 [==============================] - 0s 10ms/step - loss: 18.4794 - mse: 456.5996\n",
      "Epoch 154/500\n",
      "2/2 [==============================] - 0s 10ms/step - loss: 13.6448 - mse: 259.9445\n",
      "Epoch 155/500\n",
      "2/2 [==============================] - 0s 9ms/step - loss: 15.5967 - mse: 369.2321\n",
      "Epoch 156/500\n",
      "2/2 [==============================] - 0s 8ms/step - loss: 17.1451 - mse: 445.2162\n",
      "Epoch 157/500\n",
      "2/2 [==============================] - 0s 9ms/step - loss: 32.2279 - mse: 1658.7836\n",
      "Epoch 158/500\n",
      "2/2 [==============================] - 0s 7ms/step - loss: 9.0593 - mse: 119.1736\n",
      "Epoch 159/500\n",
      "2/2 [==============================] - 0s 8ms/step - loss: 7.7424 - mse: 82.2033\n",
      "Epoch 160/500\n",
      "2/2 [==============================] - 0s 8ms/step - loss: 21.6370 - mse: 673.3781\n",
      "Epoch 161/500\n",
      "2/2 [==============================] - 0s 8ms/step - loss: 10.3224 - mse: 168.6557\n",
      "Epoch 162/500\n",
      "2/2 [==============================] - 0s 7ms/step - loss: 20.3688 - mse: 592.7393\n",
      "Epoch 163/500\n",
      "2/2 [==============================] - 0s 7ms/step - loss: 17.9789 - mse: 466.6483\n",
      "Epoch 164/500\n",
      "2/2 [==============================] - 0s 8ms/step - loss: 10.0937 - mse: 167.2385\n",
      "Epoch 165/500\n",
      "2/2 [==============================] - 0s 6ms/step - loss: 12.1564 - mse: 229.6652\n",
      "Epoch 166/500\n",
      "2/2 [==============================] - 0s 9ms/step - loss: 21.5938 - mse: 683.4201\n",
      "Epoch 167/500\n",
      "2/2 [==============================] - 0s 7ms/step - loss: 26.3464 - mse: 1046.9529\n",
      "Epoch 168/500\n",
      "2/2 [==============================] - 0s 7ms/step - loss: 10.0469 - mse: 141.7908\n",
      "Epoch 169/500\n",
      "2/2 [==============================] - 0s 8ms/step - loss: 21.4887 - mse: 699.5137\n",
      "Epoch 170/500\n",
      "2/2 [==============================] - 0s 7ms/step - loss: 11.4364 - mse: 245.7932\n",
      "Epoch 171/500\n",
      "2/2 [==============================] - 0s 6ms/step - loss: 19.2330 - mse: 563.4529\n",
      "Epoch 172/500\n",
      "2/2 [==============================] - 0s 7ms/step - loss: 34.2199 - mse: 1872.7172\n",
      "Epoch 173/500\n",
      "2/2 [==============================] - 0s 8ms/step - loss: 19.6514 - mse: 595.0784\n",
      "Epoch 174/500\n",
      "2/2 [==============================] - 0s 7ms/step - loss: 10.5759 - mse: 204.7977\n",
      "Epoch 175/500\n",
      "2/2 [==============================] - 0s 6ms/step - loss: 26.9414 - mse: 1057.0686\n",
      "Epoch 176/500\n",
      "2/2 [==============================] - 0s 8ms/step - loss: 10.3518 - mse: 152.2654\n",
      "Epoch 177/500\n",
      "2/2 [==============================] - 0s 6ms/step - loss: 11.1052 - mse: 254.5502\n",
      "Epoch 178/500\n",
      "2/2 [==============================] - 0s 8ms/step - loss: 18.3903 - mse: 509.0847\n",
      "Epoch 179/500\n",
      "2/2 [==============================] - 0s 7ms/step - loss: 10.1429 - mse: 138.9734\n",
      "Epoch 180/500\n",
      "2/2 [==============================] - 0s 7ms/step - loss: 7.3702 - mse: 77.7586\n",
      "Epoch 181/500\n",
      "2/2 [==============================] - 0s 8ms/step - loss: 19.7391 - mse: 557.0973\n",
      "Epoch 182/500\n",
      "2/2 [==============================] - 0s 7ms/step - loss: 10.7841 - mse: 168.7814\n",
      "Epoch 183/500\n",
      "2/2 [==============================] - 0s 8ms/step - loss: 8.2517 - mse: 97.6657\n",
      "Epoch 184/500\n",
      "2/2 [==============================] - 0s 8ms/step - loss: 39.9021 - mse: 2477.7087\n",
      "Epoch 185/500\n",
      "2/2 [==============================] - 0s 8ms/step - loss: 7.5820 - mse: 75.4770\n",
      "Epoch 186/500\n",
      "2/2 [==============================] - 0s 8ms/step - loss: 21.0094 - mse: 624.4303\n",
      "Epoch 187/500\n",
      "2/2 [==============================] - 0s 7ms/step - loss: 9.9978 - mse: 229.1421\n",
      "Epoch 188/500\n",
      "2/2 [==============================] - 0s 8ms/step - loss: 24.4894 - mse: 879.3859\n",
      "Epoch 189/500\n",
      "2/2 [==============================] - 0s 8ms/step - loss: 11.6847 - mse: 224.4704\n",
      "Epoch 190/500\n",
      "2/2 [==============================] - 0s 8ms/step - loss: 7.6209 - mse: 80.5666\n",
      "Epoch 191/500\n",
      "2/2 [==============================] - 0s 7ms/step - loss: 13.1635 - mse: 253.3491\n",
      "Epoch 192/500\n",
      "2/2 [==============================] - 0s 6ms/step - loss: 13.0677 - mse: 256.3900\n",
      "Epoch 193/500\n",
      "2/2 [==============================] - 0s 7ms/step - loss: 28.0132 - mse: 1099.0779\n",
      "Epoch 194/500\n",
      "2/2 [==============================] - 0s 6ms/step - loss: 6.8809 - mse: 66.3145\n",
      "Epoch 195/500\n",
      "2/2 [==============================] - 0s 9ms/step - loss: 7.0237 - mse: 89.4821\n",
      "Epoch 196/500\n",
      "2/2 [==============================] - 0s 7ms/step - loss: 21.5888 - mse: 610.4789\n",
      "Epoch 197/500\n",
      "2/2 [==============================] - 0s 7ms/step - loss: 11.7703 - mse: 212.9348\n",
      "Epoch 198/500\n",
      "2/2 [==============================] - 0s 9ms/step - loss: 23.0089 - mse: 752.8681\n",
      "Epoch 199/500\n",
      "2/2 [==============================] - 0s 8ms/step - loss: 24.8713 - mse: 914.8719\n",
      "Epoch 200/500\n",
      "2/2 [==============================] - 0s 7ms/step - loss: 18.5938 - mse: 517.1962\n",
      "Epoch 201/500\n",
      "2/2 [==============================] - 0s 8ms/step - loss: 11.2290 - mse: 305.9728\n",
      "Epoch 202/500\n",
      "2/2 [==============================] - 0s 8ms/step - loss: 20.5610 - mse: 606.7650\n",
      "Epoch 203/500\n",
      "2/2 [==============================] - 0s 6ms/step - loss: 25.4929 - mse: 937.9131\n",
      "Epoch 204/500\n",
      "2/2 [==============================] - 0s 8ms/step - loss: 20.3763 - mse: 616.9952\n",
      "Epoch 205/500\n",
      "2/2 [==============================] - 0s 8ms/step - loss: 8.0772 - mse: 111.7937\n",
      "Epoch 206/500\n",
      "2/2 [==============================] - 0s 8ms/step - loss: 12.7120 - mse: 252.6664\n",
      "Epoch 207/500\n",
      "2/2 [==============================] - 0s 6ms/step - loss: 9.0474 - mse: 123.7427\n",
      "Epoch 208/500\n",
      "2/2 [==============================] - 0s 8ms/step - loss: 22.7113 - mse: 728.6383\n",
      "Epoch 209/500\n",
      "2/2 [==============================] - 0s 7ms/step - loss: 16.3731 - mse: 399.3231\n",
      "Epoch 210/500\n",
      "2/2 [==============================] - 0s 8ms/step - loss: 18.1506 - mse: 478.4882\n",
      "Epoch 211/500\n",
      "2/2 [==============================] - 0s 9ms/step - loss: 8.5447 - mse: 133.6166\n",
      "Epoch 212/500\n",
      "2/2 [==============================] - 0s 7ms/step - loss: 17.5698 - mse: 465.6381\n",
      "Epoch 213/500\n",
      "2/2 [==============================] - 0s 10ms/step - loss: 14.7673 - mse: 301.0735\n",
      "Epoch 214/500\n",
      "2/2 [==============================] - 0s 7ms/step - loss: 14.4654 - mse: 290.7578\n",
      "Epoch 215/500\n",
      "2/2 [==============================] - 0s 7ms/step - loss: 22.8784 - mse: 779.8186\n",
      "Epoch 216/500\n",
      "2/2 [==============================] - 0s 9ms/step - loss: 14.3140 - mse: 320.3028\n",
      "Epoch 217/500\n",
      "2/2 [==============================] - 0s 7ms/step - loss: 7.0602 - mse: 74.0170\n",
      "Epoch 218/500\n",
      "2/2 [==============================] - 0s 8ms/step - loss: 12.5709 - mse: 207.5512\n",
      "Epoch 219/500\n",
      "2/2 [==============================] - 0s 8ms/step - loss: 5.7085 - mse: 50.3302\n",
      "Epoch 220/500\n",
      "2/2 [==============================] - 0s 6ms/step - loss: 6.1352 - mse: 40.7013\n",
      "Epoch 221/500\n",
      "2/2 [==============================] - 0s 7ms/step - loss: 38.4317 - mse: 2536.9851\n",
      "Epoch 222/500\n",
      "2/2 [==============================] - 0s 7ms/step - loss: 37.9070 - mse: 2322.7898\n",
      "Epoch 223/500\n",
      "2/2 [==============================] - 0s 8ms/step - loss: 6.2925 - mse: 82.2189\n",
      "Epoch 224/500\n",
      "2/2 [==============================] - 0s 7ms/step - loss: 14.9842 - mse: 353.2300\n",
      "Epoch 225/500\n",
      "2/2 [==============================] - 0s 9ms/step - loss: 17.0362 - mse: 383.2812\n",
      "Epoch 226/500\n",
      "2/2 [==============================] - 0s 6ms/step - loss: 15.8923 - mse: 379.9476\n",
      "Epoch 227/500\n",
      "2/2 [==============================] - 0s 10ms/step - loss: 16.2004 - mse: 376.4086\n",
      "Epoch 228/500\n",
      "2/2 [==============================] - 0s 7ms/step - loss: 14.1129 - mse: 289.3018\n",
      "Epoch 229/500\n",
      "2/2 [==============================] - 0s 8ms/step - loss: 20.8678 - mse: 643.6203\n",
      "Epoch 230/500\n",
      "2/2 [==============================] - 0s 7ms/step - loss: 14.0084 - mse: 315.3511\n",
      "Epoch 231/500\n",
      "2/2 [==============================] - 0s 7ms/step - loss: 4.6548 - mse: 31.0201\n",
      "Epoch 232/500\n",
      "2/2 [==============================] - 0s 8ms/step - loss: 13.4936 - mse: 262.1649\n",
      "Epoch 233/500\n",
      "2/2 [==============================] - 0s 6ms/step - loss: 25.6811 - mse: 928.2015\n",
      "Epoch 234/500\n",
      "2/2 [==============================] - 0s 8ms/step - loss: 14.0333 - mse: 323.1934\n",
      "Epoch 235/500\n",
      "2/2 [==============================] - 0s 6ms/step - loss: 6.3095 - mse: 82.3559\n",
      "Epoch 236/500\n",
      "2/2 [==============================] - 0s 7ms/step - loss: 20.5064 - mse: 628.2457\n",
      "Epoch 237/500\n",
      "2/2 [==============================] - 0s 16ms/step - loss: 13.9924 - mse: 289.0045\n",
      "Epoch 238/500\n",
      "2/2 [==============================] - 0s 9ms/step - loss: 12.1934 - mse: 259.9043\n",
      "Epoch 239/500\n",
      "2/2 [==============================] - 0s 9ms/step - loss: 19.8746 - mse: 601.1776\n",
      "Epoch 240/500\n",
      "2/2 [==============================] - 0s 7ms/step - loss: 22.6647 - mse: 736.0732\n",
      "Epoch 241/500\n",
      "2/2 [==============================] - 0s 9ms/step - loss: 8.1454 - mse: 115.9037\n",
      "Epoch 242/500\n",
      "2/2 [==============================] - 0s 7ms/step - loss: 16.6239 - mse: 423.0486\n",
      "Epoch 243/500\n",
      "2/2 [==============================] - 0s 8ms/step - loss: 8.8283 - mse: 123.8494\n",
      "Epoch 244/500\n",
      "2/2 [==============================] - 0s 10ms/step - loss: 9.6762 - mse: 225.1337\n",
      "Epoch 245/500\n",
      "2/2 [==============================] - 0s 8ms/step - loss: 15.0679 - mse: 311.5894\n",
      "Epoch 246/500\n",
      "2/2 [==============================] - 0s 9ms/step - loss: 18.7718 - mse: 561.2294\n",
      "Epoch 247/500\n",
      "2/2 [==============================] - 0s 10ms/step - loss: 35.5314 - mse: 1946.3015\n",
      "Epoch 248/500\n",
      "2/2 [==============================] - 0s 8ms/step - loss: 5.0865 - mse: 43.3531\n",
      "Epoch 249/500\n",
      "2/2 [==============================] - 0s 8ms/step - loss: 14.9035 - mse: 317.0888\n",
      "Epoch 250/500\n",
      "2/2 [==============================] - 0s 9ms/step - loss: 23.8037 - mse: 834.9958\n",
      "Epoch 251/500\n",
      "2/2 [==============================] - 0s 9ms/step - loss: 13.4877 - mse: 290.1382\n",
      "Epoch 252/500\n",
      "2/2 [==============================] - 0s 9ms/step - loss: 20.2775 - mse: 591.6366\n",
      "Epoch 253/500\n",
      "2/2 [==============================] - 0s 9ms/step - loss: 8.2040 - mse: 97.9314\n",
      "Epoch 254/500\n",
      "2/2 [==============================] - 0s 8ms/step - loss: 14.3432 - mse: 307.3627\n",
      "Epoch 255/500\n",
      "2/2 [==============================] - 0s 10ms/step - loss: 11.9359 - mse: 212.2121\n",
      "Epoch 256/500\n",
      "2/2 [==============================] - 0s 10ms/step - loss: 8.5573 - mse: 118.9474\n",
      "Epoch 257/500\n",
      "2/2 [==============================] - 0s 10ms/step - loss: 13.5319 - mse: 288.4351\n",
      "Epoch 258/500\n",
      "2/2 [==============================] - 0s 9ms/step - loss: 7.4935 - mse: 125.0293\n",
      "Epoch 259/500\n",
      "2/2 [==============================] - 0s 9ms/step - loss: 24.5821 - mse: 825.5570\n",
      "Epoch 260/500\n",
      "2/2 [==============================] - 0s 9ms/step - loss: 25.4716 - mse: 952.5613\n",
      "Epoch 261/500\n",
      "2/2 [==============================] - 0s 9ms/step - loss: 8.0056 - mse: 124.0008\n",
      "Epoch 262/500\n",
      "2/2 [==============================] - 0s 8ms/step - loss: 7.2847 - mse: 111.1908\n",
      "Epoch 263/500\n",
      "2/2 [==============================] - 0s 8ms/step - loss: 7.0861 - mse: 92.5511\n",
      "Epoch 264/500\n",
      "2/2 [==============================] - 0s 9ms/step - loss: 17.4103 - mse: 424.0593\n",
      "Epoch 265/500\n",
      "2/2 [==============================] - 0s 8ms/step - loss: 12.1051 - mse: 212.5841\n",
      "Epoch 266/500\n",
      "2/2 [==============================] - 0s 8ms/step - loss: 13.4835 - mse: 261.0893\n",
      "Epoch 267/500\n",
      "2/2 [==============================] - 0s 9ms/step - loss: 10.7768 - mse: 227.8674\n",
      "Epoch 268/500\n",
      "2/2 [==============================] - 0s 7ms/step - loss: 21.5821 - mse: 667.8288\n",
      "Epoch 269/500\n",
      "2/2 [==============================] - 0s 9ms/step - loss: 33.3423 - mse: 1660.6393\n",
      "Epoch 270/500\n",
      "2/2 [==============================] - 0s 8ms/step - loss: 9.8965 - mse: 163.1989\n",
      "Epoch 271/500\n",
      "2/2 [==============================] - 0s 8ms/step - loss: 13.8027 - mse: 284.3420\n",
      "Epoch 272/500\n",
      "2/2 [==============================] - 0s 8ms/step - loss: 26.9896 - mse: 1011.9265\n",
      "Epoch 273/500\n",
      "2/2 [==============================] - 0s 7ms/step - loss: 9.3778 - mse: 146.2595\n",
      "Epoch 274/500\n",
      "2/2 [==============================] - 0s 8ms/step - loss: 11.8029 - mse: 319.6504\n",
      "Epoch 275/500\n",
      "2/2 [==============================] - 0s 9ms/step - loss: 28.3272 - mse: 1156.2251\n",
      "Epoch 276/500\n",
      "2/2 [==============================] - 0s 9ms/step - loss: 7.2376 - mse: 104.9447\n",
      "Epoch 277/500\n",
      "2/2 [==============================] - 0s 8ms/step - loss: 26.6222 - mse: 968.7373\n",
      "Epoch 278/500\n",
      "2/2 [==============================] - 0s 9ms/step - loss: 10.7521 - mse: 222.7102\n",
      "Epoch 279/500\n",
      "2/2 [==============================] - 0s 9ms/step - loss: 15.7272 - mse: 369.4685\n",
      "Epoch 280/500\n",
      "2/2 [==============================] - 0s 10ms/step - loss: 20.3963 - mse: 641.5587\n",
      "Epoch 281/500\n",
      "2/2 [==============================] - 0s 7ms/step - loss: 19.7259 - mse: 581.7540\n",
      "Epoch 282/500\n",
      "2/2 [==============================] - 0s 9ms/step - loss: 6.2023 - mse: 82.6804\n",
      "Epoch 283/500\n",
      "2/2 [==============================] - 0s 8ms/step - loss: 7.3852 - mse: 79.8958\n",
      "Epoch 284/500\n",
      "2/2 [==============================] - 0s 7ms/step - loss: 25.7502 - mse: 992.2039\n",
      "Epoch 285/500\n",
      "2/2 [==============================] - 0s 8ms/step - loss: 13.6797 - mse: 295.6035\n",
      "Epoch 286/500\n",
      "2/2 [==============================] - 0s 8ms/step - loss: 10.3657 - mse: 254.4302\n",
      "Epoch 287/500\n",
      "2/2 [==============================] - 0s 11ms/step - loss: 20.0734 - mse: 616.2154\n",
      "Epoch 288/500\n",
      "2/2 [==============================] - 0s 7ms/step - loss: 29.6896 - mse: 1337.5029\n",
      "Epoch 289/500\n",
      "2/2 [==============================] - 0s 7ms/step - loss: 8.6250 - mse: 186.3288\n",
      "Epoch 290/500\n",
      "2/2 [==============================] - 0s 7ms/step - loss: 16.2067 - mse: 354.4867\n",
      "Epoch 291/500\n",
      "2/2 [==============================] - 0s 6ms/step - loss: 16.4122 - mse: 401.3457\n",
      "Epoch 292/500\n",
      "2/2 [==============================] - 0s 7ms/step - loss: 17.4184 - mse: 413.5748\n",
      "Epoch 293/500\n",
      "2/2 [==============================] - 0s 8ms/step - loss: 18.9834 - mse: 551.5721\n",
      "Epoch 294/500\n",
      "2/2 [==============================] - 0s 8ms/step - loss: 32.9945 - mse: 1753.3969\n",
      "Epoch 295/500\n",
      "2/2 [==============================] - 0s 7ms/step - loss: 9.3722 - mse: 141.6130\n",
      "Epoch 296/500\n",
      "2/2 [==============================] - 0s 6ms/step - loss: 6.8600 - mse: 64.5014\n",
      "Epoch 297/500\n",
      "2/2 [==============================] - 0s 6ms/step - loss: 6.1652 - mse: 79.5101\n",
      "Epoch 298/500\n",
      "2/2 [==============================] - 0s 8ms/step - loss: 26.1123 - mse: 974.2882\n",
      "Epoch 299/500\n",
      "2/2 [==============================] - 0s 8ms/step - loss: 13.5170 - mse: 291.6972\n",
      "Epoch 300/500\n",
      "2/2 [==============================] - 0s 7ms/step - loss: 5.7229 - mse: 41.2333\n",
      "Epoch 301/500\n",
      "2/2 [==============================] - 0s 8ms/step - loss: 21.7576 - mse: 659.4510\n",
      "Epoch 302/500\n",
      "2/2 [==============================] - 0s 8ms/step - loss: 6.8973 - mse: 69.0556\n",
      "Epoch 303/500\n",
      "2/2 [==============================] - 0s 9ms/step - loss: 19.0704 - mse: 528.4491\n",
      "Epoch 304/500\n",
      "2/2 [==============================] - 0s 8ms/step - loss: 11.7288 - mse: 233.2132\n",
      "Epoch 305/500\n",
      "2/2 [==============================] - 0s 6ms/step - loss: 5.7260 - mse: 75.2997\n",
      "Epoch 306/500\n",
      "2/2 [==============================] - 0s 7ms/step - loss: 23.4407 - mse: 825.8838\n",
      "Epoch 307/500\n",
      "2/2 [==============================] - 0s 6ms/step - loss: 19.7856 - mse: 553.9081\n",
      "Epoch 308/500\n",
      "2/2 [==============================] - 0s 8ms/step - loss: 7.1407 - mse: 75.9784\n",
      "Epoch 309/500\n",
      "2/2 [==============================] - 0s 8ms/step - loss: 11.6601 - mse: 238.6015\n",
      "Epoch 310/500\n",
      "2/2 [==============================] - 0s 8ms/step - loss: 9.3529 - mse: 228.4984\n",
      "Epoch 311/500\n",
      "2/2 [==============================] - 0s 8ms/step - loss: 10.6826 - mse: 264.3017\n",
      "Epoch 312/500\n",
      "2/2 [==============================] - 0s 9ms/step - loss: 28.6509 - mse: 1143.6708\n",
      "Epoch 313/500\n",
      "2/2 [==============================] - 0s 8ms/step - loss: 10.3022 - mse: 173.2696\n",
      "Epoch 314/500\n",
      "2/2 [==============================] - 0s 8ms/step - loss: 12.5763 - mse: 255.5361\n",
      "Epoch 315/500\n",
      "2/2 [==============================] - 0s 7ms/step - loss: 24.5522 - mse: 875.7643\n",
      "Epoch 316/500\n",
      "2/2 [==============================] - 0s 5ms/step - loss: 16.6366 - mse: 413.4951\n",
      "Epoch 317/500\n",
      "2/2 [==============================] - 0s 9ms/step - loss: 19.8537 - mse: 542.9366\n",
      "Epoch 318/500\n",
      "2/2 [==============================] - 0s 8ms/step - loss: 6.9708 - mse: 65.8566\n",
      "Epoch 319/500\n",
      "2/2 [==============================] - 0s 9ms/step - loss: 17.3987 - mse: 452.1306\n",
      "Epoch 320/500\n",
      "2/2 [==============================] - 0s 7ms/step - loss: 8.4493 - mse: 128.2581\n",
      "Epoch 321/500\n",
      "2/2 [==============================] - 0s 10ms/step - loss: 10.7772 - mse: 196.6766\n",
      "Epoch 322/500\n",
      "2/2 [==============================] - 0s 8ms/step - loss: 12.5263 - mse: 250.2517\n",
      "Epoch 323/500\n",
      "2/2 [==============================] - 0s 7ms/step - loss: 17.9874 - mse: 508.3141\n",
      "Epoch 324/500\n",
      "2/2 [==============================] - 0s 7ms/step - loss: 15.9923 - mse: 346.9600\n",
      "Epoch 325/500\n",
      "2/2 [==============================] - 0s 7ms/step - loss: 17.8441 - mse: 512.2995\n",
      "Epoch 326/500\n",
      "2/2 [==============================] - 0s 8ms/step - loss: 23.3658 - mse: 813.3837\n",
      "Epoch 327/500\n",
      "2/2 [==============================] - 0s 8ms/step - loss: 9.8444 - mse: 165.6952\n",
      "Epoch 328/500\n",
      "2/2 [==============================] - 0s 6ms/step - loss: 13.0022 - mse: 244.1223\n",
      "Epoch 329/500\n",
      "2/2 [==============================] - 0s 7ms/step - loss: 17.4263 - mse: 476.5890\n",
      "Epoch 330/500\n",
      "2/2 [==============================] - 0s 8ms/step - loss: 6.1021 - mse: 82.2174\n",
      "Epoch 331/500\n",
      "2/2 [==============================] - 0s 9ms/step - loss: 20.5449 - mse: 632.0019\n",
      "Epoch 332/500\n",
      "2/2 [==============================] - 0s 7ms/step - loss: 10.2746 - mse: 183.9505\n",
      "Epoch 333/500\n",
      "2/2 [==============================] - 0s 8ms/step - loss: 12.9675 - mse: 268.9567\n",
      "Epoch 334/500\n",
      "2/2 [==============================] - 0s 8ms/step - loss: 11.3666 - mse: 219.7245\n",
      "Epoch 335/500\n",
      "2/2 [==============================] - 0s 6ms/step - loss: 13.2405 - mse: 260.1445\n",
      "Epoch 336/500\n",
      "2/2 [==============================] - 0s 6ms/step - loss: 32.5992 - mse: 1455.4973\n",
      "Epoch 337/500\n",
      "2/2 [==============================] - 0s 7ms/step - loss: 11.3928 - mse: 201.7925\n",
      "Epoch 338/500\n",
      "2/2 [==============================] - 0s 8ms/step - loss: 19.8283 - mse: 584.6367\n",
      "Epoch 339/500\n",
      "2/2 [==============================] - 0s 9ms/step - loss: 34.5806 - mse: 1789.1975\n",
      "Epoch 340/500\n",
      "2/2 [==============================] - 0s 8ms/step - loss: 9.8402 - mse: 171.2630\n",
      "Epoch 341/500\n",
      "2/2 [==============================] - 0s 9ms/step - loss: 11.3665 - mse: 214.6744\n",
      "Epoch 342/500\n",
      "2/2 [==============================] - 0s 6ms/step - loss: 16.1143 - mse: 375.4811\n",
      "Epoch 343/500\n",
      "2/2 [==============================] - 0s 8ms/step - loss: 11.9309 - mse: 190.2634\n",
      "Epoch 344/500\n",
      "2/2 [==============================] - 0s 6ms/step - loss: 10.7921 - mse: 270.4999\n",
      "Epoch 345/500\n",
      "2/2 [==============================] - 0s 6ms/step - loss: 30.3528 - mse: 1303.4553\n",
      "Epoch 346/500\n",
      "2/2 [==============================] - 0s 7ms/step - loss: 8.9224 - mse: 225.8548\n",
      "Epoch 347/500\n",
      "2/2 [==============================] - 0s 8ms/step - loss: 25.6423 - mse: 928.2137\n",
      "Epoch 348/500\n",
      "2/2 [==============================] - 0s 8ms/step - loss: 13.0628 - mse: 268.3115\n",
      "Epoch 349/500\n",
      "2/2 [==============================] - 0s 7ms/step - loss: 13.5423 - mse: 257.0312\n",
      "Epoch 350/500\n",
      "2/2 [==============================] - 0s 8ms/step - loss: 15.3738 - mse: 336.4071\n",
      "Epoch 351/500\n",
      "2/2 [==============================] - 0s 7ms/step - loss: 32.9791 - mse: 1529.1575\n",
      "Epoch 352/500\n",
      "2/2 [==============================] - 0s 7ms/step - loss: 14.0415 - mse: 277.5269\n",
      "Epoch 353/500\n",
      "2/2 [==============================] - 0s 7ms/step - loss: 17.6353 - mse: 487.7292\n",
      "Epoch 354/500\n",
      "2/2 [==============================] - 0s 8ms/step - loss: 11.2788 - mse: 233.8736\n",
      "Epoch 355/500\n",
      "2/2 [==============================] - 0s 17ms/step - loss: 26.7330 - mse: 1027.8019\n",
      "Epoch 356/500\n",
      "2/2 [==============================] - 0s 10ms/step - loss: 10.6908 - mse: 209.7369\n",
      "Epoch 357/500\n",
      "2/2 [==============================] - 0s 7ms/step - loss: 10.9119 - mse: 222.9875\n",
      "Epoch 358/500\n",
      "2/2 [==============================] - 0s 6ms/step - loss: 13.8081 - mse: 300.6342\n",
      "Epoch 359/500\n",
      "2/2 [==============================] - 0s 9ms/step - loss: 12.7398 - mse: 290.2837\n",
      "Epoch 360/500\n",
      "2/2 [==============================] - 0s 8ms/step - loss: 22.4401 - mse: 746.8030\n",
      "Epoch 361/500\n",
      "2/2 [==============================] - 0s 7ms/step - loss: 18.3055 - mse: 492.5748\n",
      "Epoch 362/500\n",
      "2/2 [==============================] - 0s 8ms/step - loss: 6.0932 - mse: 71.5208\n",
      "Epoch 363/500\n",
      "2/2 [==============================] - 0s 7ms/step - loss: 23.9586 - mse: 832.0737\n",
      "Epoch 364/500\n",
      "2/2 [==============================] - 0s 9ms/step - loss: 29.6086 - mse: 1271.5881\n",
      "Epoch 365/500\n",
      "2/2 [==============================] - 0s 7ms/step - loss: 7.6998 - mse: 98.6941\n",
      "Epoch 366/500\n",
      "2/2 [==============================] - 0s 9ms/step - loss: 5.4672 - mse: 40.7561\n",
      "Epoch 367/500\n",
      "2/2 [==============================] - 0s 6ms/step - loss: 38.3664 - mse: 2251.6399\n",
      "Epoch 368/500\n",
      "2/2 [==============================] - 0s 7ms/step - loss: 7.4582 - mse: 97.7898\n",
      "Epoch 369/500\n",
      "2/2 [==============================] - 0s 5ms/step - loss: 11.9605 - mse: 230.6293\n",
      "Epoch 370/500\n",
      "2/2 [==============================] - 0s 9ms/step - loss: 10.3577 - mse: 266.7270\n",
      "Epoch 371/500\n",
      "2/2 [==============================] - 0s 8ms/step - loss: 19.3323 - mse: 563.3588\n",
      "Epoch 372/500\n",
      "2/2 [==============================] - 0s 8ms/step - loss: 10.5578 - mse: 302.7023\n",
      "Epoch 373/500\n",
      "2/2 [==============================] - 0s 8ms/step - loss: 24.9268 - mse: 914.4099\n",
      "Epoch 374/500\n",
      "2/2 [==============================] - 0s 9ms/step - loss: 13.5002 - mse: 294.9987\n",
      "Epoch 375/500\n",
      "2/2 [==============================] - 0s 8ms/step - loss: 13.1697 - mse: 243.7526\n",
      "Epoch 376/500\n",
      "2/2 [==============================] - 0s 7ms/step - loss: 14.8918 - mse: 321.4704\n",
      "Epoch 377/500\n",
      "2/2 [==============================] - 0s 7ms/step - loss: 15.9234 - mse: 326.5730\n",
      "Epoch 378/500\n",
      "2/2 [==============================] - 0s 6ms/step - loss: 17.6649 - mse: 491.6482\n",
      "Epoch 379/500\n",
      "2/2 [==============================] - 0s 7ms/step - loss: 36.1117 - mse: 1955.5502\n",
      "Epoch 380/500\n",
      "2/2 [==============================] - 0s 7ms/step - loss: 32.3304 - mse: 1550.6429\n",
      "Epoch 381/500\n",
      "2/2 [==============================] - 0s 6ms/step - loss: 7.0929 - mse: 83.6954\n",
      "Epoch 382/500\n",
      "2/2 [==============================] - 0s 6ms/step - loss: 12.1745 - mse: 251.4340\n",
      "Epoch 383/500\n",
      "2/2 [==============================] - 0s 8ms/step - loss: 8.7637 - mse: 125.5996\n",
      "Epoch 384/500\n",
      "2/2 [==============================] - 0s 7ms/step - loss: 5.9657 - mse: 59.2563\n",
      "Epoch 385/500\n",
      "2/2 [==============================] - 0s 6ms/step - loss: 11.5197 - mse: 286.6347\n",
      "Epoch 386/500\n",
      "2/2 [==============================] - 0s 8ms/step - loss: 18.9790 - mse: 568.8727\n",
      "Epoch 387/500\n",
      "2/2 [==============================] - 0s 7ms/step - loss: 26.6298 - mse: 1029.4319\n",
      "Epoch 388/500\n",
      "2/2 [==============================] - 0s 7ms/step - loss: 10.3100 - mse: 193.6583\n",
      "Epoch 389/500\n",
      "2/2 [==============================] - 0s 7ms/step - loss: 11.1798 - mse: 258.3506\n",
      "Epoch 390/500\n",
      "2/2 [==============================] - 0s 8ms/step - loss: 16.5705 - mse: 416.0536\n",
      "Epoch 391/500\n",
      "2/2 [==============================] - 0s 9ms/step - loss: 16.2986 - mse: 378.1357\n",
      "Epoch 392/500\n",
      "2/2 [==============================] - 0s 8ms/step - loss: 14.7279 - mse: 345.1788\n",
      "Epoch 393/500\n",
      "2/2 [==============================] - 0s 7ms/step - loss: 18.7207 - mse: 561.8285\n",
      "Epoch 394/500\n",
      "2/2 [==============================] - 0s 8ms/step - loss: 26.0811 - mse: 1032.5076\n",
      "Epoch 395/500\n",
      "2/2 [==============================] - 0s 8ms/step - loss: 20.8457 - mse: 618.6774\n",
      "Epoch 396/500\n",
      "2/2 [==============================] - 0s 8ms/step - loss: 9.1789 - mse: 163.7860\n",
      "Epoch 397/500\n",
      "2/2 [==============================] - 0s 8ms/step - loss: 7.6305 - mse: 174.6762\n",
      "Epoch 398/500\n",
      "2/2 [==============================] - 0s 7ms/step - loss: 20.3563 - mse: 642.2267\n",
      "Epoch 399/500\n",
      "2/2 [==============================] - 0s 8ms/step - loss: 23.4586 - mse: 802.9025\n",
      "Epoch 400/500\n",
      "2/2 [==============================] - 0s 9ms/step - loss: 13.2200 - mse: 262.9162\n",
      "Epoch 401/500\n",
      "2/2 [==============================] - 0s 9ms/step - loss: 14.9991 - mse: 292.0029\n",
      "Epoch 402/500\n",
      "2/2 [==============================] - 0s 8ms/step - loss: 24.7895 - mse: 876.9259\n",
      "Epoch 403/500\n",
      "2/2 [==============================] - 0s 7ms/step - loss: 15.4113 - mse: 355.8846\n",
      "Epoch 404/500\n",
      "2/2 [==============================] - 0s 9ms/step - loss: 8.0369 - mse: 145.1549\n",
      "Epoch 405/500\n",
      "2/2 [==============================] - 0s 7ms/step - loss: 9.4503 - mse: 197.9935\n",
      "Epoch 406/500\n",
      "2/2 [==============================] - 0s 8ms/step - loss: 6.3761 - mse: 67.9607\n",
      "Epoch 407/500\n",
      "2/2 [==============================] - 0s 8ms/step - loss: 12.6160 - mse: 276.0667\n",
      "Epoch 408/500\n",
      "2/2 [==============================] - 0s 7ms/step - loss: 4.9341 - mse: 33.7029\n",
      "Epoch 409/500\n",
      "2/2 [==============================] - 0s 9ms/step - loss: 29.1175 - mse: 1285.2886\n",
      "Epoch 410/500\n",
      "2/2 [==============================] - 0s 6ms/step - loss: 10.6743 - mse: 263.8724\n",
      "Epoch 411/500\n",
      "2/2 [==============================] - 0s 8ms/step - loss: 14.3202 - mse: 271.9419\n",
      "Epoch 412/500\n",
      "2/2 [==============================] - 0s 8ms/step - loss: 20.9573 - mse: 682.9289\n",
      "Epoch 413/500\n",
      "2/2 [==============================] - 0s 10ms/step - loss: 14.2099 - mse: 304.3585\n",
      "Epoch 414/500\n",
      "2/2 [==============================] - 0s 9ms/step - loss: 8.7915 - mse: 228.3418\n",
      "Epoch 415/500\n",
      "2/2 [==============================] - 0s 7ms/step - loss: 11.1357 - mse: 285.3109\n",
      "Epoch 416/500\n",
      "2/2 [==============================] - 0s 8ms/step - loss: 24.5724 - mse: 850.6545\n",
      "Epoch 417/500\n",
      "2/2 [==============================] - 0s 7ms/step - loss: 18.8405 - mse: 519.4831\n",
      "Epoch 418/500\n",
      "2/2 [==============================] - 0s 8ms/step - loss: 12.4764 - mse: 233.9513\n",
      "Epoch 419/500\n",
      "2/2 [==============================] - 0s 8ms/step - loss: 15.3261 - mse: 340.0820\n",
      "Epoch 420/500\n",
      "2/2 [==============================] - 0s 8ms/step - loss: 23.8495 - mse: 798.9179\n",
      "Epoch 421/500\n",
      "2/2 [==============================] - 0s 6ms/step - loss: 19.6033 - mse: 549.5165\n",
      "Epoch 422/500\n",
      "2/2 [==============================] - 0s 6ms/step - loss: 2.7856 - mse: 11.2553\n",
      "Epoch 423/500\n",
      "2/2 [==============================] - 0s 8ms/step - loss: 23.0193 - mse: 768.2360\n",
      "Epoch 424/500\n",
      "2/2 [==============================] - 0s 7ms/step - loss: 21.0511 - mse: 641.7163\n",
      "Epoch 425/500\n",
      "2/2 [==============================] - 0s 8ms/step - loss: 11.4588 - mse: 224.2237\n",
      "Epoch 426/500\n",
      "2/2 [==============================] - 0s 9ms/step - loss: 6.9502 - mse: 150.5322\n",
      "Epoch 427/500\n",
      "2/2 [==============================] - 0s 7ms/step - loss: 17.3287 - mse: 483.3342\n",
      "Epoch 428/500\n",
      "2/2 [==============================] - 0s 8ms/step - loss: 12.9380 - mse: 263.3062\n",
      "Epoch 429/500\n",
      "2/2 [==============================] - 0s 7ms/step - loss: 26.5914 - mse: 1025.0670\n",
      "Epoch 430/500\n",
      "2/2 [==============================] - 0s 8ms/step - loss: 15.7459 - mse: 392.3587\n",
      "Epoch 431/500\n",
      "2/2 [==============================] - 0s 6ms/step - loss: 8.9441 - mse: 182.4880\n",
      "Epoch 432/500\n",
      "2/2 [==============================] - 0s 8ms/step - loss: 12.1758 - mse: 270.0832\n",
      "Epoch 433/500\n",
      "2/2 [==============================] - 0s 9ms/step - loss: 12.5873 - mse: 305.8314\n",
      "Epoch 434/500\n",
      "2/2 [==============================] - 0s 7ms/step - loss: 30.4841 - mse: 1306.7891\n",
      "Epoch 435/500\n",
      "2/2 [==============================] - 0s 8ms/step - loss: 11.2570 - mse: 364.3453\n",
      "Epoch 436/500\n",
      "2/2 [==============================] - 0s 9ms/step - loss: 28.1099 - mse: 1161.9287\n",
      "Epoch 437/500\n",
      "2/2 [==============================] - 0s 8ms/step - loss: 2.8557 - mse: 11.0110\n",
      "Epoch 438/500\n",
      "2/2 [==============================] - 0s 8ms/step - loss: 13.0941 - mse: 232.9361\n",
      "Epoch 439/500\n",
      "2/2 [==============================] - 0s 7ms/step - loss: 34.4956 - mse: 1649.0127\n",
      "Epoch 440/500\n",
      "2/2 [==============================] - 0s 8ms/step - loss: 16.0319 - mse: 348.5896\n",
      "Epoch 441/500\n",
      "2/2 [==============================] - 0s 8ms/step - loss: 18.7371 - mse: 562.4120\n",
      "Epoch 442/500\n",
      "2/2 [==============================] - 0s 9ms/step - loss: 25.8408 - mse: 963.5609\n",
      "Epoch 443/500\n",
      "2/2 [==============================] - 0s 7ms/step - loss: 9.4231 - mse: 192.8271\n",
      "Epoch 444/500\n",
      "2/2 [==============================] - 0s 8ms/step - loss: 5.3068 - mse: 61.8282\n",
      "Epoch 445/500\n",
      "2/2 [==============================] - 0s 8ms/step - loss: 9.1375 - mse: 231.2514\n",
      "Epoch 446/500\n",
      "2/2 [==============================] - 0s 8ms/step - loss: 14.9311 - mse: 326.3781\n",
      "Epoch 447/500\n",
      "2/2 [==============================] - 0s 9ms/step - loss: 21.7918 - mse: 737.2686\n",
      "Epoch 448/500\n",
      "2/2 [==============================] - 0s 7ms/step - loss: 9.8537 - mse: 183.1684\n",
      "Epoch 449/500\n",
      "2/2 [==============================] - 0s 7ms/step - loss: 12.4451 - mse: 261.2589\n",
      "Epoch 450/500\n",
      "2/2 [==============================] - 0s 7ms/step - loss: 15.4387 - mse: 339.4309\n",
      "Epoch 451/500\n",
      "2/2 [==============================] - 0s 9ms/step - loss: 17.6653 - mse: 496.7132\n",
      "Epoch 452/500\n",
      "2/2 [==============================] - 0s 8ms/step - loss: 43.7471 - mse: 3317.3782\n",
      "Epoch 453/500\n",
      "2/2 [==============================] - 0s 8ms/step - loss: 25.0054 - mse: 888.5677\n",
      "Epoch 454/500\n",
      "2/2 [==============================] - 0s 7ms/step - loss: 21.1007 - mse: 643.8732\n",
      "Epoch 455/500\n",
      "2/2 [==============================] - 0s 8ms/step - loss: 5.8352 - mse: 59.1093\n",
      "Epoch 456/500\n",
      "2/2 [==============================] - 0s 8ms/step - loss: 8.7349 - mse: 168.9388\n",
      "Epoch 457/500\n",
      "2/2 [==============================] - 0s 8ms/step - loss: 8.8999 - mse: 299.8793\n",
      "Epoch 458/500\n",
      "2/2 [==============================] - 0s 9ms/step - loss: 14.9835 - mse: 307.3568\n",
      "Epoch 459/500\n",
      "2/2 [==============================] - 0s 8ms/step - loss: 27.7553 - mse: 1100.0052\n",
      "Epoch 460/500\n",
      "2/2 [==============================] - 0s 8ms/step - loss: 10.1039 - mse: 197.6070\n",
      "Epoch 461/500\n",
      "2/2 [==============================] - 0s 8ms/step - loss: 13.1983 - mse: 263.7962\n",
      "Epoch 462/500\n",
      "2/2 [==============================] - 0s 9ms/step - loss: 13.7439 - mse: 263.7131\n",
      "Epoch 463/500\n",
      "2/2 [==============================] - 0s 9ms/step - loss: 30.1301 - mse: 1268.6836\n",
      "Epoch 464/500\n",
      "2/2 [==============================] - 0s 9ms/step - loss: 8.5240 - mse: 222.2798\n",
      "Epoch 465/500\n",
      "2/2 [==============================] - 0s 8ms/step - loss: 20.4286 - mse: 647.4064\n",
      "Epoch 466/500\n",
      "2/2 [==============================] - 0s 7ms/step - loss: 27.7795 - mse: 1131.4055\n",
      "Epoch 467/500\n",
      "2/2 [==============================] - 0s 9ms/step - loss: 16.7501 - mse: 407.2650\n",
      "Epoch 468/500\n",
      "2/2 [==============================] - 0s 8ms/step - loss: 10.5639 - mse: 317.1991\n",
      "Epoch 469/500\n",
      "2/2 [==============================] - 0s 8ms/step - loss: 26.7741 - mse: 1011.9133\n",
      "Epoch 470/500\n",
      "2/2 [==============================] - 0s 8ms/step - loss: 13.9414 - mse: 318.0789\n",
      "Epoch 471/500\n",
      "2/2 [==============================] - 0s 9ms/step - loss: 10.6996 - mse: 213.5144\n",
      "Epoch 472/500\n",
      "2/2 [==============================] - 0s 8ms/step - loss: 15.8021 - mse: 365.3343\n",
      "Epoch 473/500\n",
      "2/2 [==============================] - 0s 9ms/step - loss: 16.1163 - mse: 437.4564\n",
      "Epoch 474/500\n",
      "2/2 [==============================] - 0s 9ms/step - loss: 48.3948 - mse: 3779.3823\n",
      "Epoch 475/500\n",
      "2/2 [==============================] - 0s 6ms/step - loss: 22.0736 - mse: 691.7377\n",
      "Epoch 476/500\n",
      "2/2 [==============================] - 0s 7ms/step - loss: 12.6867 - mse: 247.4783\n",
      "Epoch 477/500\n",
      "2/2 [==============================] - 0s 7ms/step - loss: 28.4309 - mse: 1137.2698\n",
      "Epoch 478/500\n",
      "2/2 [==============================] - 0s 17ms/step - loss: 6.4407 - mse: 73.8355\n",
      "Epoch 479/500\n",
      "2/2 [==============================] - 0s 8ms/step - loss: 5.3626 - mse: 57.8977\n",
      "Epoch 480/500\n",
      "2/2 [==============================] - 0s 9ms/step - loss: 18.9415 - mse: 519.1168\n",
      "Epoch 481/500\n",
      "2/2 [==============================] - 0s 10ms/step - loss: 11.1839 - mse: 305.9477\n",
      "Epoch 482/500\n",
      "2/2 [==============================] - 0s 9ms/step - loss: 18.1309 - mse: 547.8823\n",
      "Epoch 483/500\n",
      "2/2 [==============================] - 0s 9ms/step - loss: 20.4980 - mse: 593.6010\n",
      "Epoch 484/500\n",
      "2/2 [==============================] - 0s 8ms/step - loss: 18.5368 - mse: 482.8205\n",
      "Epoch 485/500\n",
      "2/2 [==============================] - 0s 9ms/step - loss: 8.2206 - mse: 238.5212\n",
      "Epoch 486/500\n",
      "2/2 [==============================] - 0s 9ms/step - loss: 18.4815 - mse: 528.1848\n",
      "Epoch 487/500\n",
      "2/2 [==============================] - 0s 8ms/step - loss: 5.6700 - mse: 69.7435\n",
      "Epoch 488/500\n",
      "2/2 [==============================] - 0s 8ms/step - loss: 29.8089 - mse: 1297.5986\n",
      "Epoch 489/500\n",
      "2/2 [==============================] - 0s 9ms/step - loss: 12.6064 - mse: 239.2284\n",
      "Epoch 490/500\n",
      "2/2 [==============================] - 0s 9ms/step - loss: 13.0320 - mse: 246.9443\n",
      "Epoch 491/500\n",
      "2/2 [==============================] - 0s 8ms/step - loss: 24.3297 - mse: 883.2247\n",
      "Epoch 492/500\n",
      "2/2 [==============================] - 0s 9ms/step - loss: 18.7832 - mse: 498.3347\n",
      "Epoch 493/500\n",
      "2/2 [==============================] - 0s 8ms/step - loss: 2.4032 - mse: 8.3509\n",
      "Epoch 494/500\n",
      "2/2 [==============================] - 0s 10ms/step - loss: 11.5036 - mse: 214.8086\n",
      "Epoch 495/500\n",
      "2/2 [==============================] - 0s 8ms/step - loss: 14.1435 - mse: 270.7180\n",
      "Epoch 496/500\n",
      "2/2 [==============================] - 0s 10ms/step - loss: 13.0230 - mse: 244.0488\n",
      "Epoch 497/500\n",
      "2/2 [==============================] - 0s 8ms/step - loss: 18.1586 - mse: 546.5602\n",
      "Epoch 498/500\n",
      "2/2 [==============================] - 0s 8ms/step - loss: 22.3085 - mse: 721.7087\n",
      "Epoch 499/500\n",
      "2/2 [==============================] - 0s 9ms/step - loss: 8.3614 - mse: 113.5695\n",
      "Epoch 500/500\n",
      "2/2 [==============================] - 0s 9ms/step - loss: 14.5782 - mse: 305.3594\n"
     ]
    },
    {
     "data": {
      "text/plain": [
       "<keras.src.callbacks.History at 0x23bbb01dfa0>"
      ]
     },
     "execution_count": 73,
     "metadata": {},
     "output_type": "execute_result"
    }
   ],
   "source": [
    "tf.random.set_seed(42)\n",
    "model_3 = tf.keras.Sequential(\n",
    "\n",
    "\n",
    "[\n",
    "    \n",
    "    tf.keras.layers.Dense(100,input_shape=[1]),\n",
    "    tf.keras.layers.Dense(1)\n",
    "    \n",
    "])\n",
    "\n",
    "model_2.compile(loss = tf.keras.losses.mae , optimizer = tf.keras.optimizers.SGD() , metrics = ['mse'])\n",
    "\n",
    "model_2.fit(x_train , y_train ,epochs = 500)"
   ]
  },
  {
   "cell_type": "code",
   "execution_count": 74,
   "id": "3698adde",
   "metadata": {},
   "outputs": [
    {
     "name": "stdout",
     "output_type": "stream",
     "text": [
      "1/1 [==============================] - 0s 211ms/step\n"
     ]
    }
   ],
   "source": [
    "y_pred3 = model_3.predict(x_test)"
   ]
  },
  {
   "cell_type": "code",
   "execution_count": 75,
   "id": "2fd1641d",
   "metadata": {},
   "outputs": [
    {
     "data": {
      "text/plain": [
       "array([[-1.6231537],\n",
       "       [-1.7313619],\n",
       "       [-1.8395729],\n",
       "       [-1.9477844],\n",
       "       [-2.055997 ],\n",
       "       [-2.1642027],\n",
       "       [-2.272416 ],\n",
       "       [-2.3806229],\n",
       "       [-2.4888363],\n",
       "       [-2.5970426]], dtype=float32)"
      ]
     },
     "execution_count": 75,
     "metadata": {},
     "output_type": "execute_result"
    }
   ],
   "source": [
    "y_pred3"
   ]
  },
  {
   "cell_type": "code",
   "execution_count": 76,
   "id": "21f61cd2",
   "metadata": {},
   "outputs": [
    {
     "data": {
      "image/png": "[encoded data removed]",
      "text/plain": [
       "<Figure size 720x504 with 1 Axes>"
      ]
     },
     "metadata": {
      "needs_background": "light"
     },
     "output_type": "display_data"
    }
   ],
   "source": [
    "plot_predictions(predictions = y_pred3)\n",
    "\n",
    "\n",
    "# here the model is trained for long time this is called overfitting "
   ]
  },
  {
   "cell_type": "code",
   "execution_count": 77,
   "id": "63e311e8",
   "metadata": {},
   "outputs": [
    {
     "data": {
      "text/plain": [
       "(<tf.Tensor: shape=(), dtype=float32, numpy=90.1101>,\n",
       " <tf.Tensor: shape=(), dtype=float32, numpy=8259.068>)"
      ]
     },
     "execution_count": 77,
     "metadata": {},
     "output_type": "execute_result"
    }
   ],
   "source": [
    "mae_3 = mae(y_test , y_pred3)\n",
    "mse_3 = mse(y_test , y_pred3)\n",
    "mae_3 , mse_3"
   ]
  },
  {
   "cell_type": "markdown",
   "id": "d87e1f46",
   "metadata": {},
   "source": [
    "### comparing the results of our experiments "
   ]
  },
  {
   "cell_type": "code",
   "execution_count": 79,
   "id": "52231a43",
   "metadata": {},
   "outputs": [
    {
     "data": {
      "text/html": [
       "<div>\n",
       "<style scoped>\n",
       "    .dataframe tbody tr th:only-of-type {\n",
       "        vertical-align: middle;\n",
       "    }\n",
       "\n",
       "    .dataframe tbody tr th {\n",
       "        vertical-align: top;\n",
       "    }\n",
       "\n",
       "    .dataframe thead th {\n",
       "        text-align: right;\n",
       "    }\n",
       "</style>\n",
       "<table border=\"1\" class=\"dataframe\">\n",
       "  <thead>\n",
       "    <tr style=\"text-align: right;\">\n",
       "      <th></th>\n",
       "      <th>model</th>\n",
       "      <th>mae</th>\n",
       "      <th>mse</th>\n",
       "    </tr>\n",
       "  </thead>\n",
       "  <tbody>\n",
       "    <tr>\n",
       "      <th>0</th>\n",
       "      <td>model_1</td>\n",
       "      <td>tf.Tensor(8.554807, shape=(), dtype=float32)</td>\n",
       "      <td>tf.Tensor(79.656006, shape=(), dtype=float32)</td>\n",
       "    </tr>\n",
       "    <tr>\n",
       "      <th>1</th>\n",
       "      <td>model_2</td>\n",
       "      <td>tf.Tensor(13.1584015, shape=(), dtype=float32)</td>\n",
       "      <td>tf.Tensor(183.07243, shape=(), dtype=float32)</td>\n",
       "    </tr>\n",
       "    <tr>\n",
       "      <th>2</th>\n",
       "      <td>model_3</td>\n",
       "      <td>tf.Tensor(90.1101, shape=(), dtype=float32)</td>\n",
       "      <td>tf.Tensor(8259.068, shape=(), dtype=float32)</td>\n",
       "    </tr>\n",
       "  </tbody>\n",
       "</table>\n",
       "</div>"
      ],
      "text/plain": [
       "      model                                             mae  \\\n",
       "0  model_1     tf.Tensor(8.554807, shape=(), dtype=float32)   \n",
       "1  model_2   tf.Tensor(13.1584015, shape=(), dtype=float32)   \n",
       "2   model_3     tf.Tensor(90.1101, shape=(), dtype=float32)   \n",
       "\n",
       "                                             mse  \n",
       "0  tf.Tensor(79.656006, shape=(), dtype=float32)  \n",
       "1  tf.Tensor(183.07243, shape=(), dtype=float32)  \n",
       "2   tf.Tensor(8259.068, shape=(), dtype=float32)  "
      ]
     },
     "execution_count": 79,
     "metadata": {},
     "output_type": "execute_result"
    }
   ],
   "source": [
    "# lets compare our model results using pandas DataFrame\n",
    "\n",
    "import pandas as pd\n",
    "\n",
    "model_results = [['model_1 ' , mae_1 ,mse_1] , ['model_2 ', mae_2,mse_2] , ['model_3', mae_3 , mse_3]]\n",
    "\n",
    "all_results =pd.DataFrame(model_results , columns = ['model' , 'mae' , 'mse'])\n",
    "\n",
    "all_results"
   ]
  },
  {
   "cell_type": "code",
   "execution_count": 80,
   "id": "65f78ae2",
   "metadata": {},
   "outputs": [
    {
     "data": {
      "text/html": [
       "<div>\n",
       "<style scoped>\n",
       "    .dataframe tbody tr th:only-of-type {\n",
       "        vertical-align: middle;\n",
       "    }\n",
       "\n",
       "    .dataframe tbody tr th {\n",
       "        vertical-align: top;\n",
       "    }\n",
       "\n",
       "    .dataframe thead th {\n",
       "        text-align: right;\n",
       "    }\n",
       "</style>\n",
       "<table border=\"1\" class=\"dataframe\">\n",
       "  <thead>\n",
       "    <tr style=\"text-align: right;\">\n",
       "      <th></th>\n",
       "      <th>model</th>\n",
       "      <th>mae</th>\n",
       "      <th>mse</th>\n",
       "    </tr>\n",
       "  </thead>\n",
       "  <tbody>\n",
       "    <tr>\n",
       "      <th>0</th>\n",
       "      <td>model_1</td>\n",
       "      <td>8.554807</td>\n",
       "      <td>79.656006</td>\n",
       "    </tr>\n",
       "    <tr>\n",
       "      <th>1</th>\n",
       "      <td>model_2</td>\n",
       "      <td>13.158401</td>\n",
       "      <td>183.072433</td>\n",
       "    </tr>\n",
       "    <tr>\n",
       "      <th>2</th>\n",
       "      <td>model_3</td>\n",
       "      <td>90.110100</td>\n",
       "      <td>8259.068359</td>\n",
       "    </tr>\n",
       "  </tbody>\n",
       "</table>\n",
       "</div>"
      ],
      "text/plain": [
       "      model        mae          mse\n",
       "0  model_1    8.554807    79.656006\n",
       "1  model_2   13.158401   183.072433\n",
       "2   model_3  90.110100  8259.068359"
      ]
     },
     "execution_count": 80,
     "metadata": {},
     "output_type": "execute_result"
    }
   ],
   "source": [
    "\n",
    "model_results = [['model_1 ' , mae_1.numpy() ,mse_1.numpy()] , ['model_2 ', mae_2.numpy(),mse_2.numpy()] , ['model_3', mae_3.numpy() , mse_3.numpy()]]\n",
    "\n",
    "all_results =pd.DataFrame(model_results , columns = ['model' , 'mae' , 'mse'])\n",
    "\n",
    "all_results"
   ]
  },
  {
   "cell_type": "code",
   "execution_count": 81,
   "id": "8d84b151",
   "metadata": {},
   "outputs": [
    {
     "name": "stdout",
     "output_type": "stream",
     "text": [
      "Model: \"sequential_5\"\n",
      "_________________________________________________________________\n",
      " Layer (type)                Output Shape              Param #   \n",
      "=================================================================\n",
      " dense_5 (Dense)             (None, 1)                 2         \n",
      "                                                                 \n",
      "=================================================================\n",
      "Total params: 2 (8.00 Byte)\n",
      "Trainable params: 2 (8.00 Byte)\n",
      "Non-trainable params: 0 (0.00 Byte)\n",
      "_________________________________________________________________\n"
     ]
    }
   ],
   "source": [
    "model_1.summary()"
   ]
  },
  {
   "cell_type": "markdown",
   "id": "b6dc2ad3",
   "metadata": {},
   "source": [
    "### tracking your experiments \n",
    "\n",
    "one really good habit in machine learning modelling is to track the results of your experiments ... \n",
    "\n",
    "and when doing so , it can be tedious if you're running lots of experiments \n",
    "\n",
    "luckily there are tools to help us \n",
    "\n",
    "\n",
    "* TensorBoard -- a component of the tensorflow library to help track modelling experiments \n",
    "\n",
    "* weights and biases -- a tool for tracking all kinds of machine learning experiments "
   ]
  },
  {
   "cell_type": "markdown",
   "id": "a9273c8a",
   "metadata": {},
   "source": [
    "### saving our models \n",
    "\n",
    "saving our models allows us to use them outside wherever such as web application or mobile\n",
    "\n",
    "there are 2 main formats to save a model\n",
    "\n",
    "* the SavedModel format\n",
    "\n",
    "* the HDF5 format"
   ]
  },
  {
   "cell_type": "code",
   "execution_count": 82,
   "id": "3453cf04",
   "metadata": {},
   "outputs": [
    {
     "name": "stdout",
     "output_type": "stream",
     "text": [
      "INFO:tensorflow:Assets written to: best_model_SavedModel_format\\assets\n"
     ]
    },
    {
     "name": "stderr",
     "output_type": "stream",
     "text": [
      "INFO:tensorflow:Assets written to: best_model_SavedModel_format\\assets\n"
     ]
    }
   ],
   "source": [
    "# save the model \n",
    "\n",
    "model_1.save('best_model_SavedModel_format')"
   ]
  },
  {
   "cell_type": "markdown",
   "id": "85b3416a",
   "metadata": {},
   "source": [
    "### HDF5 format  (hierarchical data file)"
   ]
  },
  {
   "cell_type": "code",
   "execution_count": 83,
   "id": "d42d7dd8",
   "metadata": {},
   "outputs": [
    {
     "name": "stderr",
     "output_type": "stream",
     "text": [
      "d:\\Users\\Public\\lib\\site-packages\\keras\\src\\engine\\training.py:3079: UserWarning: You are saving your model as an HDF5 file via `model.save()`. This file format is considered legacy. We recommend using instead the native Keras format, e.g. `model.save('my_model.keras')`.\n",
      "  saving_api.save_model(\n"
     ]
    }
   ],
   "source": [
    "model_1.save('best_model_HDF5_format.h5')"
   ]
  },
  {
   "cell_type": "code",
   "execution_count": 84,
   "id": "b57cae6a",
   "metadata": {},
   "outputs": [],
   "source": [
    "model_2.save('my_model.keras.h5')"
   ]
  },
  {
   "cell_type": "markdown",
   "id": "2f1d694e",
   "metadata": {},
   "source": [
    "# loading in a saved model"
   ]
  },
  {
   "cell_type": "code",
   "execution_count": 89,
   "id": "593ed944",
   "metadata": {},
   "outputs": [
    {
     "name": "stdout",
     "output_type": "stream",
     "text": [
      "Model: \"sequential_5\"\n",
      "_________________________________________________________________\n",
      " Layer (type)                Output Shape              Param #   \n",
      "=================================================================\n",
      " dense_5 (Dense)             (None, 1)                 2         \n",
      "                                                                 \n",
      "=================================================================\n",
      "Total params: 2 (8.00 Byte)\n",
      "Trainable params: 2 (8.00 Byte)\n",
      "Non-trainable params: 0 (0.00 Byte)\n",
      "_________________________________________________________________\n"
     ]
    }
   ],
   "source": [
    "# load in the savedmodel format\n",
    "\n",
    "loaded_SavedModel_format = tf.keras.models.load_model('best_model_SavedModel_format')\n",
    "loaded_SavedModel_format.summary()"
   ]
  },
  {
   "cell_type": "code",
   "execution_count": 91,
   "id": "f45615ba",
   "metadata": {},
   "outputs": [
    {
     "name": "stdout",
     "output_type": "stream",
     "text": [
      "1/1 [==============================] - 0s 179ms/step\n",
      "WARNING:tensorflow:5 out of the last 10 calls to <function Model.make_predict_function.<locals>.predict_function at 0x0000023BBC1E4CA0> triggered tf.function retracing. Tracing is expensive and the excessive number of tracings could be due to (1) creating @tf.function repeatedly in a loop, (2) passing tensors with different shapes, (3) passing Python objects instead of tensors. For (1), please define your @tf.function outside of the loop. For (2), @tf.function has reduce_retracing=True option that can avoid unnecessary retracing. For (3), please refer to https://www.tensorflow.org/guide/function#controlling_retracing and https://www.tensorflow.org/api_docs/python/tf/function for  more details.\n"
     ]
    },
    {
     "name": "stderr",
     "output_type": "stream",
     "text": [
      "WARNING:tensorflow:5 out of the last 10 calls to <function Model.make_predict_function.<locals>.predict_function at 0x0000023BBC1E4CA0> triggered tf.function retracing. Tracing is expensive and the excessive number of tracings could be due to (1) creating @tf.function repeatedly in a loop, (2) passing tensors with different shapes, (3) passing Python objects instead of tensors. For (1), please define your @tf.function outside of the loop. For (2), @tf.function has reduce_retracing=True option that can avoid unnecessary retracing. For (3), please refer to https://www.tensorflow.org/guide/function#controlling_retracing and https://www.tensorflow.org/api_docs/python/tf/function for  more details.\n"
     ]
    },
    {
     "name": "stdout",
     "output_type": "stream",
     "text": [
      "1/1 [==============================] - 0s 202ms/step\n"
     ]
    },
    {
     "data": {
      "text/plain": [
       "array([[ True],\n",
       "       [ True],\n",
       "       [ True],\n",
       "       [ True],\n",
       "       [ True],\n",
       "       [ True],\n",
       "       [ True],\n",
       "       [ True],\n",
       "       [ True],\n",
       "       [ True]])"
      ]
     },
     "execution_count": 91,
     "metadata": {},
     "output_type": "execute_result"
    }
   ],
   "source": [
    "# compare model_2 predictions with SavedModel format model predictions\n",
    "\n",
    "model_1_preds = model_1.predict(x_test)\n",
    "\n",
    "loaded_SavedModel_format_preds = loaded_SavedModel_format.predict(x_test)\n",
    "\n",
    "model_1_preds == loaded_SavedModel_format_preds"
   ]
  },
  {
   "cell_type": "code",
   "execution_count": 92,
   "id": "1e5f015a",
   "metadata": {},
   "outputs": [
    {
     "name": "stdout",
     "output_type": "stream",
     "text": [
      "Model: \"sequential_5\"\n",
      "_________________________________________________________________\n",
      " Layer (type)                Output Shape              Param #   \n",
      "=================================================================\n",
      " dense_5 (Dense)             (None, 1)                 2         \n",
      "                                                                 \n",
      "=================================================================\n",
      "Total params: 2 (8.00 Byte)\n",
      "Trainable params: 2 (8.00 Byte)\n",
      "Non-trainable params: 0 (0.00 Byte)\n",
      "_________________________________________________________________\n"
     ]
    }
   ],
   "source": [
    "# load in a model using the .h5 format\n",
    "loaded_h5_format = tf.keras.models.load_model('best_model_HDF5_format.h5')\n",
    "loaded_h5_format.summary()\n"
   ]
  },
  {
   "cell_type": "code",
   "execution_count": 93,
   "id": "6bb2d429",
   "metadata": {},
   "outputs": [
    {
     "name": "stdout",
     "output_type": "stream",
     "text": [
      "1/1 [==============================] - 0s 155ms/step\n",
      "WARNING:tensorflow:6 out of the last 12 calls to <function Model.make_predict_function.<locals>.predict_function at 0x0000023BBC27F1F0> triggered tf.function retracing. Tracing is expensive and the excessive number of tracings could be due to (1) creating @tf.function repeatedly in a loop, (2) passing tensors with different shapes, (3) passing Python objects instead of tensors. For (1), please define your @tf.function outside of the loop. For (2), @tf.function has reduce_retracing=True option that can avoid unnecessary retracing. For (3), please refer to https://www.tensorflow.org/guide/function#controlling_retracing and https://www.tensorflow.org/api_docs/python/tf/function for  more details.\n"
     ]
    },
    {
     "name": "stderr",
     "output_type": "stream",
     "text": [
      "WARNING:tensorflow:6 out of the last 12 calls to <function Model.make_predict_function.<locals>.predict_function at 0x0000023BBC27F1F0> triggered tf.function retracing. Tracing is expensive and the excessive number of tracings could be due to (1) creating @tf.function repeatedly in a loop, (2) passing tensors with different shapes, (3) passing Python objects instead of tensors. For (1), please define your @tf.function outside of the loop. For (2), @tf.function has reduce_retracing=True option that can avoid unnecessary retracing. For (3), please refer to https://www.tensorflow.org/guide/function#controlling_retracing and https://www.tensorflow.org/api_docs/python/tf/function for  more details.\n"
     ]
    },
    {
     "name": "stdout",
     "output_type": "stream",
     "text": [
      "1/1 [==============================] - 0s 203ms/step\n"
     ]
    },
    {
     "data": {
      "text/plain": [
       "array([[ True],\n",
       "       [ True],\n",
       "       [ True],\n",
       "       [ True],\n",
       "       [ True],\n",
       "       [ True],\n",
       "       [ True],\n",
       "       [ True],\n",
       "       [ True],\n",
       "       [ True]])"
      ]
     },
     "execution_count": 93,
     "metadata": {},
     "output_type": "execute_result"
    }
   ],
   "source": [
    "# compare model_2 predictions with .h5 format model predictions\n",
    "\n",
    "\n",
    "model_1_preds1 = model_1.predict(x_test)\n",
    "\n",
    "loaded_h5_format_preds = loaded_h5_format.predict(x_test)\n",
    "\n",
    "model_1_preds1 == loaded_SavedModel_format_preds"
   ]
  },
  {
   "cell_type": "markdown",
   "id": "0853c25e",
   "metadata": {},
   "source": [
    "\n"
   ]
  },
  {
   "cell_type": "code",
   "execution_count": null,
   "id": "bf4e06e1",
   "metadata": {},
   "outputs": [],
   "source": []
  }
 ],
 "metadata": {
  "kernelspec": {
   "display_name": "Python 3 (ipykernel)",
   "language": "python",
   "name": "python3"
  },
  "language_info": {
   "codemirror_mode": {
    "name": "ipython",
    "version": 3
   },
   "file_extension": ".py",
   "mimetype": "text/x-python",
   "name": "python",
   "nbconvert_exporter": "python",
   "pygments_lexer": "ipython3",
   "version": "3.9.7"
  }
 },
 "nbformat": 4,
 "nbformat_minor": 5
}
